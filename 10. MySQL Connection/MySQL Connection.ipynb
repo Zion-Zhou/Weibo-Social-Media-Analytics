{
 "cells": [
  {
   "cell_type": "code",
   "execution_count": 1,
   "metadata": {},
   "outputs": [],
   "source": [
    "import pymysql\n",
    "from sqlalchemy import create_engine\n",
    "import pandas as pd\n",
    "from tqdm import tqdm\n",
    "import re"
   ]
  },
  {
   "cell_type": "code",
   "execution_count": 2,
   "metadata": {},
   "outputs": [],
   "source": [
    "def connMySQL():\n",
    "    conn = pymysql.connect('localhost', 'root', '123jimmyD', 'makeup')\n",
    "    conn.autocommit(1)\n",
    "    cur = conn.cursor()\n",
    "    return cur"
   ]
  },
  {
   "cell_type": "code",
   "execution_count": 3,
   "metadata": {},
   "outputs": [],
   "source": [
    "def remove_special_char(text):\n",
    "    try:\n",
    "        text = re.sub(r'[^a-zA-Z0-9\\u4e00-\\u9fff]' , '',text)\n",
    "    except:\n",
    "        pass\n",
    "    return text"
   ]
  },
  {
   "cell_type": "markdown",
   "metadata": {},
   "source": [
    "# Blogger List"
   ]
  },
  {
   "cell_type": "code",
   "execution_count": 4,
   "metadata": {},
   "outputs": [],
   "source": [
    "df = pd.read_csv('finalized_2788bloggers.csv')"
   ]
  },
  {
   "cell_type": "code",
   "execution_count": 5,
   "metadata": {},
   "outputs": [
    {
     "name": "stderr",
     "output_type": "stream",
     "text": [
      "C:\\Users\\panji\\Anaconda3\\lib\\site-packages\\pymysql\\cursors.py:170: Warning: (1681, 'Integer display width is deprecated and will be removed in a future release.')\n",
      "  result = self._query(query)\n"
     ]
    },
    {
     "data": {
      "text/plain": [
       "0"
      ]
     },
     "execution_count": 5,
     "metadata": {},
     "output_type": "execute_result"
    }
   ],
   "source": [
    "#Create table\n",
    "connMySQL().execute('''\n",
    "                        create table bloggers \n",
    "                        (id int(10) not null, \n",
    "                        blogger_name varchar(50), \n",
    "                        blogger_id varchar(11), \n",
    "                        blogger_gender varchar(6), \n",
    "                        blogger_region varchar(6), \n",
    "                        blogger_tag varchar(100), \n",
    "                        blogger_follows int(6), \n",
    "                        blogger_fans int(9), \n",
    "                        blogger_posts int(7), \n",
    "                        primary key (id))\n",
    "                        ''')"
   ]
  },
  {
   "cell_type": "code",
   "execution_count": 6,
   "metadata": {},
   "outputs": [],
   "source": [
    "#store data\n",
    "for i in df.index:\n",
    "    row = df.iloc[i]\n",
    "    connMySQL().execute('insert into bloggers (id,blogger_name,blogger_id, blogger_gender, blogger_region,blogger_tag,blogger_follows,blogger_fans, blogger_posts) values (%s,%s,%s,%s,%s,%s,%s,%s,%s)',\n",
    "                        (int(row[0]),row[1],str(row[2]),row[3], remove_special_char(str(row[4])),remove_special_char(str(row[5])), int(row[6]),int(row[7]),int(row[8])))"
   ]
  },
  {
   "cell_type": "markdown",
   "metadata": {},
   "source": [
    "# Post List"
   ]
  },
  {
   "cell_type": "code",
   "execution_count": 7,
   "metadata": {},
   "outputs": [
    {
     "data": {
      "text/plain": [
       "0"
      ]
     },
     "execution_count": 7,
     "metadata": {},
     "output_type": "execute_result"
    }
   ],
   "source": [
    "#Create table\n",
    "posts = '''\n",
    "                  CREATE TABLE posts\n",
    "                  (post_id VARCHAR(20) NOT NULL,\n",
    "                   blogger_id bigint(15) NOT NULL,\n",
    "                   post VARCHAR(10000) DEFAULT NULL,\n",
    "                   picture VARCHAR(1200) DEFAULT NULL,\n",
    "                   video VARCHAR(1000) DEFAULT NULL,\n",
    "                   date VARCHAR(10) DEFAULT NULL,\n",
    "                   no_likes INT(10) DEFAULT NULL,\n",
    "                   no_comments INT(10) DEFAULT NULL,\n",
    "                   no_reposts INT(10) DEFAULT NULL,\n",
    "                   no_topics VARCHAR(500) DEFAULT NULL,\n",
    "                   no_related_accounts VARCHAR(1250) DEFAULT NULL,\n",
    "                   PRIMARY KEY (post_id))\n",
    "              '''\n",
    "connMySQL().execute(posts)"
   ]
  },
  {
   "cell_type": "code",
   "execution_count": null,
   "metadata": {},
   "outputs": [],
   "source": [
    "#Store data\n",
    "try:   \n",
    "    cur = connMySQL()\n",
    "    for i in tqdm(range(0,14)):\n",
    "        lstpath = 'uid_list/uid_list'+str(i)+'.csv'\n",
    "        uid_list = pd.read_csv(lstpath, header = None)[0].tolist()\n",
    "        for uid in uid_list:\n",
    "            inpath = 'post/' + str(i) + '/' + str(uid) + '/'+ str(uid) + '.csv'\n",
    "            try:\n",
    "                posts = pd.read_csv(inpath)\n",
    "            except Exception as e :\n",
    "                print(e)\n",
    "                continue\n",
    "            posts = posts.astype(object).where(pd.notnull(posts), None)\n",
    "            for k in range(len(posts)):\n",
    "                post =  remove_special_char(posts['正文'][k])\n",
    "                no_topics = remove_special_char(posts['话题'][k])\n",
    "                related_accounts = remove_special_char(posts['@用户'][k])\n",
    "                try:\n",
    "                    cur.execute('INSERT INTO posts (post_id,blogger_id,post,picture,video,date,no_likes,no_comments,no_reposts,no_topics,no_related_accounts) VALUES (%s, %s, %s, %s, %s, %s, %s, %s, %s, %s, %s)',\n",
    "                                (posts['bid'][k], str(uid), post, posts['原始图片url'][k], posts['视频url'][k], posts['日期'][k], int(posts['点赞数'][k]), int(posts['评论数'][k]),int(posts['转发数'][k]),no_topics,related_accounts))\n",
    "                except Exception as e:\n",
    "                    if 'Duplicate' not in str(e):\n",
    "                        print(e,i,uid,k)\n",
    "                    continue\n",
    "except Exception as e:\n",
    "    print(e,i,uid,k)"
   ]
  },
  {
   "cell_type": "markdown",
   "metadata": {},
   "source": [
    "# Old Brand List"
   ]
  },
  {
   "cell_type": "code",
   "execution_count": 10,
   "metadata": {},
   "outputs": [],
   "source": [
    "df = pd.read_csv('filtered_brands_df.csv',header = None,names = ['name', 'indx'])"
   ]
  },
  {
   "cell_type": "code",
   "execution_count": 11,
   "metadata": {},
   "outputs": [],
   "source": [
    "dic = dict()\n",
    "for i in range(3380):\n",
    "    try:\n",
    "        lst = list()\n",
    "        for j in df[df.indx==i]['name']:\n",
    "            lst.append(j)\n",
    "        dic[i] = {'name':lst}\n",
    "    except:\n",
    "        continue"
   ]
  },
  {
   "cell_type": "code",
   "execution_count": 12,
   "metadata": {},
   "outputs": [],
   "source": [
    "brand = pd.DataFrame(dic).T\n",
    "brand['index'] = brand.index"
   ]
  },
  {
   "cell_type": "code",
   "execution_count": 13,
   "metadata": {},
   "outputs": [
    {
     "data": {
      "text/plain": [
       "0"
      ]
     },
     "execution_count": 13,
     "metadata": {},
     "output_type": "execute_result"
    }
   ],
   "source": [
    "#Create table\n",
    "connMySQL().execute('''\n",
    "                        create table old_brands \n",
    "                        (brand_id int(5) not null, \n",
    "                        name varchar(100),\n",
    "                        primary key (brand_id))\n",
    "                        ''')"
   ]
  },
  {
   "cell_type": "code",
   "execution_count": 14,
   "metadata": {},
   "outputs": [],
   "source": [
    "#store data\n",
    "for i in brand.index:\n",
    "    row = brand.iloc[i]\n",
    "    connMySQL().execute('insert into old_brands (brand_id,name) values (%s,%s)',\n",
    "                        (int(row[1]),str(row[0])))"
   ]
  },
  {
   "cell_type": "markdown",
   "metadata": {},
   "source": [
    "# Product not cleaned List"
   ]
  },
  {
   "cell_type": "code",
   "execution_count": 15,
   "metadata": {},
   "outputs": [
    {
     "data": {
      "text/plain": [
       "0"
      ]
     },
     "execution_count": 15,
     "metadata": {},
     "output_type": "execute_result"
    }
   ],
   "source": [
    "connMySQL().execute('''\n",
    "                        create table products_notcleaned \n",
    "                        (blogger_id varchar(20) DEFAULT NULL, \n",
    "                        post_id varchar(10), \n",
    "                        post varchar(10000) DEFAULT NULL, \n",
    "                        picture varchar(1200) DEFAULT NULL, \n",
    "                        video varchar(1000) DEFAULT NULL, \n",
    "                        position varchar(500) DEFAULT NULL, \n",
    "                        date varchar(10) DEFAULT NULL, \n",
    "                        tool varchar(100) DEFAULT NULL, \n",
    "                        no_likes int(10) DEFAULT NULL, \n",
    "                        no_comments int(10) DEFAULT NULL, \n",
    "                        no_reposts int(10) DEFAULT NULL, \n",
    "                        no_topics varchar(1000) DEFAULT NULL,\n",
    "                        no_related_accounts varchar(1250) DEFAULT NULL, \n",
    "                        product varchar(500), \n",
    "                        brand_id int(5) DEFAULT NULL, \n",
    "                        primary key (post_id))\n",
    "                        ''')"
   ]
  },
  {
   "cell_type": "code",
   "execution_count": null,
   "metadata": {},
   "outputs": [],
   "source": [
    "import os\n",
    "for i in tqdm(range(14)):#0-14\n",
    "    path = \"product_name/\"+str(i) #文件夹目录\n",
    "    files= os.listdir(path) #得到文件夹下的所有文件名称\n",
    "    for file in files: #遍历文件夹\n",
    "        if file.startswith('._'):\n",
    "            continue\n",
    "        id = file.split('_')[0]\n",
    "        df = pd.read_csv(path+\"/\"+file) #打开文件\n",
    "              \n",
    "        for i in df.index:\n",
    "            row = df.iloc[i]\n",
    "            \n",
    "            try:\n",
    "                connMySQL().execute('INSERT INTO products_notcleaned (blogger_id, post_id, post, picture,video, position,date, tool,no_likes, no_comments, no_reposts, no_topics, no_related_accounts,product, brand_id) VALUES (%s,%s,%s,%s,%s,%s,%s,%s,%s,%s,%s,%s,%s,%s,%s)',\n",
    "                                (id,remove_special_char(str(row[1])), row[2],str(row[3]),str(row[4]),str(row[5]), row[6], str(row[7]),int(row[8]), int(row[9]), int(row[10]),str(row[11]), str(row[12]),remove_special_char(str(row[13])),str(row[14])))\n",
    "            except Exception as e:\n",
    "                if 'Duplicate' not in str(e):\n",
    "                    print(id,row,e)\n",
    "                continue"
   ]
  },
  {
   "cell_type": "markdown",
   "metadata": {},
   "source": [
    "# Product List"
   ]
  },
  {
   "cell_type": "code",
   "execution_count": 16,
   "metadata": {},
   "outputs": [
    {
     "data": {
      "text/plain": [
       "0"
      ]
     },
     "execution_count": 16,
     "metadata": {},
     "output_type": "execute_result"
    }
   ],
   "source": [
    "connMySQL().execute( '''\n",
    "                    CREATE TABLE products\n",
    "                    (prod_url VARCHAR(500) NOT NULL,\n",
    "                     post_id VARCHAR(20) NOT NULL,\n",
    "                     prod_name VARCHAR(50) NOT NULL,\n",
    "                     brand_name VARCHAR(50) NOT NULL,\n",
    "                     price INT(10) DEFAULT NULL, \n",
    "                     popularity INT(10) DEFAULT NULL,\n",
    "                     score FLOAT DEFAULT NULL,\n",
    "                     pos_tag VARCHAR(100) DEFAULT NULL,\n",
    "                     neg_tag VARCHAR(100) DEFAULT NULL)\n",
    "    \n",
    "                 ''')"
   ]
  },
  {
   "cell_type": "code",
   "execution_count": null,
   "metadata": {},
   "outputs": [],
   "source": [
    "cur = connMySQL()\n",
    "for i in tqdm(range(0,14)):\n",
    "    path = 'cleaned_product_info/result_uid'+str(i)+'.csv'\n",
    "    product = pd.read_csv(path)\n",
    "    product = product.astype(object).where(pd.notnull(product), None)\n",
    "    for k in range(len(product)):\n",
    "        try:\n",
    "            product_price = product['price'][k]\n",
    "            if '-' in str(product_price):\n",
    "                prices_lst = product_price.split('-')\n",
    "                product_price = (float(prices_lst[0])+float(prices_lst[1]))/2\n",
    "            cur.execute('INSERT INTO products (prod_url,post_id,prod_name,brand_name,price,popularity,score,pos_tag,neg_tag)VALUES (%s, %s, %s, %s, %s, %s, %s, %s, %s)', (product['url'][k], product['bid'][k], product['name'][k], product['brand'][k], int(float(product_price)), int(float(product['popularity'][k])), float(product['score'][k]), str(product['posi'][k]), str(product['neg'][k])))\n",
    "        except Exception as e:\n",
    "            if 'Duplicate' not in str(e):\n",
    "                print(e,i,k)\n",
    "            continue"
   ]
  },
  {
   "cell_type": "markdown",
   "metadata": {},
   "source": [
    "# New Brand List"
   ]
  },
  {
   "cell_type": "code",
   "execution_count": 38,
   "metadata": {},
   "outputs": [],
   "source": [
    "brand_data = pd.read_csv('brand_data_final.csv')\n",
    "brand_data = brand_data.astype(object).where(pd.notnull(brand_data), None)"
   ]
  },
  {
   "cell_type": "code",
   "execution_count": 20,
   "metadata": {},
   "outputs": [
    {
     "data": {
      "text/plain": [
       "0"
      ]
     },
     "execution_count": 20,
     "metadata": {},
     "output_type": "execute_result"
    }
   ],
   "source": [
    "connMySQL().execute( '''\n",
    "                    CREATE TABLE brands\n",
    "                  (brand_id INT(10) NOT NULL, \n",
    "                   brand_name VARCHAR(50) NOT NULL,\n",
    "                   brand_gender VARCHAR(10) DEFAULT NULL, \n",
    "                   brand_region VARCHAR(5) DEFAULT NULL, \n",
    "                   brand_tag VARCHAR(100) DEFAULT NULL, \n",
    "                   brand_follows VARCHAR(20) DEFAULT NULL, \n",
    "                   brand_fans VARCHAR(20) DEFAULT NULL, \n",
    "                   brand_posts VARCHAR(20) DEFAULT NULL,\n",
    "                   brand_baidu_idx INT(10) DEFAULT NULL,\n",
    "                   PRIMARY KEY (brand_id))\n",
    "\n",
    "                 ''')"
   ]
  },
  {
   "cell_type": "code",
   "execution_count": 39,
   "metadata": {},
   "outputs": [
    {
     "data": {
      "text/html": [
       "<div>\n",
       "<style scoped>\n",
       "    .dataframe tbody tr th:only-of-type {\n",
       "        vertical-align: middle;\n",
       "    }\n",
       "\n",
       "    .dataframe tbody tr th {\n",
       "        vertical-align: top;\n",
       "    }\n",
       "\n",
       "    .dataframe thead th {\n",
       "        text-align: right;\n",
       "    }\n",
       "</style>\n",
       "<table border=\"1\" class=\"dataframe\">\n",
       "  <thead>\n",
       "    <tr style=\"text-align: right;\">\n",
       "      <th></th>\n",
       "      <th>Unnamed: 0</th>\n",
       "      <th>name</th>\n",
       "      <th>uid</th>\n",
       "      <th>gender</th>\n",
       "      <th>region</th>\n",
       "      <th>tag</th>\n",
       "      <th>follows</th>\n",
       "      <th>fans</th>\n",
       "      <th>posts</th>\n",
       "      <th>brandsCN</th>\n",
       "      <th>brandsEN</th>\n",
       "      <th>brand</th>\n",
       "      <th>hot_topic</th>\n",
       "    </tr>\n",
       "  </thead>\n",
       "  <tbody>\n",
       "    <tr>\n",
       "      <th>0</th>\n",
       "      <td>0</td>\n",
       "      <td>井田志Gridnote</td>\n",
       "      <td>5619422243</td>\n",
       "      <td>male</td>\n",
       "      <td>北京</td>\n",
       "      <td>原本一生（北京）商业有限公司</td>\n",
       "      <td>363</td>\n",
       "      <td>3487</td>\n",
       "      <td>494</td>\n",
       "      <td>井田</td>\n",
       "      <td>CANMAKE</td>\n",
       "      <td>canmake/井田</td>\n",
       "      <td>1</td>\n",
       "    </tr>\n",
       "    <tr>\n",
       "      <th>1</th>\n",
       "      <td>1</td>\n",
       "      <td>宝拉珍选PaulasChoice</td>\n",
       "      <td>2040921197</td>\n",
       "      <td>female</td>\n",
       "      <td>上海</td>\n",
       "      <td>美国宝拉珍选化妆品官方微博</td>\n",
       "      <td>271</td>\n",
       "      <td>260000</td>\n",
       "      <td>7286</td>\n",
       "      <td>宝拉珍选</td>\n",
       "      <td>PAULA‘S CHOICE</td>\n",
       "      <td>Paula‘s Choice/宝拉珍选</td>\n",
       "      <td>0</td>\n",
       "    </tr>\n",
       "    <tr>\n",
       "      <th>2</th>\n",
       "      <td>2</td>\n",
       "      <td>理肤泉larocheposay</td>\n",
       "      <td>2051652844</td>\n",
       "      <td>female</td>\n",
       "      <td>海外</td>\n",
       "      <td>理肤泉larocheposay, 官方微博</td>\n",
       "      <td>68</td>\n",
       "      <td>200000</td>\n",
       "      <td>6883</td>\n",
       "      <td>理肤泉</td>\n",
       "      <td>LAROCHE POSAY</td>\n",
       "      <td>Laroche Posay/理肤泉</td>\n",
       "      <td>1</td>\n",
       "    </tr>\n",
       "    <tr>\n",
       "      <th>3</th>\n",
       "      <td>3</td>\n",
       "      <td>红门雅顿</td>\n",
       "      <td>1791154147</td>\n",
       "      <td>female</td>\n",
       "      <td>海外</td>\n",
       "      <td>伊丽莎白雅顿官方微博</td>\n",
       "      <td>268</td>\n",
       "      <td>250000</td>\n",
       "      <td>10000</td>\n",
       "      <td>雅顿</td>\n",
       "      <td>ELIZABETH ARDEN</td>\n",
       "      <td>Elizabeth Arden/雅顿</td>\n",
       "      <td>0</td>\n",
       "    </tr>\n",
       "    <tr>\n",
       "      <th>4</th>\n",
       "      <td>4</td>\n",
       "      <td>Curel珂润</td>\n",
       "      <td>2460538310</td>\n",
       "      <td>female</td>\n",
       "      <td>海外</td>\n",
       "      <td>花王Curel珂润官方微博</td>\n",
       "      <td>149</td>\n",
       "      <td>60000</td>\n",
       "      <td>6928</td>\n",
       "      <td>珂润</td>\n",
       "      <td>CUREL</td>\n",
       "      <td>Curel/珂润</td>\n",
       "      <td>0</td>\n",
       "    </tr>\n",
       "  </tbody>\n",
       "</table>\n",
       "</div>"
      ],
      "text/plain": [
       "  Unnamed: 0              name         uid  gender region  \\\n",
       "0          0       井田志Gridnote  5619422243    male     北京   \n",
       "1          1  宝拉珍选PaulasChoice  2040921197  female     上海   \n",
       "2          2   理肤泉larocheposay  2051652844  female     海外   \n",
       "3          3              红门雅顿  1791154147  female     海外   \n",
       "4          4           Curel珂润  2460538310  female     海外   \n",
       "\n",
       "                     tag follows    fans  posts brandsCN         brandsEN  \\\n",
       "0         原本一生（北京）商业有限公司     363    3487    494       井田          CANMAKE   \n",
       "1          美国宝拉珍选化妆品官方微博     271  260000   7286     宝拉珍选   PAULA‘S CHOICE   \n",
       "2  理肤泉larocheposay, 官方微博      68  200000   6883      理肤泉    LAROCHE POSAY   \n",
       "3             伊丽莎白雅顿官方微博     268  250000  10000       雅顿  ELIZABETH ARDEN   \n",
       "4          花王Curel珂润官方微博     149   60000   6928       珂润            CUREL   \n",
       "\n",
       "                 brand hot_topic  \n",
       "0           canmake/井田         1  \n",
       "1  Paula‘s Choice/宝拉珍选         0  \n",
       "2    Laroche Posay/理肤泉         1  \n",
       "3   Elizabeth Arden/雅顿         0  \n",
       "4             Curel/珂润         0  "
      ]
     },
     "execution_count": 39,
     "metadata": {},
     "output_type": "execute_result"
    }
   ],
   "source": [
    "brand_data.head()\n",
    "brand_data.drop"
   ]
  },
  {
   "cell_type": "code",
   "execution_count": null,
   "metadata": {},
   "outputs": [],
   "source": [
    "try:   \n",
    "    cur = connMySQL()\n",
    "    for i in tqdm(range(len(brand_data))):\n",
    "        try:\n",
    "            cur.execute('INSERT INTO brands (brand_id,brand_name,brand_gender,brand_region,brand_tag,brand_follows,brand_fans,brand_posts,brandsCN,brandsEN,brand,hot_topic) VALUES (%s, %s, %s, %s, %s, %s, %s, %s, %s, %s, %s, %s)',\n",
    "                        (int(brand_data['uid'][i]), brand_data['name'][i], brand_data['gender'][i], brand_data['region'][i], brand_data['tag'][i], int(brand_data['follows'][i]), int(brand_data['fans'][i]), int(brand_data['posts'][i]),brand_data['brandsCN'][i],brand_data['brandsEN'][i],brand_data['brand'][i],int(brand_data['hot_topic'][i])))\n",
    "        except Exception as e:\n",
    "            if 'Duplicate' not in str(e):\n",
    "                print(e,i)\n",
    "            continue\n",
    "except Exception as e:\n",
    "    print(e)"
   ]
  },
  {
   "cell_type": "code",
   "execution_count": null,
   "metadata": {},
   "outputs": [],
   "source": []
  }
 ],
 "metadata": {
  "kernelspec": {
   "display_name": "Python 3",
   "language": "python",
   "name": "python3"
  },
  "language_info": {
   "codemirror_mode": {
    "name": "ipython",
    "version": 3
   },
   "file_extension": ".py",
   "mimetype": "text/x-python",
   "name": "python",
   "nbconvert_exporter": "python",
   "pygments_lexer": "ipython3",
   "version": "3.7.3"
  }
 },
 "nbformat": 4,
 "nbformat_minor": 2
}

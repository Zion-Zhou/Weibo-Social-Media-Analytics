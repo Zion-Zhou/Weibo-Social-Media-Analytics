{
 "cells": [
  {
   "cell_type": "code",
   "execution_count": 1,
   "metadata": {},
   "outputs": [],
   "source": [
    "from get_index import BaiduIndex\n",
    "import pandas as pd\n",
    "from tqdm import tqdm"
   ]
  },
  {
   "cell_type": "code",
   "execution_count": 5,
   "metadata": {},
   "outputs": [],
   "source": [
    "# finalized brands: 624\n",
    "df = pd.read_csv('624brands.csv')\n",
    "Ch, En = list(df['brandsCN']), list(df['brandsEN'])"
   ]
  },
  {
   "cell_type": "code",
   "execution_count": 6,
   "metadata": {},
   "outputs": [],
   "source": [
    "def get_mean_index_cn(word):\n",
    "    try:\n",
    "        baidu_index_c = BaiduIndex([word], '2019-01-01', '2020-01-01').get_index()\n",
    "        ci = 0\n",
    "        for idx in baidu_index_c:\n",
    "            ci += int(idx['index'])\n",
    "    except:\n",
    "        ci = 0\n",
    "    return ci\n",
    "\n",
    "def get_mean_index_en(word):\n",
    "    try:\n",
    "        baidu_index_c = BaiduIndex([word], '2019-01-01', '2020-01-01').get_index()\n",
    "        ei = 0\n",
    "        for idx in baidu_index_c:\n",
    "            ei += int(idx['index'])\n",
    "    except:\n",
    "        ei = 0\n",
    "    return ei"
   ]
  },
  {
   "cell_type": "code",
   "execution_count": null,
   "metadata": {},
   "outputs": [],
   "source": [
    "index_list = []\n",
    "\n",
    "for i in tqdm(range(len(df))):\n",
    "    cn = Ch[i]\n",
    "    en = En[i]\n",
    "    if pd.isnull(cn):\n",
    "        ci = 0\n",
    "    else:\n",
    "        ci = get_mean_index_cn(cn)\n",
    "    if pd.isnull(en):\n",
    "        ei = 0\n",
    "    else:\n",
    "        ei = get_mean_index_en(en)\n",
    "    if (ci+ei) == 0:\n",
    "        index_list.append([cn,en])\n",
    "    else:\n",
    "        higher = max(ci,ei)\n",
    "        index_list.append(higher/366)\n",
    "        \n",
    "print(index_list)"
   ]
  },
  {
   "cell_type": "code",
   "execution_count": null,
   "metadata": {},
   "outputs": [],
   "source": [
    "df['BaiduIndex'] = index_lst\n",
    "df.to_csv('624brands_with_index.csv')"
   ]
  }
 ],
 "metadata": {
  "kernelspec": {
   "display_name": "Python 3",
   "language": "python",
   "name": "python3"
  },
  "language_info": {
   "codemirror_mode": {
    "name": "ipython",
    "version": 3
   },
   "file_extension": ".py",
   "mimetype": "text/x-python",
   "name": "python",
   "nbconvert_exporter": "python",
   "pygments_lexer": "ipython3",
   "version": "3.7.3"
  }
 },
 "nbformat": 4,
 "nbformat_minor": 2
}

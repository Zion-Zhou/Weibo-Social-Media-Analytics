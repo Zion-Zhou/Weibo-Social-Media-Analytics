{
 "cells": [
  {
   "cell_type": "markdown",
   "metadata": {},
   "source": [
    "# Data Preprocessing"
   ]
  },
  {
   "cell_type": "code",
   "execution_count": 119,
   "metadata": {},
   "outputs": [],
   "source": [
    "import pandas as pd\n",
    "import numpy as np\n",
    "import re\n",
    "import jieba\n",
    "\n",
    "# visualisation\n",
    "import seaborn as sns \n",
    "import matplotlib.pyplot as plt\n",
    "%matplotlib inline \n",
    "sns.set(color_codes = True)\n",
    "\n",
    "# k-means clustering\n",
    "from sklearn.cluster import KMeans"
   ]
  },
  {
   "cell_type": "code",
   "execution_count": 120,
   "metadata": {},
   "outputs": [],
   "source": [
    "from IPython.core.interactiveshell import InteractiveShell \n",
    "InteractiveShell.ast_node_interactivity = 'all'"
   ]
  },
  {
   "cell_type": "markdown",
   "metadata": {},
   "source": [
    "## Load Data"
   ]
  },
  {
   "cell_type": "code",
   "execution_count": 83,
   "metadata": {},
   "outputs": [
    {
     "data": {
      "text/html": [
       "<div>\n",
       "<style scoped>\n",
       "    .dataframe tbody tr th:only-of-type {\n",
       "        vertical-align: middle;\n",
       "    }\n",
       "\n",
       "    .dataframe tbody tr th {\n",
       "        vertical-align: top;\n",
       "    }\n",
       "\n",
       "    .dataframe thead th {\n",
       "        text-align: right;\n",
       "    }\n",
       "</style>\n",
       "<table border=\"1\" class=\"dataframe\">\n",
       "  <thead>\n",
       "    <tr style=\"text-align: right;\">\n",
       "      <th></th>\n",
       "      <th>blogger_name</th>\n",
       "      <th>blogger_id</th>\n",
       "      <th>blogger_gender</th>\n",
       "      <th>blogger_region</th>\n",
       "      <th>blogger_tag</th>\n",
       "      <th>blogger_follows</th>\n",
       "      <th>blogger_fans</th>\n",
       "      <th>blogger_posts</th>\n",
       "      <th>brand_uid</th>\n",
       "      <th>brand_blog_name</th>\n",
       "      <th>...</th>\n",
       "      <th>no_likes</th>\n",
       "      <th>no_comments</th>\n",
       "      <th>no_reposts</th>\n",
       "      <th>no_topics</th>\n",
       "      <th>no_related_accounts</th>\n",
       "      <th>product</th>\n",
       "      <th>prod_url</th>\n",
       "      <th>product_price</th>\n",
       "      <th>product_popularity</th>\n",
       "      <th>produc_score</th>\n",
       "    </tr>\n",
       "  </thead>\n",
       "  <tbody>\n",
       "    <tr>\n",
       "      <th>0</th>\n",
       "      <td>小米苏酥</td>\n",
       "      <td>87768787</td>\n",
       "      <td>female</td>\n",
       "      <td>海外</td>\n",
       "      <td>NaN</td>\n",
       "      <td>594</td>\n",
       "      <td>510000</td>\n",
       "      <td>10000</td>\n",
       "      <td>5619422243</td>\n",
       "      <td>井田志Gridnote</td>\n",
       "      <td>...</td>\n",
       "      <td>74</td>\n",
       "      <td>54</td>\n",
       "      <td>2</td>\n",
       "      <td>今日彩妆,眼影,腮红</td>\n",
       "      <td>NaN</td>\n",
       "      <td>CANMAKE14腮红</td>\n",
       "      <td>https://detail.tmall.com/item.htm?id=527978438...</td>\n",
       "      <td>98</td>\n",
       "      <td>275712</td>\n",
       "      <td>4.9</td>\n",
       "    </tr>\n",
       "    <tr>\n",
       "      <th>1</th>\n",
       "      <td>小米苏酥</td>\n",
       "      <td>87768787</td>\n",
       "      <td>female</td>\n",
       "      <td>海外</td>\n",
       "      <td>NaN</td>\n",
       "      <td>594</td>\n",
       "      <td>510000</td>\n",
       "      <td>10000</td>\n",
       "      <td>6079473403</td>\n",
       "      <td>SUQQU_official</td>\n",
       "      <td>...</td>\n",
       "      <td>58</td>\n",
       "      <td>89</td>\n",
       "      <td>3</td>\n",
       "      <td>今日彩妆</td>\n",
       "      <td>NaN</td>\n",
       "      <td>SUQQU眉粉</td>\n",
       "      <td>https://detail.tmall.com/item.htm?id=600779196...</td>\n",
       "      <td>599</td>\n",
       "      <td>2581</td>\n",
       "      <td>4.9</td>\n",
       "    </tr>\n",
       "    <tr>\n",
       "      <th>2</th>\n",
       "      <td>小米苏酥</td>\n",
       "      <td>87768787</td>\n",
       "      <td>female</td>\n",
       "      <td>海外</td>\n",
       "      <td>NaN</td>\n",
       "      <td>594</td>\n",
       "      <td>510000</td>\n",
       "      <td>10000</td>\n",
       "      <td>6320994446</td>\n",
       "      <td>THREE</td>\n",
       "      <td>...</td>\n",
       "      <td>57</td>\n",
       "      <td>63</td>\n",
       "      <td>0</td>\n",
       "      <td>今日彩妆,眼影,腮红,visee,three</td>\n",
       "      <td>NaN</td>\n",
       "      <td>THREE01腮红</td>\n",
       "      <td>https://detail.tmall.com/item.htm?id=572279100...</td>\n",
       "      <td>379</td>\n",
       "      <td>4397</td>\n",
       "      <td>4.7</td>\n",
       "    </tr>\n",
       "    <tr>\n",
       "      <th>3</th>\n",
       "      <td>小米苏酥</td>\n",
       "      <td>87768787</td>\n",
       "      <td>female</td>\n",
       "      <td>海外</td>\n",
       "      <td>NaN</td>\n",
       "      <td>594</td>\n",
       "      <td>510000</td>\n",
       "      <td>10000</td>\n",
       "      <td>2040921197</td>\n",
       "      <td>宝拉珍选PaulasChoice</td>\n",
       "      <td>...</td>\n",
       "      <td>127</td>\n",
       "      <td>131</td>\n",
       "      <td>41</td>\n",
       "      <td>护肤,空瓶记</td>\n",
       "      <td>NaN</td>\n",
       "      <td>宝拉珍选大地之源洁面</td>\n",
       "      <td>https://detail.tmall.com/item.htm?id=443826948...</td>\n",
       "      <td>328</td>\n",
       "      <td>151674</td>\n",
       "      <td>4.7</td>\n",
       "    </tr>\n",
       "    <tr>\n",
       "      <th>4</th>\n",
       "      <td>小米苏酥</td>\n",
       "      <td>87768787</td>\n",
       "      <td>female</td>\n",
       "      <td>海外</td>\n",
       "      <td>NaN</td>\n",
       "      <td>594</td>\n",
       "      <td>510000</td>\n",
       "      <td>10000</td>\n",
       "      <td>1791154147</td>\n",
       "      <td>红门雅顿</td>\n",
       "      <td>...</td>\n",
       "      <td>54</td>\n",
       "      <td>67</td>\n",
       "      <td>31</td>\n",
       "      <td>护肤,空瓶记</td>\n",
       "      <td>NaN</td>\n",
       "      <td>雅顿铂粹御肤精华</td>\n",
       "      <td>https://detail.tmall.com/item.htm?id=591580395...</td>\n",
       "      <td>790</td>\n",
       "      <td>194904</td>\n",
       "      <td>4.8</td>\n",
       "    </tr>\n",
       "  </tbody>\n",
       "</table>\n",
       "<p>5 rows × 33 columns</p>\n",
       "</div>"
      ],
      "text/plain": [
       "  blogger_name  blogger_id blogger_gender blogger_region blogger_tag  \\\n",
       "0         小米苏酥    87768787         female             海外         NaN   \n",
       "1         小米苏酥    87768787         female             海外         NaN   \n",
       "2         小米苏酥    87768787         female             海外         NaN   \n",
       "3         小米苏酥    87768787         female             海外         NaN   \n",
       "4         小米苏酥    87768787         female             海外         NaN   \n",
       "\n",
       "   blogger_follows  blogger_fans  blogger_posts   brand_uid   brand_blog_name  \\\n",
       "0              594        510000          10000  5619422243       井田志Gridnote   \n",
       "1              594        510000          10000  6079473403    SUQQU_official   \n",
       "2              594        510000          10000  6320994446             THREE   \n",
       "3              594        510000          10000  2040921197  宝拉珍选PaulasChoice   \n",
       "4              594        510000          10000  1791154147              红门雅顿   \n",
       "\n",
       "   ... no_likes no_comments no_reposts               no_topics  \\\n",
       "0  ...       74          54          2              今日彩妆,眼影,腮红   \n",
       "1  ...       58          89          3                    今日彩妆   \n",
       "2  ...       57          63          0  今日彩妆,眼影,腮红,visee,three   \n",
       "3  ...      127         131         41                  护肤,空瓶记   \n",
       "4  ...       54          67         31                  护肤,空瓶记   \n",
       "\n",
       "   no_related_accounts      product  \\\n",
       "0                  NaN  CANMAKE14腮红   \n",
       "1                  NaN      SUQQU眉粉   \n",
       "2                  NaN    THREE01腮红   \n",
       "3                  NaN   宝拉珍选大地之源洁面   \n",
       "4                  NaN     雅顿铂粹御肤精华   \n",
       "\n",
       "                                            prod_url  product_price  \\\n",
       "0  https://detail.tmall.com/item.htm?id=527978438...             98   \n",
       "1  https://detail.tmall.com/item.htm?id=600779196...            599   \n",
       "2  https://detail.tmall.com/item.htm?id=572279100...            379   \n",
       "3  https://detail.tmall.com/item.htm?id=443826948...            328   \n",
       "4  https://detail.tmall.com/item.htm?id=591580395...            790   \n",
       "\n",
       "  product_popularity produc_score  \n",
       "0             275712          4.9  \n",
       "1               2581          4.9  \n",
       "2               4397          4.7  \n",
       "3             151674          4.7  \n",
       "4             194904          4.8  \n",
       "\n",
       "[5 rows x 33 columns]"
      ]
     },
     "execution_count": 83,
     "metadata": {},
     "output_type": "execute_result"
    }
   ],
   "source": [
    "# import train_data form mysql\n",
    "df = pd.read_csv('train_data.csv', index_col = None)\n",
    "df.head()"
   ]
  },
  {
   "cell_type": "code",
   "execution_count": 84,
   "metadata": {},
   "outputs": [
    {
     "data": {
      "text/plain": [
       "Index(['blogger_name', 'blogger_id', 'blogger_gender', 'blogger_region',\n",
       "       'blogger_tag', 'blogger_follows', 'blogger_fans', 'blogger_posts',\n",
       "       'brand_uid', 'brand_blog_name', 'brand_gender', 'brand_region',\n",
       "       'brand_tag', 'brand_follows', 'brand_fans', 'brand_posts', 'brand_name',\n",
       "       'brand_hot_topic', 'post_id', 'post', 'picture', 'video', 'date',\n",
       "       'no_likes', 'no_comments', 'no_reposts', 'no_topics',\n",
       "       'no_related_accounts', 'product', 'prod_url', 'product_price',\n",
       "       'product_popularity', 'produc_score'],\n",
       "      dtype='object')"
      ]
     },
     "execution_count": 84,
     "metadata": {},
     "output_type": "execute_result"
    }
   ],
   "source": [
    "df.columns"
   ]
  },
  {
   "cell_type": "code",
   "execution_count": 85,
   "metadata": {},
   "outputs": [
    {
     "data": {
      "text/plain": [
       "blogger_name            object\n",
       "blogger_id               int64\n",
       "blogger_gender          object\n",
       "blogger_region          object\n",
       "blogger_tag             object\n",
       "blogger_follows          int64\n",
       "blogger_fans             int64\n",
       "blogger_posts            int64\n",
       "brand_uid                int64\n",
       "brand_blog_name         object\n",
       "brand_gender            object\n",
       "brand_region            object\n",
       "brand_tag               object\n",
       "brand_follows            int64\n",
       "brand_fans               int64\n",
       "brand_posts              int64\n",
       "brand_name              object\n",
       "brand_hot_topic          int64\n",
       "post_id                 object\n",
       "post                    object\n",
       "picture                 object\n",
       "video                   object\n",
       "date                    object\n",
       "no_likes                 int64\n",
       "no_comments              int64\n",
       "no_reposts               int64\n",
       "no_topics               object\n",
       "no_related_accounts     object\n",
       "product                 object\n",
       "prod_url                object\n",
       "product_price            int64\n",
       "product_popularity       int64\n",
       "produc_score           float64\n",
       "dtype: object"
      ]
     },
     "execution_count": 85,
     "metadata": {},
     "output_type": "execute_result"
    }
   ],
   "source": [
    "df.dtypes"
   ]
  },
  {
   "cell_type": "markdown",
   "metadata": {},
   "source": [
    "## Drop Strings"
   ]
  },
  {
   "cell_type": "code",
   "execution_count": 86,
   "metadata": {},
   "outputs": [
    {
     "data": {
      "text/html": [
       "<div>\n",
       "<style scoped>\n",
       "    .dataframe tbody tr th:only-of-type {\n",
       "        vertical-align: middle;\n",
       "    }\n",
       "\n",
       "    .dataframe tbody tr th {\n",
       "        vertical-align: top;\n",
       "    }\n",
       "\n",
       "    .dataframe thead th {\n",
       "        text-align: right;\n",
       "    }\n",
       "</style>\n",
       "<table border=\"1\" class=\"dataframe\">\n",
       "  <thead>\n",
       "    <tr style=\"text-align: right;\">\n",
       "      <th></th>\n",
       "      <th>blogger_gender</th>\n",
       "      <th>blogger_tag</th>\n",
       "      <th>blogger_follows</th>\n",
       "      <th>blogger_fans</th>\n",
       "      <th>blogger_posts</th>\n",
       "      <th>brand_gender</th>\n",
       "      <th>brand_follows</th>\n",
       "      <th>brand_fans</th>\n",
       "      <th>brand_posts</th>\n",
       "      <th>brand_hot_topic</th>\n",
       "      <th>...</th>\n",
       "      <th>picture</th>\n",
       "      <th>video</th>\n",
       "      <th>no_likes</th>\n",
       "      <th>no_comments</th>\n",
       "      <th>no_reposts</th>\n",
       "      <th>no_topics</th>\n",
       "      <th>no_related_accounts</th>\n",
       "      <th>product_price</th>\n",
       "      <th>product_popularity</th>\n",
       "      <th>produc_score</th>\n",
       "    </tr>\n",
       "  </thead>\n",
       "  <tbody>\n",
       "    <tr>\n",
       "      <th>0</th>\n",
       "      <td>female</td>\n",
       "      <td>NaN</td>\n",
       "      <td>594</td>\n",
       "      <td>510000</td>\n",
       "      <td>10000</td>\n",
       "      <td>male</td>\n",
       "      <td>363</td>\n",
       "      <td>3487</td>\n",
       "      <td>494</td>\n",
       "      <td>1</td>\n",
       "      <td>...</td>\n",
       "      <td>https://wx4.sinaimg.cn/large/053b3ed3gy1g9v069...</td>\n",
       "      <td>NaN</td>\n",
       "      <td>74</td>\n",
       "      <td>54</td>\n",
       "      <td>2</td>\n",
       "      <td>今日彩妆,眼影,腮红</td>\n",
       "      <td>NaN</td>\n",
       "      <td>98</td>\n",
       "      <td>275712</td>\n",
       "      <td>4.9</td>\n",
       "    </tr>\n",
       "    <tr>\n",
       "      <th>1</th>\n",
       "      <td>female</td>\n",
       "      <td>NaN</td>\n",
       "      <td>594</td>\n",
       "      <td>510000</td>\n",
       "      <td>10000</td>\n",
       "      <td>female</td>\n",
       "      <td>217</td>\n",
       "      <td>490000</td>\n",
       "      <td>781</td>\n",
       "      <td>1</td>\n",
       "      <td>...</td>\n",
       "      <td>https://wx4.sinaimg.cn/large/053b3ed3gy1g9mx2f...</td>\n",
       "      <td>NaN</td>\n",
       "      <td>58</td>\n",
       "      <td>89</td>\n",
       "      <td>3</td>\n",
       "      <td>今日彩妆</td>\n",
       "      <td>NaN</td>\n",
       "      <td>599</td>\n",
       "      <td>2581</td>\n",
       "      <td>4.9</td>\n",
       "    </tr>\n",
       "    <tr>\n",
       "      <th>2</th>\n",
       "      <td>female</td>\n",
       "      <td>NaN</td>\n",
       "      <td>594</td>\n",
       "      <td>510000</td>\n",
       "      <td>10000</td>\n",
       "      <td>female</td>\n",
       "      <td>14</td>\n",
       "      <td>80000</td>\n",
       "      <td>624</td>\n",
       "      <td>0</td>\n",
       "      <td>...</td>\n",
       "      <td>https://wx1.sinaimg.cn/large/053b3ed3ly1g96rtx...</td>\n",
       "      <td>NaN</td>\n",
       "      <td>57</td>\n",
       "      <td>63</td>\n",
       "      <td>0</td>\n",
       "      <td>今日彩妆,眼影,腮红,visee,three</td>\n",
       "      <td>NaN</td>\n",
       "      <td>379</td>\n",
       "      <td>4397</td>\n",
       "      <td>4.7</td>\n",
       "    </tr>\n",
       "    <tr>\n",
       "      <th>3</th>\n",
       "      <td>female</td>\n",
       "      <td>NaN</td>\n",
       "      <td>594</td>\n",
       "      <td>510000</td>\n",
       "      <td>10000</td>\n",
       "      <td>female</td>\n",
       "      <td>271</td>\n",
       "      <td>260000</td>\n",
       "      <td>7286</td>\n",
       "      <td>0</td>\n",
       "      <td>...</td>\n",
       "      <td>https://wx1.sinaimg.cn/large/053b3ed3ly1g95yvh...</td>\n",
       "      <td>NaN</td>\n",
       "      <td>127</td>\n",
       "      <td>131</td>\n",
       "      <td>41</td>\n",
       "      <td>护肤,空瓶记</td>\n",
       "      <td>NaN</td>\n",
       "      <td>328</td>\n",
       "      <td>151674</td>\n",
       "      <td>4.7</td>\n",
       "    </tr>\n",
       "    <tr>\n",
       "      <th>4</th>\n",
       "      <td>female</td>\n",
       "      <td>NaN</td>\n",
       "      <td>594</td>\n",
       "      <td>510000</td>\n",
       "      <td>10000</td>\n",
       "      <td>female</td>\n",
       "      <td>268</td>\n",
       "      <td>250000</td>\n",
       "      <td>10000</td>\n",
       "      <td>0</td>\n",
       "      <td>...</td>\n",
       "      <td>https://wx1.sinaimg.cn/large/053b3ed3gy1g51ymr...</td>\n",
       "      <td>NaN</td>\n",
       "      <td>54</td>\n",
       "      <td>67</td>\n",
       "      <td>31</td>\n",
       "      <td>护肤,空瓶记</td>\n",
       "      <td>NaN</td>\n",
       "      <td>790</td>\n",
       "      <td>194904</td>\n",
       "      <td>4.8</td>\n",
       "    </tr>\n",
       "  </tbody>\n",
       "</table>\n",
       "<p>5 rows × 21 columns</p>\n",
       "</div>"
      ],
      "text/plain": [
       "  blogger_gender blogger_tag  blogger_follows  blogger_fans  blogger_posts  \\\n",
       "0         female         NaN              594        510000          10000   \n",
       "1         female         NaN              594        510000          10000   \n",
       "2         female         NaN              594        510000          10000   \n",
       "3         female         NaN              594        510000          10000   \n",
       "4         female         NaN              594        510000          10000   \n",
       "\n",
       "  brand_gender  brand_follows  brand_fans  brand_posts  brand_hot_topic  ...  \\\n",
       "0         male            363        3487          494                1  ...   \n",
       "1       female            217      490000          781                1  ...   \n",
       "2       female             14       80000          624                0  ...   \n",
       "3       female            271      260000         7286                0  ...   \n",
       "4       female            268      250000        10000                0  ...   \n",
       "\n",
       "                                             picture video no_likes  \\\n",
       "0  https://wx4.sinaimg.cn/large/053b3ed3gy1g9v069...   NaN       74   \n",
       "1  https://wx4.sinaimg.cn/large/053b3ed3gy1g9mx2f...   NaN       58   \n",
       "2  https://wx1.sinaimg.cn/large/053b3ed3ly1g96rtx...   NaN       57   \n",
       "3  https://wx1.sinaimg.cn/large/053b3ed3ly1g95yvh...   NaN      127   \n",
       "4  https://wx1.sinaimg.cn/large/053b3ed3gy1g51ymr...   NaN       54   \n",
       "\n",
       "   no_comments  no_reposts               no_topics no_related_accounts  \\\n",
       "0           54           2              今日彩妆,眼影,腮红                 NaN   \n",
       "1           89           3                    今日彩妆                 NaN   \n",
       "2           63           0  今日彩妆,眼影,腮红,visee,three                 NaN   \n",
       "3          131          41                  护肤,空瓶记                 NaN   \n",
       "4           67          31                  护肤,空瓶记                 NaN   \n",
       "\n",
       "  product_price  product_popularity  produc_score  \n",
       "0            98              275712           4.9  \n",
       "1           599                2581           4.9  \n",
       "2           379                4397           4.7  \n",
       "3           328              151674           4.7  \n",
       "4           790              194904           4.8  \n",
       "\n",
       "[5 rows x 21 columns]"
      ]
     },
     "execution_count": 86,
     "metadata": {},
     "output_type": "execute_result"
    },
    {
     "data": {
      "text/plain": [
       "Index(['blogger_gender', 'blogger_tag', 'blogger_follows', 'blogger_fans',\n",
       "       'blogger_posts', 'brand_gender', 'brand_follows', 'brand_fans',\n",
       "       'brand_posts', 'brand_hot_topic', 'post', 'picture', 'video',\n",
       "       'no_likes', 'no_comments', 'no_reposts', 'no_topics',\n",
       "       'no_related_accounts', 'product_price', 'product_popularity',\n",
       "       'produc_score'],\n",
       "      dtype='object')"
      ]
     },
     "execution_count": 86,
     "metadata": {},
     "output_type": "execute_result"
    }
   ],
   "source": [
    "df = df.drop(['blogger_name','blogger_id','blogger_region','brand_uid','brand_blog_name',\n",
    "              'brand_region','brand_tag','brand_name','post_id','date','product','prod_url'], axis = 1)\n",
    "df.head()\n",
    "df.columns"
   ]
  },
  {
   "cell_type": "code",
   "execution_count": 87,
   "metadata": {},
   "outputs": [
    {
     "name": "stdout",
     "output_type": "stream",
     "text": [
      "blogger_gender             0\n",
      "blogger_tag             1411\n",
      "blogger_follows            0\n",
      "blogger_fans               0\n",
      "blogger_posts              0\n",
      "brand_gender               0\n",
      "brand_follows              0\n",
      "brand_fans                 0\n",
      "brand_posts                0\n",
      "brand_hot_topic            0\n",
      "post                       0\n",
      "picture                 2064\n",
      "video                  14950\n",
      "no_likes                   0\n",
      "no_comments                0\n",
      "no_reposts                 0\n",
      "no_topics               7933\n",
      "no_related_accounts    13036\n",
      "product_price              0\n",
      "product_popularity         0\n",
      "produc_score               0\n",
      "dtype: int64\n"
     ]
    }
   ],
   "source": [
    "print(df.isnull().sum())"
   ]
  },
  {
   "cell_type": "markdown",
   "metadata": {},
   "source": [
    "## Convert Unstructured Data Into Structured Data"
   ]
  },
  {
   "cell_type": "markdown",
   "metadata": {},
   "source": [
    "### Dummy for Blogger Gender"
   ]
  },
  {
   "cell_type": "code",
   "execution_count": 88,
   "metadata": {},
   "outputs": [],
   "source": [
    "# convert gender into dummy\n",
    "blg_gender = []\n",
    "\n",
    "for i in df['blogger_gender'].tolist():\n",
    "    if i == 'female':\n",
    "        blg_gender.append(1)\n",
    "    else:\n",
    "        blg_gender.append(0)\n",
    "        \n",
    "df['blogger_gender'] = blg_gender"
   ]
  },
  {
   "cell_type": "markdown",
   "metadata": {},
   "source": [
    "### Dummy for Brand Gender"
   ]
  },
  {
   "cell_type": "code",
   "execution_count": 89,
   "metadata": {},
   "outputs": [],
   "source": [
    "brd_gender = []\n",
    "\n",
    "for i in df['brand_gender'].tolist():\n",
    "    if i == 'female':\n",
    "        brd_gender.append(1)\n",
    "    else:\n",
    "        brd_gender.append(0)\n",
    "        \n",
    "df['brand_gender'] = brd_gender"
   ]
  },
  {
   "cell_type": "markdown",
   "metadata": {},
   "source": [
    "### Blogger Tag Counts"
   ]
  },
  {
   "cell_type": "code",
   "execution_count": 90,
   "metadata": {},
   "outputs": [],
   "source": [
    "tag_num = []\n",
    "\n",
    "for i in df['blogger_tag'].tolist():\n",
    "    if pd.isnull(i):\n",
    "        tag_num.append(0)\n",
    "        continue\n",
    "    lst = i.split(',')\n",
    "    tag_num.append(len(lst))\n",
    "    \n",
    "df['blogger_tag'] = tag_num"
   ]
  },
  {
   "cell_type": "markdown",
   "metadata": {},
   "source": [
    "### Post Length"
   ]
  },
  {
   "cell_type": "code",
   "execution_count": 91,
   "metadata": {},
   "outputs": [],
   "source": [
    "# load user dictionary\n",
    "jieba.load_userdict('userdict_brand.txt')\n",
    "jieba.load_userdict('userdict_endword.txt')\n",
    "\n",
    "length = []\n",
    "\n",
    "for p in df['post']:\n",
    "    p = re.sub(r'[^a-zA-Z0-9\\u4e00-\\u9fff]' , '', p)\n",
    "    tokens = jieba.lcut(p, cut_all = False, HMM = True)\n",
    "    length.append(len(tokens))\n",
    "    \n",
    "df['post'] = length"
   ]
  },
  {
   "cell_type": "markdown",
   "metadata": {},
   "source": [
    "### Dummy for Pictures"
   ]
  },
  {
   "cell_type": "code",
   "execution_count": 92,
   "metadata": {},
   "outputs": [],
   "source": [
    "pic_num = []\n",
    "\n",
    "for i in df['picture'].tolist():\n",
    "    if pd.isnull(i):\n",
    "        pic_num.append(0)\n",
    "    else:\n",
    "        lst = i.split(',')\n",
    "        pic_num.append(len(lst))\n",
    "        \n",
    "df['picture'] = pic_num"
   ]
  },
  {
   "cell_type": "markdown",
   "metadata": {},
   "source": [
    "### Dummy for Video"
   ]
  },
  {
   "cell_type": "code",
   "execution_count": 93,
   "metadata": {},
   "outputs": [],
   "source": [
    "vid_num = []\n",
    "\n",
    "for i in df['video'].tolist():\n",
    "    if pd.isnull(i):\n",
    "        vid_num.append(0)\n",
    "    else:\n",
    "        vid_num.append(1)\n",
    "        \n",
    "df['video'] = vid_num"
   ]
  },
  {
   "cell_type": "markdown",
   "metadata": {},
   "source": [
    "### Topic Counts"
   ]
  },
  {
   "cell_type": "code",
   "execution_count": 94,
   "metadata": {},
   "outputs": [],
   "source": [
    "top_num = []\n",
    "\n",
    "for i in df['no_topics'].tolist():\n",
    "    if pd.isnull(i):\n",
    "        top_num.append(0)\n",
    "    else:\n",
    "        lst = i.split(',')\n",
    "        top_num.append(len(lst))\n",
    "        \n",
    "df['no_topics'] = top_num"
   ]
  },
  {
   "cell_type": "markdown",
   "metadata": {},
   "source": [
    "### Mentioned Account Counts"
   ]
  },
  {
   "cell_type": "code",
   "execution_count": 95,
   "metadata": {},
   "outputs": [],
   "source": [
    "ral_num = []\n",
    "\n",
    "for i in df['no_related_accounts'].tolist():\n",
    "    if pd.isnull(i):\n",
    "        ral_num.append(0)\n",
    "    else:\n",
    "        lst = i.split(',')\n",
    "        ral_num.append(len(lst))\n",
    "        \n",
    "df['no_related_accounts'] = ral_num"
   ]
  },
  {
   "cell_type": "code",
   "execution_count": 96,
   "metadata": {},
   "outputs": [
    {
     "data": {
      "text/plain": [
       "blogger_gender           int64\n",
       "blogger_tag              int64\n",
       "blogger_follows          int64\n",
       "blogger_fans             int64\n",
       "blogger_posts            int64\n",
       "brand_gender             int64\n",
       "brand_follows            int64\n",
       "brand_fans               int64\n",
       "brand_posts              int64\n",
       "brand_hot_topic          int64\n",
       "post                     int64\n",
       "picture                  int64\n",
       "video                    int64\n",
       "no_likes                 int64\n",
       "no_comments              int64\n",
       "no_reposts               int64\n",
       "no_topics                int64\n",
       "no_related_accounts      int64\n",
       "product_price            int64\n",
       "product_popularity       int64\n",
       "produc_score           float64\n",
       "dtype: object"
      ]
     },
     "execution_count": 96,
     "metadata": {},
     "output_type": "execute_result"
    }
   ],
   "source": [
    "df.dtypes"
   ]
  },
  {
   "cell_type": "code",
   "execution_count": 97,
   "metadata": {},
   "outputs": [],
   "source": [
    "df.to_csv('processed-train.csv')"
   ]
  },
  {
   "cell_type": "markdown",
   "metadata": {},
   "source": [
    "# EDA"
   ]
  },
  {
   "cell_type": "markdown",
   "metadata": {},
   "source": [
    "## Correlation Heatmap"
   ]
  },
  {
   "cell_type": "code",
   "execution_count": 98,
   "metadata": {},
   "outputs": [
    {
     "data": {
      "text/plain": [
       "<Figure size 1440x720 with 0 Axes>"
      ]
     },
     "execution_count": 98,
     "metadata": {},
     "output_type": "execute_result"
    },
    {
     "data": {
      "text/plain": [
       "<matplotlib.axes._subplots.AxesSubplot at 0x1a1ecd0518>"
      ]
     },
     "execution_count": 98,
     "metadata": {},
     "output_type": "execute_result"
    },
    {
     "data": {
      "text/html": [
       "<div>\n",
       "<style scoped>\n",
       "    .dataframe tbody tr th:only-of-type {\n",
       "        vertical-align: middle;\n",
       "    }\n",
       "\n",
       "    .dataframe tbody tr th {\n",
       "        vertical-align: top;\n",
       "    }\n",
       "\n",
       "    .dataframe thead th {\n",
       "        text-align: right;\n",
       "    }\n",
       "</style>\n",
       "<table border=\"1\" class=\"dataframe\">\n",
       "  <thead>\n",
       "    <tr style=\"text-align: right;\">\n",
       "      <th></th>\n",
       "      <th>blogger_gender</th>\n",
       "      <th>blogger_tag</th>\n",
       "      <th>blogger_follows</th>\n",
       "      <th>blogger_fans</th>\n",
       "      <th>blogger_posts</th>\n",
       "      <th>brand_gender</th>\n",
       "      <th>brand_follows</th>\n",
       "      <th>brand_fans</th>\n",
       "      <th>brand_posts</th>\n",
       "      <th>brand_hot_topic</th>\n",
       "      <th>...</th>\n",
       "      <th>picture</th>\n",
       "      <th>video</th>\n",
       "      <th>no_likes</th>\n",
       "      <th>no_comments</th>\n",
       "      <th>no_reposts</th>\n",
       "      <th>no_topics</th>\n",
       "      <th>no_related_accounts</th>\n",
       "      <th>product_price</th>\n",
       "      <th>product_popularity</th>\n",
       "      <th>produc_score</th>\n",
       "    </tr>\n",
       "  </thead>\n",
       "  <tbody>\n",
       "    <tr>\n",
       "      <th>blogger_gender</th>\n",
       "      <td>1.000000</td>\n",
       "      <td>-0.040283</td>\n",
       "      <td>-0.076263</td>\n",
       "      <td>-0.040674</td>\n",
       "      <td>-0.086393</td>\n",
       "      <td>-0.014427</td>\n",
       "      <td>0.006596</td>\n",
       "      <td>-0.016521</td>\n",
       "      <td>-0.026076</td>\n",
       "      <td>0.004832</td>\n",
       "      <td>...</td>\n",
       "      <td>0.113983</td>\n",
       "      <td>-0.085569</td>\n",
       "      <td>-0.019347</td>\n",
       "      <td>-0.031211</td>\n",
       "      <td>-0.027378</td>\n",
       "      <td>0.005997</td>\n",
       "      <td>-0.002874</td>\n",
       "      <td>-0.051165</td>\n",
       "      <td>0.025839</td>\n",
       "      <td>-0.014542</td>\n",
       "    </tr>\n",
       "    <tr>\n",
       "      <th>blogger_tag</th>\n",
       "      <td>-0.040283</td>\n",
       "      <td>1.000000</td>\n",
       "      <td>0.116460</td>\n",
       "      <td>0.237960</td>\n",
       "      <td>-0.024831</td>\n",
       "      <td>0.076266</td>\n",
       "      <td>-0.003553</td>\n",
       "      <td>0.058689</td>\n",
       "      <td>0.088563</td>\n",
       "      <td>0.014154</td>\n",
       "      <td>...</td>\n",
       "      <td>0.019707</td>\n",
       "      <td>0.076248</td>\n",
       "      <td>0.125406</td>\n",
       "      <td>0.112158</td>\n",
       "      <td>0.122955</td>\n",
       "      <td>0.183066</td>\n",
       "      <td>0.069967</td>\n",
       "      <td>0.111127</td>\n",
       "      <td>-0.027480</td>\n",
       "      <td>0.006539</td>\n",
       "    </tr>\n",
       "    <tr>\n",
       "      <th>blogger_follows</th>\n",
       "      <td>-0.076263</td>\n",
       "      <td>0.116460</td>\n",
       "      <td>1.000000</td>\n",
       "      <td>-0.062502</td>\n",
       "      <td>0.161774</td>\n",
       "      <td>-0.031151</td>\n",
       "      <td>0.020957</td>\n",
       "      <td>-0.016503</td>\n",
       "      <td>-0.011614</td>\n",
       "      <td>-0.035993</td>\n",
       "      <td>...</td>\n",
       "      <td>0.062487</td>\n",
       "      <td>-0.037807</td>\n",
       "      <td>0.000289</td>\n",
       "      <td>0.011331</td>\n",
       "      <td>0.043253</td>\n",
       "      <td>-0.007946</td>\n",
       "      <td>0.012222</td>\n",
       "      <td>0.030119</td>\n",
       "      <td>-0.028740</td>\n",
       "      <td>0.003517</td>\n",
       "    </tr>\n",
       "    <tr>\n",
       "      <th>blogger_fans</th>\n",
       "      <td>-0.040674</td>\n",
       "      <td>0.237960</td>\n",
       "      <td>-0.062502</td>\n",
       "      <td>1.000000</td>\n",
       "      <td>0.114312</td>\n",
       "      <td>0.097471</td>\n",
       "      <td>-0.020067</td>\n",
       "      <td>0.070332</td>\n",
       "      <td>0.110272</td>\n",
       "      <td>0.006587</td>\n",
       "      <td>...</td>\n",
       "      <td>0.071180</td>\n",
       "      <td>-0.004522</td>\n",
       "      <td>0.288512</td>\n",
       "      <td>0.246327</td>\n",
       "      <td>0.198142</td>\n",
       "      <td>0.085617</td>\n",
       "      <td>0.032280</td>\n",
       "      <td>0.076164</td>\n",
       "      <td>-0.017351</td>\n",
       "      <td>0.010537</td>\n",
       "    </tr>\n",
       "    <tr>\n",
       "      <th>blogger_posts</th>\n",
       "      <td>-0.086393</td>\n",
       "      <td>-0.024831</td>\n",
       "      <td>0.161774</td>\n",
       "      <td>0.114312</td>\n",
       "      <td>1.000000</td>\n",
       "      <td>-0.009049</td>\n",
       "      <td>0.007343</td>\n",
       "      <td>-0.029079</td>\n",
       "      <td>-0.041181</td>\n",
       "      <td>-0.023178</td>\n",
       "      <td>...</td>\n",
       "      <td>-0.046743</td>\n",
       "      <td>-0.034743</td>\n",
       "      <td>-0.045589</td>\n",
       "      <td>-0.040534</td>\n",
       "      <td>-0.027091</td>\n",
       "      <td>-0.048516</td>\n",
       "      <td>-0.037106</td>\n",
       "      <td>-0.014000</td>\n",
       "      <td>-0.033567</td>\n",
       "      <td>-0.008282</td>\n",
       "    </tr>\n",
       "    <tr>\n",
       "      <th>brand_gender</th>\n",
       "      <td>-0.014427</td>\n",
       "      <td>0.076266</td>\n",
       "      <td>-0.031151</td>\n",
       "      <td>0.097471</td>\n",
       "      <td>-0.009049</td>\n",
       "      <td>1.000000</td>\n",
       "      <td>0.072197</td>\n",
       "      <td>0.294183</td>\n",
       "      <td>0.361390</td>\n",
       "      <td>0.041303</td>\n",
       "      <td>...</td>\n",
       "      <td>0.012233</td>\n",
       "      <td>-0.011317</td>\n",
       "      <td>0.039095</td>\n",
       "      <td>0.030455</td>\n",
       "      <td>0.032855</td>\n",
       "      <td>0.052353</td>\n",
       "      <td>0.004540</td>\n",
       "      <td>0.126781</td>\n",
       "      <td>-0.066230</td>\n",
       "      <td>-0.040976</td>\n",
       "    </tr>\n",
       "    <tr>\n",
       "      <th>brand_follows</th>\n",
       "      <td>0.006596</td>\n",
       "      <td>-0.003553</td>\n",
       "      <td>0.020957</td>\n",
       "      <td>-0.020067</td>\n",
       "      <td>0.007343</td>\n",
       "      <td>0.072197</td>\n",
       "      <td>1.000000</td>\n",
       "      <td>-0.029100</td>\n",
       "      <td>0.166030</td>\n",
       "      <td>-0.012422</td>\n",
       "      <td>...</td>\n",
       "      <td>-0.005488</td>\n",
       "      <td>-0.010811</td>\n",
       "      <td>-0.017053</td>\n",
       "      <td>-0.008573</td>\n",
       "      <td>-0.015150</td>\n",
       "      <td>-0.014911</td>\n",
       "      <td>0.009399</td>\n",
       "      <td>-0.110333</td>\n",
       "      <td>-0.036505</td>\n",
       "      <td>-0.039161</td>\n",
       "    </tr>\n",
       "    <tr>\n",
       "      <th>brand_fans</th>\n",
       "      <td>-0.016521</td>\n",
       "      <td>0.058689</td>\n",
       "      <td>-0.016503</td>\n",
       "      <td>0.070332</td>\n",
       "      <td>-0.029079</td>\n",
       "      <td>0.294183</td>\n",
       "      <td>-0.029100</td>\n",
       "      <td>1.000000</td>\n",
       "      <td>0.458763</td>\n",
       "      <td>0.482306</td>\n",
       "      <td>...</td>\n",
       "      <td>0.083661</td>\n",
       "      <td>0.013286</td>\n",
       "      <td>0.048728</td>\n",
       "      <td>0.040494</td>\n",
       "      <td>0.067430</td>\n",
       "      <td>0.120498</td>\n",
       "      <td>0.034443</td>\n",
       "      <td>0.128412</td>\n",
       "      <td>0.025382</td>\n",
       "      <td>0.031522</td>\n",
       "    </tr>\n",
       "    <tr>\n",
       "      <th>brand_posts</th>\n",
       "      <td>-0.026076</td>\n",
       "      <td>0.088563</td>\n",
       "      <td>-0.011614</td>\n",
       "      <td>0.110272</td>\n",
       "      <td>-0.041181</td>\n",
       "      <td>0.361390</td>\n",
       "      <td>0.166030</td>\n",
       "      <td>0.458763</td>\n",
       "      <td>1.000000</td>\n",
       "      <td>0.256323</td>\n",
       "      <td>...</td>\n",
       "      <td>0.065419</td>\n",
       "      <td>-0.007256</td>\n",
       "      <td>0.073599</td>\n",
       "      <td>0.071499</td>\n",
       "      <td>0.045714</td>\n",
       "      <td>0.081901</td>\n",
       "      <td>0.013347</td>\n",
       "      <td>0.123767</td>\n",
       "      <td>0.075407</td>\n",
       "      <td>0.003781</td>\n",
       "    </tr>\n",
       "    <tr>\n",
       "      <th>brand_hot_topic</th>\n",
       "      <td>0.004832</td>\n",
       "      <td>0.014154</td>\n",
       "      <td>-0.035993</td>\n",
       "      <td>0.006587</td>\n",
       "      <td>-0.023178</td>\n",
       "      <td>0.041303</td>\n",
       "      <td>-0.012422</td>\n",
       "      <td>0.482306</td>\n",
       "      <td>0.256323</td>\n",
       "      <td>1.000000</td>\n",
       "      <td>...</td>\n",
       "      <td>0.035489</td>\n",
       "      <td>0.015987</td>\n",
       "      <td>0.013263</td>\n",
       "      <td>0.014772</td>\n",
       "      <td>0.021484</td>\n",
       "      <td>0.066036</td>\n",
       "      <td>0.026633</td>\n",
       "      <td>0.114180</td>\n",
       "      <td>0.085872</td>\n",
       "      <td>0.025113</td>\n",
       "    </tr>\n",
       "    <tr>\n",
       "      <th>post</th>\n",
       "      <td>0.023778</td>\n",
       "      <td>0.120990</td>\n",
       "      <td>0.035605</td>\n",
       "      <td>0.160265</td>\n",
       "      <td>-0.104350</td>\n",
       "      <td>0.115010</td>\n",
       "      <td>-0.033757</td>\n",
       "      <td>0.103219</td>\n",
       "      <td>0.161763</td>\n",
       "      <td>0.008728</td>\n",
       "      <td>...</td>\n",
       "      <td>0.358074</td>\n",
       "      <td>-0.174278</td>\n",
       "      <td>0.102656</td>\n",
       "      <td>0.088475</td>\n",
       "      <td>0.077052</td>\n",
       "      <td>0.240937</td>\n",
       "      <td>0.088354</td>\n",
       "      <td>0.156229</td>\n",
       "      <td>-0.024433</td>\n",
       "      <td>0.026831</td>\n",
       "    </tr>\n",
       "    <tr>\n",
       "      <th>picture</th>\n",
       "      <td>0.113983</td>\n",
       "      <td>0.019707</td>\n",
       "      <td>0.062487</td>\n",
       "      <td>0.071180</td>\n",
       "      <td>-0.046743</td>\n",
       "      <td>0.012233</td>\n",
       "      <td>-0.005488</td>\n",
       "      <td>0.083661</td>\n",
       "      <td>0.065419</td>\n",
       "      <td>0.035489</td>\n",
       "      <td>...</td>\n",
       "      <td>1.000000</td>\n",
       "      <td>-0.401771</td>\n",
       "      <td>0.024314</td>\n",
       "      <td>0.028935</td>\n",
       "      <td>0.039432</td>\n",
       "      <td>0.102365</td>\n",
       "      <td>0.051652</td>\n",
       "      <td>0.014712</td>\n",
       "      <td>0.006394</td>\n",
       "      <td>0.027979</td>\n",
       "    </tr>\n",
       "    <tr>\n",
       "      <th>video</th>\n",
       "      <td>-0.085569</td>\n",
       "      <td>0.076248</td>\n",
       "      <td>-0.037807</td>\n",
       "      <td>-0.004522</td>\n",
       "      <td>-0.034743</td>\n",
       "      <td>-0.011317</td>\n",
       "      <td>-0.010811</td>\n",
       "      <td>0.013286</td>\n",
       "      <td>-0.007256</td>\n",
       "      <td>0.015987</td>\n",
       "      <td>...</td>\n",
       "      <td>-0.401771</td>\n",
       "      <td>1.000000</td>\n",
       "      <td>0.054979</td>\n",
       "      <td>0.041479</td>\n",
       "      <td>0.027159</td>\n",
       "      <td>0.019029</td>\n",
       "      <td>-0.024765</td>\n",
       "      <td>-0.000336</td>\n",
       "      <td>0.016289</td>\n",
       "      <td>-0.005286</td>\n",
       "    </tr>\n",
       "    <tr>\n",
       "      <th>no_likes</th>\n",
       "      <td>-0.019347</td>\n",
       "      <td>0.125406</td>\n",
       "      <td>0.000289</td>\n",
       "      <td>0.288512</td>\n",
       "      <td>-0.045589</td>\n",
       "      <td>0.039095</td>\n",
       "      <td>-0.017053</td>\n",
       "      <td>0.048728</td>\n",
       "      <td>0.073599</td>\n",
       "      <td>0.013263</td>\n",
       "      <td>...</td>\n",
       "      <td>0.024314</td>\n",
       "      <td>0.054979</td>\n",
       "      <td>1.000000</td>\n",
       "      <td>0.752364</td>\n",
       "      <td>0.706573</td>\n",
       "      <td>0.068962</td>\n",
       "      <td>0.030386</td>\n",
       "      <td>0.068609</td>\n",
       "      <td>0.012462</td>\n",
       "      <td>0.002596</td>\n",
       "    </tr>\n",
       "    <tr>\n",
       "      <th>no_comments</th>\n",
       "      <td>-0.031211</td>\n",
       "      <td>0.112158</td>\n",
       "      <td>0.011331</td>\n",
       "      <td>0.246327</td>\n",
       "      <td>-0.040534</td>\n",
       "      <td>0.030455</td>\n",
       "      <td>-0.008573</td>\n",
       "      <td>0.040494</td>\n",
       "      <td>0.071499</td>\n",
       "      <td>0.014772</td>\n",
       "      <td>...</td>\n",
       "      <td>0.028935</td>\n",
       "      <td>0.041479</td>\n",
       "      <td>0.752364</td>\n",
       "      <td>1.000000</td>\n",
       "      <td>0.771626</td>\n",
       "      <td>0.051810</td>\n",
       "      <td>0.027043</td>\n",
       "      <td>0.055958</td>\n",
       "      <td>0.011467</td>\n",
       "      <td>0.001822</td>\n",
       "    </tr>\n",
       "    <tr>\n",
       "      <th>no_reposts</th>\n",
       "      <td>-0.027378</td>\n",
       "      <td>0.122955</td>\n",
       "      <td>0.043253</td>\n",
       "      <td>0.198142</td>\n",
       "      <td>-0.027091</td>\n",
       "      <td>0.032855</td>\n",
       "      <td>-0.015150</td>\n",
       "      <td>0.067430</td>\n",
       "      <td>0.045714</td>\n",
       "      <td>0.021484</td>\n",
       "      <td>...</td>\n",
       "      <td>0.039432</td>\n",
       "      <td>0.027159</td>\n",
       "      <td>0.706573</td>\n",
       "      <td>0.771626</td>\n",
       "      <td>1.000000</td>\n",
       "      <td>0.052363</td>\n",
       "      <td>0.065732</td>\n",
       "      <td>0.052874</td>\n",
       "      <td>-0.006174</td>\n",
       "      <td>-0.000258</td>\n",
       "    </tr>\n",
       "    <tr>\n",
       "      <th>no_topics</th>\n",
       "      <td>0.005997</td>\n",
       "      <td>0.183066</td>\n",
       "      <td>-0.007946</td>\n",
       "      <td>0.085617</td>\n",
       "      <td>-0.048516</td>\n",
       "      <td>0.052353</td>\n",
       "      <td>-0.014911</td>\n",
       "      <td>0.120498</td>\n",
       "      <td>0.081901</td>\n",
       "      <td>0.066036</td>\n",
       "      <td>...</td>\n",
       "      <td>0.102365</td>\n",
       "      <td>0.019029</td>\n",
       "      <td>0.068962</td>\n",
       "      <td>0.051810</td>\n",
       "      <td>0.052363</td>\n",
       "      <td>1.000000</td>\n",
       "      <td>0.105466</td>\n",
       "      <td>0.097095</td>\n",
       "      <td>-0.016393</td>\n",
       "      <td>0.010409</td>\n",
       "    </tr>\n",
       "    <tr>\n",
       "      <th>no_related_accounts</th>\n",
       "      <td>-0.002874</td>\n",
       "      <td>0.069967</td>\n",
       "      <td>0.012222</td>\n",
       "      <td>0.032280</td>\n",
       "      <td>-0.037106</td>\n",
       "      <td>0.004540</td>\n",
       "      <td>0.009399</td>\n",
       "      <td>0.034443</td>\n",
       "      <td>0.013347</td>\n",
       "      <td>0.026633</td>\n",
       "      <td>...</td>\n",
       "      <td>0.051652</td>\n",
       "      <td>-0.024765</td>\n",
       "      <td>0.030386</td>\n",
       "      <td>0.027043</td>\n",
       "      <td>0.065732</td>\n",
       "      <td>0.105466</td>\n",
       "      <td>1.000000</td>\n",
       "      <td>0.013574</td>\n",
       "      <td>0.000907</td>\n",
       "      <td>-0.009188</td>\n",
       "    </tr>\n",
       "    <tr>\n",
       "      <th>product_price</th>\n",
       "      <td>-0.051165</td>\n",
       "      <td>0.111127</td>\n",
       "      <td>0.030119</td>\n",
       "      <td>0.076164</td>\n",
       "      <td>-0.014000</td>\n",
       "      <td>0.126781</td>\n",
       "      <td>-0.110333</td>\n",
       "      <td>0.128412</td>\n",
       "      <td>0.123767</td>\n",
       "      <td>0.114180</td>\n",
       "      <td>...</td>\n",
       "      <td>0.014712</td>\n",
       "      <td>-0.000336</td>\n",
       "      <td>0.068609</td>\n",
       "      <td>0.055958</td>\n",
       "      <td>0.052874</td>\n",
       "      <td>0.097095</td>\n",
       "      <td>0.013574</td>\n",
       "      <td>1.000000</td>\n",
       "      <td>-0.091939</td>\n",
       "      <td>-0.031375</td>\n",
       "    </tr>\n",
       "    <tr>\n",
       "      <th>product_popularity</th>\n",
       "      <td>0.025839</td>\n",
       "      <td>-0.027480</td>\n",
       "      <td>-0.028740</td>\n",
       "      <td>-0.017351</td>\n",
       "      <td>-0.033567</td>\n",
       "      <td>-0.066230</td>\n",
       "      <td>-0.036505</td>\n",
       "      <td>0.025382</td>\n",
       "      <td>0.075407</td>\n",
       "      <td>0.085872</td>\n",
       "      <td>...</td>\n",
       "      <td>0.006394</td>\n",
       "      <td>0.016289</td>\n",
       "      <td>0.012462</td>\n",
       "      <td>0.011467</td>\n",
       "      <td>-0.006174</td>\n",
       "      <td>-0.016393</td>\n",
       "      <td>0.000907</td>\n",
       "      <td>-0.091939</td>\n",
       "      <td>1.000000</td>\n",
       "      <td>0.043417</td>\n",
       "    </tr>\n",
       "    <tr>\n",
       "      <th>produc_score</th>\n",
       "      <td>-0.014542</td>\n",
       "      <td>0.006539</td>\n",
       "      <td>0.003517</td>\n",
       "      <td>0.010537</td>\n",
       "      <td>-0.008282</td>\n",
       "      <td>-0.040976</td>\n",
       "      <td>-0.039161</td>\n",
       "      <td>0.031522</td>\n",
       "      <td>0.003781</td>\n",
       "      <td>0.025113</td>\n",
       "      <td>...</td>\n",
       "      <td>0.027979</td>\n",
       "      <td>-0.005286</td>\n",
       "      <td>0.002596</td>\n",
       "      <td>0.001822</td>\n",
       "      <td>-0.000258</td>\n",
       "      <td>0.010409</td>\n",
       "      <td>-0.009188</td>\n",
       "      <td>-0.031375</td>\n",
       "      <td>0.043417</td>\n",
       "      <td>1.000000</td>\n",
       "    </tr>\n",
       "  </tbody>\n",
       "</table>\n",
       "<p>21 rows × 21 columns</p>\n",
       "</div>"
      ],
      "text/plain": [
       "                     blogger_gender  blogger_tag  blogger_follows  \\\n",
       "blogger_gender             1.000000    -0.040283        -0.076263   \n",
       "blogger_tag               -0.040283     1.000000         0.116460   \n",
       "blogger_follows           -0.076263     0.116460         1.000000   \n",
       "blogger_fans              -0.040674     0.237960        -0.062502   \n",
       "blogger_posts             -0.086393    -0.024831         0.161774   \n",
       "brand_gender              -0.014427     0.076266        -0.031151   \n",
       "brand_follows              0.006596    -0.003553         0.020957   \n",
       "brand_fans                -0.016521     0.058689        -0.016503   \n",
       "brand_posts               -0.026076     0.088563        -0.011614   \n",
       "brand_hot_topic            0.004832     0.014154        -0.035993   \n",
       "post                       0.023778     0.120990         0.035605   \n",
       "picture                    0.113983     0.019707         0.062487   \n",
       "video                     -0.085569     0.076248        -0.037807   \n",
       "no_likes                  -0.019347     0.125406         0.000289   \n",
       "no_comments               -0.031211     0.112158         0.011331   \n",
       "no_reposts                -0.027378     0.122955         0.043253   \n",
       "no_topics                  0.005997     0.183066        -0.007946   \n",
       "no_related_accounts       -0.002874     0.069967         0.012222   \n",
       "product_price             -0.051165     0.111127         0.030119   \n",
       "product_popularity         0.025839    -0.027480        -0.028740   \n",
       "produc_score              -0.014542     0.006539         0.003517   \n",
       "\n",
       "                     blogger_fans  blogger_posts  brand_gender  brand_follows  \\\n",
       "blogger_gender          -0.040674      -0.086393     -0.014427       0.006596   \n",
       "blogger_tag              0.237960      -0.024831      0.076266      -0.003553   \n",
       "blogger_follows         -0.062502       0.161774     -0.031151       0.020957   \n",
       "blogger_fans             1.000000       0.114312      0.097471      -0.020067   \n",
       "blogger_posts            0.114312       1.000000     -0.009049       0.007343   \n",
       "brand_gender             0.097471      -0.009049      1.000000       0.072197   \n",
       "brand_follows           -0.020067       0.007343      0.072197       1.000000   \n",
       "brand_fans               0.070332      -0.029079      0.294183      -0.029100   \n",
       "brand_posts              0.110272      -0.041181      0.361390       0.166030   \n",
       "brand_hot_topic          0.006587      -0.023178      0.041303      -0.012422   \n",
       "post                     0.160265      -0.104350      0.115010      -0.033757   \n",
       "picture                  0.071180      -0.046743      0.012233      -0.005488   \n",
       "video                   -0.004522      -0.034743     -0.011317      -0.010811   \n",
       "no_likes                 0.288512      -0.045589      0.039095      -0.017053   \n",
       "no_comments              0.246327      -0.040534      0.030455      -0.008573   \n",
       "no_reposts               0.198142      -0.027091      0.032855      -0.015150   \n",
       "no_topics                0.085617      -0.048516      0.052353      -0.014911   \n",
       "no_related_accounts      0.032280      -0.037106      0.004540       0.009399   \n",
       "product_price            0.076164      -0.014000      0.126781      -0.110333   \n",
       "product_popularity      -0.017351      -0.033567     -0.066230      -0.036505   \n",
       "produc_score             0.010537      -0.008282     -0.040976      -0.039161   \n",
       "\n",
       "                     brand_fans  brand_posts  brand_hot_topic  ...   picture  \\\n",
       "blogger_gender        -0.016521    -0.026076         0.004832  ...  0.113983   \n",
       "blogger_tag            0.058689     0.088563         0.014154  ...  0.019707   \n",
       "blogger_follows       -0.016503    -0.011614        -0.035993  ...  0.062487   \n",
       "blogger_fans           0.070332     0.110272         0.006587  ...  0.071180   \n",
       "blogger_posts         -0.029079    -0.041181        -0.023178  ... -0.046743   \n",
       "brand_gender           0.294183     0.361390         0.041303  ...  0.012233   \n",
       "brand_follows         -0.029100     0.166030        -0.012422  ... -0.005488   \n",
       "brand_fans             1.000000     0.458763         0.482306  ...  0.083661   \n",
       "brand_posts            0.458763     1.000000         0.256323  ...  0.065419   \n",
       "brand_hot_topic        0.482306     0.256323         1.000000  ...  0.035489   \n",
       "post                   0.103219     0.161763         0.008728  ...  0.358074   \n",
       "picture                0.083661     0.065419         0.035489  ...  1.000000   \n",
       "video                  0.013286    -0.007256         0.015987  ... -0.401771   \n",
       "no_likes               0.048728     0.073599         0.013263  ...  0.024314   \n",
       "no_comments            0.040494     0.071499         0.014772  ...  0.028935   \n",
       "no_reposts             0.067430     0.045714         0.021484  ...  0.039432   \n",
       "no_topics              0.120498     0.081901         0.066036  ...  0.102365   \n",
       "no_related_accounts    0.034443     0.013347         0.026633  ...  0.051652   \n",
       "product_price          0.128412     0.123767         0.114180  ...  0.014712   \n",
       "product_popularity     0.025382     0.075407         0.085872  ...  0.006394   \n",
       "produc_score           0.031522     0.003781         0.025113  ...  0.027979   \n",
       "\n",
       "                        video  no_likes  no_comments  no_reposts  no_topics  \\\n",
       "blogger_gender      -0.085569 -0.019347    -0.031211   -0.027378   0.005997   \n",
       "blogger_tag          0.076248  0.125406     0.112158    0.122955   0.183066   \n",
       "blogger_follows     -0.037807  0.000289     0.011331    0.043253  -0.007946   \n",
       "blogger_fans        -0.004522  0.288512     0.246327    0.198142   0.085617   \n",
       "blogger_posts       -0.034743 -0.045589    -0.040534   -0.027091  -0.048516   \n",
       "brand_gender        -0.011317  0.039095     0.030455    0.032855   0.052353   \n",
       "brand_follows       -0.010811 -0.017053    -0.008573   -0.015150  -0.014911   \n",
       "brand_fans           0.013286  0.048728     0.040494    0.067430   0.120498   \n",
       "brand_posts         -0.007256  0.073599     0.071499    0.045714   0.081901   \n",
       "brand_hot_topic      0.015987  0.013263     0.014772    0.021484   0.066036   \n",
       "post                -0.174278  0.102656     0.088475    0.077052   0.240937   \n",
       "picture             -0.401771  0.024314     0.028935    0.039432   0.102365   \n",
       "video                1.000000  0.054979     0.041479    0.027159   0.019029   \n",
       "no_likes             0.054979  1.000000     0.752364    0.706573   0.068962   \n",
       "no_comments          0.041479  0.752364     1.000000    0.771626   0.051810   \n",
       "no_reposts           0.027159  0.706573     0.771626    1.000000   0.052363   \n",
       "no_topics            0.019029  0.068962     0.051810    0.052363   1.000000   \n",
       "no_related_accounts -0.024765  0.030386     0.027043    0.065732   0.105466   \n",
       "product_price       -0.000336  0.068609     0.055958    0.052874   0.097095   \n",
       "product_popularity   0.016289  0.012462     0.011467   -0.006174  -0.016393   \n",
       "produc_score        -0.005286  0.002596     0.001822   -0.000258   0.010409   \n",
       "\n",
       "                     no_related_accounts  product_price  product_popularity  \\\n",
       "blogger_gender                 -0.002874      -0.051165            0.025839   \n",
       "blogger_tag                     0.069967       0.111127           -0.027480   \n",
       "blogger_follows                 0.012222       0.030119           -0.028740   \n",
       "blogger_fans                    0.032280       0.076164           -0.017351   \n",
       "blogger_posts                  -0.037106      -0.014000           -0.033567   \n",
       "brand_gender                    0.004540       0.126781           -0.066230   \n",
       "brand_follows                   0.009399      -0.110333           -0.036505   \n",
       "brand_fans                      0.034443       0.128412            0.025382   \n",
       "brand_posts                     0.013347       0.123767            0.075407   \n",
       "brand_hot_topic                 0.026633       0.114180            0.085872   \n",
       "post                            0.088354       0.156229           -0.024433   \n",
       "picture                         0.051652       0.014712            0.006394   \n",
       "video                          -0.024765      -0.000336            0.016289   \n",
       "no_likes                        0.030386       0.068609            0.012462   \n",
       "no_comments                     0.027043       0.055958            0.011467   \n",
       "no_reposts                      0.065732       0.052874           -0.006174   \n",
       "no_topics                       0.105466       0.097095           -0.016393   \n",
       "no_related_accounts             1.000000       0.013574            0.000907   \n",
       "product_price                   0.013574       1.000000           -0.091939   \n",
       "product_popularity              0.000907      -0.091939            1.000000   \n",
       "produc_score                   -0.009188      -0.031375            0.043417   \n",
       "\n",
       "                     produc_score  \n",
       "blogger_gender          -0.014542  \n",
       "blogger_tag              0.006539  \n",
       "blogger_follows          0.003517  \n",
       "blogger_fans             0.010537  \n",
       "blogger_posts           -0.008282  \n",
       "brand_gender            -0.040976  \n",
       "brand_follows           -0.039161  \n",
       "brand_fans               0.031522  \n",
       "brand_posts              0.003781  \n",
       "brand_hot_topic          0.025113  \n",
       "post                     0.026831  \n",
       "picture                  0.027979  \n",
       "video                   -0.005286  \n",
       "no_likes                 0.002596  \n",
       "no_comments              0.001822  \n",
       "no_reposts              -0.000258  \n",
       "no_topics                0.010409  \n",
       "no_related_accounts     -0.009188  \n",
       "product_price           -0.031375  \n",
       "product_popularity       0.043417  \n",
       "produc_score             1.000000  \n",
       "\n",
       "[21 rows x 21 columns]"
      ]
     },
     "execution_count": 98,
     "metadata": {},
     "output_type": "execute_result"
    },
    {
     "data": {
      "image/png": "[encoded data removed]",
      "text/plain": [
       "<Figure size 1440x720 with 2 Axes>"
      ]
     },
     "metadata": {},
     "output_type": "display_data"
    }
   ],
   "source": [
    "plt.figure(figsize = (20,10))\n",
    "c = df.corr()\n",
    "sns.heatmap(c,cmap = \"BrBG\", annot = True)\n",
    "c"
   ]
  },
  {
   "cell_type": "markdown",
   "metadata": {},
   "source": [
    "## Box-Plot"
   ]
  },
  {
   "cell_type": "code",
   "execution_count": 99,
   "metadata": {},
   "outputs": [
    {
     "data": {
      "text/plain": [
       "<matplotlib.axes._subplots.AxesSubplot at 0x1a253d1470>"
      ]
     },
     "execution_count": 99,
     "metadata": {},
     "output_type": "execute_result"
    },
    {
     "data": {
      "image/png": "[encoded data removed]",
      "text/plain": [
       "<Figure size 432x288 with 1 Axes>"
      ]
     },
     "metadata": {},
     "output_type": "display_data"
    }
   ],
   "source": [
    "df.boxplot(column = ['no_likes'])"
   ]
  },
  {
   "cell_type": "code",
   "execution_count": 100,
   "metadata": {},
   "outputs": [
    {
     "data": {
      "text/plain": [
       "<matplotlib.axes._subplots.AxesSubplot at 0x1a34d0d128>"
      ]
     },
     "execution_count": 100,
     "metadata": {},
     "output_type": "execute_result"
    },
    {
     "data": {
      "image/png": "[encoded data removed]",
      "text/plain": [
       "<Figure size 432x288 with 1 Axes>"
      ]
     },
     "metadata": {},
     "output_type": "display_data"
    }
   ],
   "source": [
    "df.boxplot(column = ['no_comments'])"
   ]
  },
  {
   "cell_type": "code",
   "execution_count": 101,
   "metadata": {},
   "outputs": [
    {
     "data": {
      "text/plain": [
       "<matplotlib.axes._subplots.AxesSubplot at 0x1a339df710>"
      ]
     },
     "execution_count": 101,
     "metadata": {},
     "output_type": "execute_result"
    },
    {
     "data": {
      "image/png": "[encoded data removed]",
      "text/plain": [
       "<Figure size 432x288 with 1 Axes>"
      ]
     },
     "metadata": {},
     "output_type": "display_data"
    }
   ],
   "source": [
    "df.boxplot(column = ['no_reposts'])"
   ]
  },
  {
   "cell_type": "markdown",
   "metadata": {},
   "source": [
    "## Outlier Diagnostics"
   ]
  },
  {
   "cell_type": "code",
   "execution_count": 102,
   "metadata": {},
   "outputs": [],
   "source": [
    "df0 = pd.read_csv('train_data.csv', index_col = None)"
   ]
  },
  {
   "cell_type": "code",
   "execution_count": 103,
   "metadata": {},
   "outputs": [
    {
     "name": "stdout",
     "output_type": "stream",
     "text": [
      "俊平大魔王 578 215584 叔的福利专车又来了！！座位大翻倍！！100个中奖名额！6波福利连环送！都不过滤！快乐都是你们的 我只要 关注+转评赞！还有看一看双11优惠活动 让我看看谁能拿到我准备的：独享万元 贵妇粉底、限量彩妆重磅礼包！众享超万元的超豪华护肤彩妆合集！3000元阿玛尼黑钥匙面霜！2000元超实在购物基金！@微博抽奖平台\n",
      "李佳琦Austin 5486 129384 OMG终极宠粉来啦~为了给你们赢奖品我真的太南了，YSL你是在整我和@李佳琦的小助理 吗？ 感谢这些时间深夜看直播的所有女生，熬夜依旧想要保持细腻透亮？这期视频一定要给我转评赞，超强福利150瓶价值超过10万元！全新精华#YSL夜皇后精华#抽150个MM各1瓶，熬佳琦的夜，你们都是最美的夜皇后！  李佳琦Austin的微博视频 抽奖详情\n",
      "李佳琦Austin 5490 149595 #李佳琦推荐双十一爆款#所有女生，双十一爆款粉底液来咯~佳琦最爱用的娇兰金钻粉底液#一拍肌合#，买它！【双11预售】娇兰金钻修颜粉底液女干皮遮瑕保湿水润不易脱妆彩妆 转评赞，抽11个人平分11万~李佳琦Austin的秒拍视频 \n",
      "李佳琦Austin 5491 201703 #李佳琦推荐双十一爆款#所有女生，双十一最值得买的欧舒丹护手霜来咯~这个冬天用它~【双11预售】欧舒丹护手霜礼盒樱花乳木果补水保湿女秋冬滋润套装 转评赞，抽11个人平分11万~李佳琦Austin的秒拍视频 \n",
      "木头zmh 10399 100658 最近新入手的SKG面部精华导入仪，很赞很好用，使用效果很棒，完全解决了我之前皮肤问题。@SKG官方  这个美容仪有5个使用功能：清洁亮肤、滋润导入、温热保湿、EMS提拉紧致、红蓝光护肤。 而且还会有强弱两档模式。 不仅一款多用，还满足了我们日常护肤的多种需求，还不赶紧种草起来！！！ 这次也给粉丝宝宝谋了福利哦，同款美容仪，原价249，领券70元，到手价179元， 链接戳网页链接，还有转发我这条微博，抽一位宝宝送同款！！！木头zmh的秒拍视频\n",
      "宝剑嫂 13179 321269 【🎉🎉宝剑嫂200w订阅福利🎉🎉】我来啦！这个视频很简单，就是给大家买买买！快点开看有啥！✅点赞＋关注：价值1400元ysl香水断货口红礼盒！2套！！✅转发＋关注：视频内礼物！价值10000元！一共揪19个！✅转发里！还揪10000元平分50位！回血红包！我永远永远爱你们！5555感恩陪伴！ ...全文\n"
     ]
    }
   ],
   "source": [
    "for i in range(len(df)):\n",
    "    if df['no_likes'][i] > 100000:\n",
    "        print(df0['blogger_name'].iloc[i],i,df['no_likes'][i],df0.iloc[i]['post'])"
   ]
  },
  {
   "cell_type": "code",
   "execution_count": 104,
   "metadata": {},
   "outputs": [
    {
     "data": {
      "text/plain": [
       "2352"
      ]
     },
     "execution_count": 104,
     "metadata": {},
     "output_type": "execute_result"
    }
   ],
   "source": [
    "count = 0\n",
    "del_lst = []\n",
    "\n",
    "for i in range(len(df0)):\n",
    "    if '抽' in df0.iloc[i]['post'] or '揪' in df0.iloc[i]['post'] or re.search('摸.位',df0.iloc[i]['post']) or re.search('摸.个',df0.iloc[i]['post'])or re.search('抱.个',df0.iloc[i]['post']):\n",
    "        del_lst.append(i)\n",
    "        \n",
    "len(del_lst)"
   ]
  },
  {
   "cell_type": "code",
   "execution_count": 105,
   "metadata": {},
   "outputs": [
    {
     "data": {
      "text/plain": [
       "13556"
      ]
     },
     "execution_count": 105,
     "metadata": {},
     "output_type": "execute_result"
    },
    {
     "data": {
      "text/html": [
       "<div>\n",
       "<style scoped>\n",
       "    .dataframe tbody tr th:only-of-type {\n",
       "        vertical-align: middle;\n",
       "    }\n",
       "\n",
       "    .dataframe tbody tr th {\n",
       "        vertical-align: top;\n",
       "    }\n",
       "\n",
       "    .dataframe thead th {\n",
       "        text-align: right;\n",
       "    }\n",
       "</style>\n",
       "<table border=\"1\" class=\"dataframe\">\n",
       "  <thead>\n",
       "    <tr style=\"text-align: right;\">\n",
       "      <th></th>\n",
       "      <th>blogger_name</th>\n",
       "      <th>blogger_id</th>\n",
       "      <th>blogger_gender</th>\n",
       "      <th>blogger_region</th>\n",
       "      <th>blogger_tag</th>\n",
       "      <th>blogger_follows</th>\n",
       "      <th>blogger_fans</th>\n",
       "      <th>blogger_posts</th>\n",
       "      <th>brand_uid</th>\n",
       "      <th>brand_blog_name</th>\n",
       "      <th>...</th>\n",
       "      <th>no_likes</th>\n",
       "      <th>no_comments</th>\n",
       "      <th>no_reposts</th>\n",
       "      <th>no_topics</th>\n",
       "      <th>no_related_accounts</th>\n",
       "      <th>product</th>\n",
       "      <th>prod_url</th>\n",
       "      <th>product_price</th>\n",
       "      <th>product_popularity</th>\n",
       "      <th>produc_score</th>\n",
       "    </tr>\n",
       "  </thead>\n",
       "  <tbody>\n",
       "    <tr>\n",
       "      <th>0</th>\n",
       "      <td>小米苏酥</td>\n",
       "      <td>87768787</td>\n",
       "      <td>female</td>\n",
       "      <td>海外</td>\n",
       "      <td>NaN</td>\n",
       "      <td>594</td>\n",
       "      <td>510000</td>\n",
       "      <td>10000</td>\n",
       "      <td>5619422243</td>\n",
       "      <td>井田志Gridnote</td>\n",
       "      <td>...</td>\n",
       "      <td>74</td>\n",
       "      <td>54</td>\n",
       "      <td>2</td>\n",
       "      <td>今日彩妆,眼影,腮红</td>\n",
       "      <td>NaN</td>\n",
       "      <td>CANMAKE14腮红</td>\n",
       "      <td>https://detail.tmall.com/item.htm?id=527978438...</td>\n",
       "      <td>98</td>\n",
       "      <td>275712</td>\n",
       "      <td>4.9</td>\n",
       "    </tr>\n",
       "    <tr>\n",
       "      <th>1</th>\n",
       "      <td>小米苏酥</td>\n",
       "      <td>87768787</td>\n",
       "      <td>female</td>\n",
       "      <td>海外</td>\n",
       "      <td>NaN</td>\n",
       "      <td>594</td>\n",
       "      <td>510000</td>\n",
       "      <td>10000</td>\n",
       "      <td>6079473403</td>\n",
       "      <td>SUQQU_official</td>\n",
       "      <td>...</td>\n",
       "      <td>58</td>\n",
       "      <td>89</td>\n",
       "      <td>3</td>\n",
       "      <td>今日彩妆</td>\n",
       "      <td>NaN</td>\n",
       "      <td>SUQQU眉粉</td>\n",
       "      <td>https://detail.tmall.com/item.htm?id=600779196...</td>\n",
       "      <td>599</td>\n",
       "      <td>2581</td>\n",
       "      <td>4.9</td>\n",
       "    </tr>\n",
       "    <tr>\n",
       "      <th>2</th>\n",
       "      <td>小米苏酥</td>\n",
       "      <td>87768787</td>\n",
       "      <td>female</td>\n",
       "      <td>海外</td>\n",
       "      <td>NaN</td>\n",
       "      <td>594</td>\n",
       "      <td>510000</td>\n",
       "      <td>10000</td>\n",
       "      <td>6320994446</td>\n",
       "      <td>THREE</td>\n",
       "      <td>...</td>\n",
       "      <td>57</td>\n",
       "      <td>63</td>\n",
       "      <td>0</td>\n",
       "      <td>今日彩妆,眼影,腮红,visee,three</td>\n",
       "      <td>NaN</td>\n",
       "      <td>THREE01腮红</td>\n",
       "      <td>https://detail.tmall.com/item.htm?id=572279100...</td>\n",
       "      <td>379</td>\n",
       "      <td>4397</td>\n",
       "      <td>4.7</td>\n",
       "    </tr>\n",
       "    <tr>\n",
       "      <th>3</th>\n",
       "      <td>小米苏酥</td>\n",
       "      <td>87768787</td>\n",
       "      <td>female</td>\n",
       "      <td>海外</td>\n",
       "      <td>NaN</td>\n",
       "      <td>594</td>\n",
       "      <td>510000</td>\n",
       "      <td>10000</td>\n",
       "      <td>2040921197</td>\n",
       "      <td>宝拉珍选PaulasChoice</td>\n",
       "      <td>...</td>\n",
       "      <td>127</td>\n",
       "      <td>131</td>\n",
       "      <td>41</td>\n",
       "      <td>护肤,空瓶记</td>\n",
       "      <td>NaN</td>\n",
       "      <td>宝拉珍选大地之源洁面</td>\n",
       "      <td>https://detail.tmall.com/item.htm?id=443826948...</td>\n",
       "      <td>328</td>\n",
       "      <td>151674</td>\n",
       "      <td>4.7</td>\n",
       "    </tr>\n",
       "    <tr>\n",
       "      <th>4</th>\n",
       "      <td>小米苏酥</td>\n",
       "      <td>87768787</td>\n",
       "      <td>female</td>\n",
       "      <td>海外</td>\n",
       "      <td>NaN</td>\n",
       "      <td>594</td>\n",
       "      <td>510000</td>\n",
       "      <td>10000</td>\n",
       "      <td>1791154147</td>\n",
       "      <td>红门雅顿</td>\n",
       "      <td>...</td>\n",
       "      <td>54</td>\n",
       "      <td>67</td>\n",
       "      <td>31</td>\n",
       "      <td>护肤,空瓶记</td>\n",
       "      <td>NaN</td>\n",
       "      <td>雅顿铂粹御肤精华</td>\n",
       "      <td>https://detail.tmall.com/item.htm?id=591580395...</td>\n",
       "      <td>790</td>\n",
       "      <td>194904</td>\n",
       "      <td>4.8</td>\n",
       "    </tr>\n",
       "  </tbody>\n",
       "</table>\n",
       "<p>5 rows × 33 columns</p>\n",
       "</div>"
      ],
      "text/plain": [
       "  blogger_name  blogger_id blogger_gender blogger_region blogger_tag  \\\n",
       "0         小米苏酥    87768787         female             海外         NaN   \n",
       "1         小米苏酥    87768787         female             海外         NaN   \n",
       "2         小米苏酥    87768787         female             海外         NaN   \n",
       "3         小米苏酥    87768787         female             海外         NaN   \n",
       "4         小米苏酥    87768787         female             海外         NaN   \n",
       "\n",
       "   blogger_follows  blogger_fans  blogger_posts   brand_uid   brand_blog_name  \\\n",
       "0              594        510000          10000  5619422243       井田志Gridnote   \n",
       "1              594        510000          10000  6079473403    SUQQU_official   \n",
       "2              594        510000          10000  6320994446             THREE   \n",
       "3              594        510000          10000  2040921197  宝拉珍选PaulasChoice   \n",
       "4              594        510000          10000  1791154147              红门雅顿   \n",
       "\n",
       "   ... no_likes no_comments no_reposts               no_topics  \\\n",
       "0  ...       74          54          2              今日彩妆,眼影,腮红   \n",
       "1  ...       58          89          3                    今日彩妆   \n",
       "2  ...       57          63          0  今日彩妆,眼影,腮红,visee,three   \n",
       "3  ...      127         131         41                  护肤,空瓶记   \n",
       "4  ...       54          67         31                  护肤,空瓶记   \n",
       "\n",
       "   no_related_accounts      product  \\\n",
       "0                  NaN  CANMAKE14腮红   \n",
       "1                  NaN      SUQQU眉粉   \n",
       "2                  NaN    THREE01腮红   \n",
       "3                  NaN   宝拉珍选大地之源洁面   \n",
       "4                  NaN     雅顿铂粹御肤精华   \n",
       "\n",
       "                                            prod_url  product_price  \\\n",
       "0  https://detail.tmall.com/item.htm?id=527978438...             98   \n",
       "1  https://detail.tmall.com/item.htm?id=600779196...            599   \n",
       "2  https://detail.tmall.com/item.htm?id=572279100...            379   \n",
       "3  https://detail.tmall.com/item.htm?id=443826948...            328   \n",
       "4  https://detail.tmall.com/item.htm?id=591580395...            790   \n",
       "\n",
       "  product_popularity produc_score  \n",
       "0             275712          4.9  \n",
       "1               2581          4.9  \n",
       "2               4397          4.7  \n",
       "3             151674          4.7  \n",
       "4             194904          4.8  \n",
       "\n",
       "[5 rows x 33 columns]"
      ]
     },
     "execution_count": 105,
     "metadata": {},
     "output_type": "execute_result"
    },
    {
     "data": {
      "text/plain": [
       "13556"
      ]
     },
     "execution_count": 105,
     "metadata": {},
     "output_type": "execute_result"
    },
    {
     "data": {
      "text/html": [
       "<div>\n",
       "<style scoped>\n",
       "    .dataframe tbody tr th:only-of-type {\n",
       "        vertical-align: middle;\n",
       "    }\n",
       "\n",
       "    .dataframe tbody tr th {\n",
       "        vertical-align: top;\n",
       "    }\n",
       "\n",
       "    .dataframe thead th {\n",
       "        text-align: right;\n",
       "    }\n",
       "</style>\n",
       "<table border=\"1\" class=\"dataframe\">\n",
       "  <thead>\n",
       "    <tr style=\"text-align: right;\">\n",
       "      <th></th>\n",
       "      <th>blogger_gender</th>\n",
       "      <th>blogger_tag</th>\n",
       "      <th>blogger_follows</th>\n",
       "      <th>blogger_fans</th>\n",
       "      <th>blogger_posts</th>\n",
       "      <th>brand_gender</th>\n",
       "      <th>brand_follows</th>\n",
       "      <th>brand_fans</th>\n",
       "      <th>brand_posts</th>\n",
       "      <th>brand_hot_topic</th>\n",
       "      <th>...</th>\n",
       "      <th>picture</th>\n",
       "      <th>video</th>\n",
       "      <th>no_likes</th>\n",
       "      <th>no_comments</th>\n",
       "      <th>no_reposts</th>\n",
       "      <th>no_topics</th>\n",
       "      <th>no_related_accounts</th>\n",
       "      <th>product_price</th>\n",
       "      <th>product_popularity</th>\n",
       "      <th>produc_score</th>\n",
       "    </tr>\n",
       "  </thead>\n",
       "  <tbody>\n",
       "    <tr>\n",
       "      <th>0</th>\n",
       "      <td>1</td>\n",
       "      <td>0</td>\n",
       "      <td>594</td>\n",
       "      <td>510000</td>\n",
       "      <td>10000</td>\n",
       "      <td>0</td>\n",
       "      <td>363</td>\n",
       "      <td>3487</td>\n",
       "      <td>494</td>\n",
       "      <td>1</td>\n",
       "      <td>...</td>\n",
       "      <td>6</td>\n",
       "      <td>0</td>\n",
       "      <td>74</td>\n",
       "      <td>54</td>\n",
       "      <td>2</td>\n",
       "      <td>3</td>\n",
       "      <td>0</td>\n",
       "      <td>98</td>\n",
       "      <td>275712</td>\n",
       "      <td>4.9</td>\n",
       "    </tr>\n",
       "    <tr>\n",
       "      <th>1</th>\n",
       "      <td>1</td>\n",
       "      <td>0</td>\n",
       "      <td>594</td>\n",
       "      <td>510000</td>\n",
       "      <td>10000</td>\n",
       "      <td>1</td>\n",
       "      <td>217</td>\n",
       "      <td>490000</td>\n",
       "      <td>781</td>\n",
       "      <td>1</td>\n",
       "      <td>...</td>\n",
       "      <td>4</td>\n",
       "      <td>0</td>\n",
       "      <td>58</td>\n",
       "      <td>89</td>\n",
       "      <td>3</td>\n",
       "      <td>1</td>\n",
       "      <td>0</td>\n",
       "      <td>599</td>\n",
       "      <td>2581</td>\n",
       "      <td>4.9</td>\n",
       "    </tr>\n",
       "    <tr>\n",
       "      <th>2</th>\n",
       "      <td>1</td>\n",
       "      <td>0</td>\n",
       "      <td>594</td>\n",
       "      <td>510000</td>\n",
       "      <td>10000</td>\n",
       "      <td>1</td>\n",
       "      <td>14</td>\n",
       "      <td>80000</td>\n",
       "      <td>624</td>\n",
       "      <td>0</td>\n",
       "      <td>...</td>\n",
       "      <td>4</td>\n",
       "      <td>0</td>\n",
       "      <td>57</td>\n",
       "      <td>63</td>\n",
       "      <td>0</td>\n",
       "      <td>5</td>\n",
       "      <td>0</td>\n",
       "      <td>379</td>\n",
       "      <td>4397</td>\n",
       "      <td>4.7</td>\n",
       "    </tr>\n",
       "    <tr>\n",
       "      <th>3</th>\n",
       "      <td>1</td>\n",
       "      <td>0</td>\n",
       "      <td>594</td>\n",
       "      <td>510000</td>\n",
       "      <td>10000</td>\n",
       "      <td>1</td>\n",
       "      <td>271</td>\n",
       "      <td>260000</td>\n",
       "      <td>7286</td>\n",
       "      <td>0</td>\n",
       "      <td>...</td>\n",
       "      <td>1</td>\n",
       "      <td>0</td>\n",
       "      <td>127</td>\n",
       "      <td>131</td>\n",
       "      <td>41</td>\n",
       "      <td>2</td>\n",
       "      <td>0</td>\n",
       "      <td>328</td>\n",
       "      <td>151674</td>\n",
       "      <td>4.7</td>\n",
       "    </tr>\n",
       "    <tr>\n",
       "      <th>4</th>\n",
       "      <td>1</td>\n",
       "      <td>0</td>\n",
       "      <td>594</td>\n",
       "      <td>510000</td>\n",
       "      <td>10000</td>\n",
       "      <td>1</td>\n",
       "      <td>268</td>\n",
       "      <td>250000</td>\n",
       "      <td>10000</td>\n",
       "      <td>0</td>\n",
       "      <td>...</td>\n",
       "      <td>1</td>\n",
       "      <td>0</td>\n",
       "      <td>54</td>\n",
       "      <td>67</td>\n",
       "      <td>31</td>\n",
       "      <td>2</td>\n",
       "      <td>0</td>\n",
       "      <td>790</td>\n",
       "      <td>194904</td>\n",
       "      <td>4.8</td>\n",
       "    </tr>\n",
       "  </tbody>\n",
       "</table>\n",
       "<p>5 rows × 21 columns</p>\n",
       "</div>"
      ],
      "text/plain": [
       "   blogger_gender  blogger_tag  blogger_follows  blogger_fans  blogger_posts  \\\n",
       "0               1            0              594        510000          10000   \n",
       "1               1            0              594        510000          10000   \n",
       "2               1            0              594        510000          10000   \n",
       "3               1            0              594        510000          10000   \n",
       "4               1            0              594        510000          10000   \n",
       "\n",
       "   brand_gender  brand_follows  brand_fans  brand_posts  brand_hot_topic  ...  \\\n",
       "0             0            363        3487          494                1  ...   \n",
       "1             1            217      490000          781                1  ...   \n",
       "2             1             14       80000          624                0  ...   \n",
       "3             1            271      260000         7286                0  ...   \n",
       "4             1            268      250000        10000                0  ...   \n",
       "\n",
       "   picture  video  no_likes  no_comments  no_reposts  no_topics  \\\n",
       "0        6      0        74           54           2          3   \n",
       "1        4      0        58           89           3          1   \n",
       "2        4      0        57           63           0          5   \n",
       "3        1      0       127          131          41          2   \n",
       "4        1      0        54           67          31          2   \n",
       "\n",
       "   no_related_accounts  product_price  product_popularity  produc_score  \n",
       "0                    0             98              275712           4.9  \n",
       "1                    0            599                2581           4.9  \n",
       "2                    0            379                4397           4.7  \n",
       "3                    0            328              151674           4.7  \n",
       "4                    0            790              194904           4.8  \n",
       "\n",
       "[5 rows x 21 columns]"
      ]
     },
     "execution_count": 105,
     "metadata": {},
     "output_type": "execute_result"
    }
   ],
   "source": [
    "# remove outliers from the pre-processed data\n",
    "df0 = df0.drop(del_lst)\n",
    "df0 = df0.reset_index(drop = True)\n",
    "len(df0)\n",
    "df0.head()\n",
    "\n",
    "# remove outliers from the processed data\n",
    "df = df.drop(del_lst)\n",
    "df = df.reset_index(drop = True)\n",
    "len(df)\n",
    "df.head()"
   ]
  },
  {
   "cell_type": "code",
   "execution_count": null,
   "metadata": {},
   "outputs": [],
   "source": [
    "df.to_csv('cleaned_train.csv')"
   ]
  },
  {
   "cell_type": "markdown",
   "metadata": {},
   "source": [
    "## Re-Box-Plot"
   ]
  },
  {
   "cell_type": "code",
   "execution_count": 106,
   "metadata": {},
   "outputs": [
    {
     "data": {
      "text/plain": [
       "<matplotlib.axes._subplots.AxesSubplot at 0x1a20384400>"
      ]
     },
     "execution_count": 106,
     "metadata": {},
     "output_type": "execute_result"
    },
    {
     "data": {
      "image/png": "[encoded data removed]",
      "text/plain": [
       "<Figure size 432x288 with 1 Axes>"
      ]
     },
     "metadata": {},
     "output_type": "display_data"
    }
   ],
   "source": [
    "df.boxplot(column = ['no_likes'])"
   ]
  },
  {
   "cell_type": "code",
   "execution_count": 107,
   "metadata": {},
   "outputs": [
    {
     "data": {
      "text/plain": [
       "<matplotlib.axes._subplots.AxesSubplot at 0x1a345925f8>"
      ]
     },
     "execution_count": 107,
     "metadata": {},
     "output_type": "execute_result"
    },
    {
     "data": {
      "image/png": "[encoded data removed]",
      "text/plain": [
       "<Figure size 432x288 with 1 Axes>"
      ]
     },
     "metadata": {},
     "output_type": "display_data"
    }
   ],
   "source": [
    "df.boxplot(column = ['no_comments'])"
   ]
  },
  {
   "cell_type": "code",
   "execution_count": 108,
   "metadata": {},
   "outputs": [
    {
     "data": {
      "text/plain": [
       "<matplotlib.axes._subplots.AxesSubplot at 0x1a23b68e10>"
      ]
     },
     "execution_count": 108,
     "metadata": {},
     "output_type": "execute_result"
    },
    {
     "data": {
      "image/png": "[encoded data removed]",
      "text/plain": [
       "<Figure size 432x288 with 1 Axes>"
      ]
     },
     "metadata": {},
     "output_type": "display_data"
    }
   ],
   "source": [
    "df.boxplot(column = ['no_reposts'])"
   ]
  },
  {
   "cell_type": "code",
   "execution_count": 113,
   "metadata": {},
   "outputs": [
    {
     "data": {
      "text/plain": [
       "<matplotlib.axes._subplots.AxesSubplot at 0x1a252c6940>"
      ]
     },
     "execution_count": 113,
     "metadata": {},
     "output_type": "execute_result"
    },
    {
     "data": {
      "image/png": "[encoded data removed]",
      "text/plain": [
       "<Figure size 432x288 with 1 Axes>"
      ]
     },
     "metadata": {},
     "output_type": "display_data"
    }
   ],
   "source": [
    "tmp = np.log(list(np.array(list(df['no_likes']))+1))\n",
    "tmp = pd.DataFrame(tmp)\n",
    "tmp.columns = ['log_likes']\n",
    "tmp.boxplot(column = 'log_likes')"
   ]
  },
  {
   "cell_type": "code",
   "execution_count": 114,
   "metadata": {},
   "outputs": [
    {
     "data": {
      "text/plain": [
       "<matplotlib.axes._subplots.AxesSubplot at 0x1a24a72940>"
      ]
     },
     "execution_count": 114,
     "metadata": {},
     "output_type": "execute_result"
    },
    {
     "data": {
      "image/png": "[encoded data removed]",
      "text/plain": [
       "<Figure size 432x288 with 1 Axes>"
      ]
     },
     "metadata": {},
     "output_type": "display_data"
    }
   ],
   "source": [
    "tmp = np.log(list(np.array(list(df['no_comments']))+1))\n",
    "tmp = pd.DataFrame(tmp)\n",
    "tmp.columns = ['log_comments']\n",
    "tmp.boxplot(column = 'log_comments')"
   ]
  },
  {
   "cell_type": "code",
   "execution_count": 118,
   "metadata": {},
   "outputs": [
    {
     "data": {
      "text/plain": [
       "<matplotlib.axes._subplots.AxesSubplot at 0x1a252e0b00>"
      ]
     },
     "execution_count": 118,
     "metadata": {},
     "output_type": "execute_result"
    },
    {
     "data": {
      "image/png": "[encoded data removed]",
      "text/plain": [
       "<Figure size 432x288 with 1 Axes>"
      ]
     },
     "metadata": {},
     "output_type": "display_data"
    }
   ],
   "source": [
    "tmp = np.log(list(np.array(list(df['no_reposts']))+1))\n",
    "tmp = pd.DataFrame(tmp)\n",
    "tmp.columns = ['log_reposts']\n",
    "tmp.boxplot(column = 'log_reposts')"
   ]
  },
  {
   "cell_type": "markdown",
   "metadata": {},
   "source": [
    "# K-Means Clustering"
   ]
  },
  {
   "cell_type": "code",
   "execution_count": 132,
   "metadata": {},
   "outputs": [
    {
     "data": {
      "text/html": [
       "<div>\n",
       "<style scoped>\n",
       "    .dataframe tbody tr th:only-of-type {\n",
       "        vertical-align: middle;\n",
       "    }\n",
       "\n",
       "    .dataframe tbody tr th {\n",
       "        vertical-align: top;\n",
       "    }\n",
       "\n",
       "    .dataframe thead th {\n",
       "        text-align: right;\n",
       "    }\n",
       "</style>\n",
       "<table border=\"1\" class=\"dataframe\">\n",
       "  <thead>\n",
       "    <tr style=\"text-align: right;\">\n",
       "      <th></th>\n",
       "      <th>blogger_gender</th>\n",
       "      <th>blogger_tag</th>\n",
       "      <th>blogger_follows</th>\n",
       "      <th>blogger_fans</th>\n",
       "      <th>blogger_posts</th>\n",
       "      <th>brand_gender</th>\n",
       "      <th>brand_follows</th>\n",
       "      <th>brand_fans</th>\n",
       "      <th>brand_posts</th>\n",
       "      <th>brand_hot_topic</th>\n",
       "      <th>...</th>\n",
       "      <th>picture</th>\n",
       "      <th>video</th>\n",
       "      <th>no_likes</th>\n",
       "      <th>no_comments</th>\n",
       "      <th>no_reposts</th>\n",
       "      <th>no_topics</th>\n",
       "      <th>no_related_accounts</th>\n",
       "      <th>product_price</th>\n",
       "      <th>product_popularity</th>\n",
       "      <th>produc_score</th>\n",
       "    </tr>\n",
       "  </thead>\n",
       "  <tbody>\n",
       "    <tr>\n",
       "      <th>0</th>\n",
       "      <td>1</td>\n",
       "      <td>0</td>\n",
       "      <td>594</td>\n",
       "      <td>510000</td>\n",
       "      <td>10000</td>\n",
       "      <td>0</td>\n",
       "      <td>363</td>\n",
       "      <td>3487</td>\n",
       "      <td>494</td>\n",
       "      <td>1</td>\n",
       "      <td>...</td>\n",
       "      <td>6</td>\n",
       "      <td>0</td>\n",
       "      <td>74</td>\n",
       "      <td>54</td>\n",
       "      <td>2</td>\n",
       "      <td>3</td>\n",
       "      <td>0</td>\n",
       "      <td>98</td>\n",
       "      <td>275712</td>\n",
       "      <td>4.9</td>\n",
       "    </tr>\n",
       "    <tr>\n",
       "      <th>1</th>\n",
       "      <td>1</td>\n",
       "      <td>0</td>\n",
       "      <td>594</td>\n",
       "      <td>510000</td>\n",
       "      <td>10000</td>\n",
       "      <td>1</td>\n",
       "      <td>217</td>\n",
       "      <td>490000</td>\n",
       "      <td>781</td>\n",
       "      <td>1</td>\n",
       "      <td>...</td>\n",
       "      <td>4</td>\n",
       "      <td>0</td>\n",
       "      <td>58</td>\n",
       "      <td>89</td>\n",
       "      <td>3</td>\n",
       "      <td>1</td>\n",
       "      <td>0</td>\n",
       "      <td>599</td>\n",
       "      <td>2581</td>\n",
       "      <td>4.9</td>\n",
       "    </tr>\n",
       "    <tr>\n",
       "      <th>2</th>\n",
       "      <td>1</td>\n",
       "      <td>0</td>\n",
       "      <td>594</td>\n",
       "      <td>510000</td>\n",
       "      <td>10000</td>\n",
       "      <td>1</td>\n",
       "      <td>14</td>\n",
       "      <td>80000</td>\n",
       "      <td>624</td>\n",
       "      <td>0</td>\n",
       "      <td>...</td>\n",
       "      <td>4</td>\n",
       "      <td>0</td>\n",
       "      <td>57</td>\n",
       "      <td>63</td>\n",
       "      <td>0</td>\n",
       "      <td>5</td>\n",
       "      <td>0</td>\n",
       "      <td>379</td>\n",
       "      <td>4397</td>\n",
       "      <td>4.7</td>\n",
       "    </tr>\n",
       "    <tr>\n",
       "      <th>3</th>\n",
       "      <td>1</td>\n",
       "      <td>0</td>\n",
       "      <td>594</td>\n",
       "      <td>510000</td>\n",
       "      <td>10000</td>\n",
       "      <td>1</td>\n",
       "      <td>271</td>\n",
       "      <td>260000</td>\n",
       "      <td>7286</td>\n",
       "      <td>0</td>\n",
       "      <td>...</td>\n",
       "      <td>1</td>\n",
       "      <td>0</td>\n",
       "      <td>127</td>\n",
       "      <td>131</td>\n",
       "      <td>41</td>\n",
       "      <td>2</td>\n",
       "      <td>0</td>\n",
       "      <td>328</td>\n",
       "      <td>151674</td>\n",
       "      <td>4.7</td>\n",
       "    </tr>\n",
       "    <tr>\n",
       "      <th>4</th>\n",
       "      <td>1</td>\n",
       "      <td>0</td>\n",
       "      <td>594</td>\n",
       "      <td>510000</td>\n",
       "      <td>10000</td>\n",
       "      <td>1</td>\n",
       "      <td>268</td>\n",
       "      <td>250000</td>\n",
       "      <td>10000</td>\n",
       "      <td>0</td>\n",
       "      <td>...</td>\n",
       "      <td>1</td>\n",
       "      <td>0</td>\n",
       "      <td>54</td>\n",
       "      <td>67</td>\n",
       "      <td>31</td>\n",
       "      <td>2</td>\n",
       "      <td>0</td>\n",
       "      <td>790</td>\n",
       "      <td>194904</td>\n",
       "      <td>4.8</td>\n",
       "    </tr>\n",
       "  </tbody>\n",
       "</table>\n",
       "<p>5 rows × 21 columns</p>\n",
       "</div>"
      ],
      "text/plain": [
       "   blogger_gender  blogger_tag  blogger_follows  blogger_fans  blogger_posts  \\\n",
       "0               1            0              594        510000          10000   \n",
       "1               1            0              594        510000          10000   \n",
       "2               1            0              594        510000          10000   \n",
       "3               1            0              594        510000          10000   \n",
       "4               1            0              594        510000          10000   \n",
       "\n",
       "   brand_gender  brand_follows  brand_fans  brand_posts  brand_hot_topic  ...  \\\n",
       "0             0            363        3487          494                1  ...   \n",
       "1             1            217      490000          781                1  ...   \n",
       "2             1             14       80000          624                0  ...   \n",
       "3             1            271      260000         7286                0  ...   \n",
       "4             1            268      250000        10000                0  ...   \n",
       "\n",
       "   picture  video  no_likes  no_comments  no_reposts  no_topics  \\\n",
       "0        6      0        74           54           2          3   \n",
       "1        4      0        58           89           3          1   \n",
       "2        4      0        57           63           0          5   \n",
       "3        1      0       127          131          41          2   \n",
       "4        1      0        54           67          31          2   \n",
       "\n",
       "   no_related_accounts  product_price  product_popularity  produc_score  \n",
       "0                    0             98              275712           4.9  \n",
       "1                    0            599                2581           4.9  \n",
       "2                    0            379                4397           4.7  \n",
       "3                    0            328              151674           4.7  \n",
       "4                    0            790              194904           4.8  \n",
       "\n",
       "[5 rows x 21 columns]"
      ]
     },
     "execution_count": 132,
     "metadata": {},
     "output_type": "execute_result"
    },
    {
     "data": {
      "text/plain": [
       "blogger_gender           int64\n",
       "blogger_tag              int64\n",
       "blogger_follows          int64\n",
       "blogger_fans             int64\n",
       "blogger_posts            int64\n",
       "brand_gender             int64\n",
       "brand_follows            int64\n",
       "brand_fans               int64\n",
       "brand_posts              int64\n",
       "brand_hot_topic          int64\n",
       "post                     int64\n",
       "picture                  int64\n",
       "video                    int64\n",
       "no_likes                 int64\n",
       "no_comments              int64\n",
       "no_reposts               int64\n",
       "no_topics                int64\n",
       "no_related_accounts      int64\n",
       "product_price            int64\n",
       "product_popularity       int64\n",
       "produc_score           float64\n",
       "dtype: object"
      ]
     },
     "execution_count": 132,
     "metadata": {},
     "output_type": "execute_result"
    },
    {
     "data": {
      "text/plain": [
       "Index(['blogger_gender', 'blogger_tag', 'blogger_follows', 'blogger_fans',\n",
       "       'blogger_posts', 'brand_gender', 'brand_follows', 'brand_fans',\n",
       "       'brand_posts', 'brand_hot_topic', 'post', 'picture', 'video',\n",
       "       'no_likes', 'no_comments', 'no_reposts', 'no_topics',\n",
       "       'no_related_accounts', 'product_price', 'product_popularity',\n",
       "       'produc_score'],\n",
       "      dtype='object')"
      ]
     },
     "execution_count": 132,
     "metadata": {},
     "output_type": "execute_result"
    }
   ],
   "source": [
    "df = pd.read_csv(\"cleaned_train.csv\", index_col = 0)\n",
    "df.head()\n",
    "df.dtypes\n",
    "df.columns"
   ]
  },
  {
   "cell_type": "code",
   "execution_count": 133,
   "metadata": {},
   "outputs": [
    {
     "ename": "NameError",
     "evalue": "name 'X' is not defined",
     "output_type": "error",
     "traceback": [
      "\u001b[0;31m---------------------------------------------------------------------------\u001b[0m",
      "\u001b[0;31mNameError\u001b[0m                                 Traceback (most recent call last)",
      "\u001b[0;32m<ipython-input-133-8a0ef4185463>\u001b[0m in \u001b[0;36m<module>\u001b[0;34m\u001b[0m\n\u001b[1;32m      7\u001b[0m         \u001b[0mtol\u001b[0m\u001b[0;34m=\u001b[0m\u001b[0;36m1e-04\u001b[0m\u001b[0;34m,\u001b[0m \u001b[0mrandom_state\u001b[0m\u001b[0;34m=\u001b[0m\u001b[0;36m0\u001b[0m\u001b[0;34m\u001b[0m\u001b[0;34m\u001b[0m\u001b[0m\n\u001b[1;32m      8\u001b[0m     )\n\u001b[0;32m----> 9\u001b[0;31m     \u001b[0mkm\u001b[0m\u001b[0;34m.\u001b[0m\u001b[0mfit\u001b[0m\u001b[0;34m(\u001b[0m\u001b[0mX\u001b[0m\u001b[0;34m)\u001b[0m\u001b[0;34m\u001b[0m\u001b[0;34m\u001b[0m\u001b[0m\n\u001b[0m\u001b[1;32m     10\u001b[0m     \u001b[0mdistortions\u001b[0m\u001b[0;34m.\u001b[0m\u001b[0mappend\u001b[0m\u001b[0;34m(\u001b[0m\u001b[0mkm\u001b[0m\u001b[0;34m.\u001b[0m\u001b[0minertia_\u001b[0m\u001b[0;34m)\u001b[0m\u001b[0;34m\u001b[0m\u001b[0;34m\u001b[0m\u001b[0m\n\u001b[1;32m     11\u001b[0m \u001b[0;34m\u001b[0m\u001b[0m\n",
      "\u001b[0;31mNameError\u001b[0m: name 'X' is not defined"
     ]
    }
   ],
   "source": []
  },
  {
   "cell_type": "markdown",
   "metadata": {},
   "source": [
    "## Log Likes"
   ]
  },
  {
   "cell_type": "code",
   "execution_count": 150,
   "metadata": {
    "scrolled": true
   },
   "outputs": [
    {
     "data": {
      "text/html": [
       "<div>\n",
       "<style scoped>\n",
       "    .dataframe tbody tr th:only-of-type {\n",
       "        vertical-align: middle;\n",
       "    }\n",
       "\n",
       "    .dataframe tbody tr th {\n",
       "        vertical-align: top;\n",
       "    }\n",
       "\n",
       "    .dataframe thead th {\n",
       "        text-align: right;\n",
       "    }\n",
       "</style>\n",
       "<table border=\"1\" class=\"dataframe\">\n",
       "  <thead>\n",
       "    <tr style=\"text-align: right;\">\n",
       "      <th></th>\n",
       "      <th>no_likes</th>\n",
       "      <th>y</th>\n",
       "    </tr>\n",
       "  </thead>\n",
       "  <tbody>\n",
       "    <tr>\n",
       "      <th>0</th>\n",
       "      <td>4.317488</td>\n",
       "      <td>1.0</td>\n",
       "    </tr>\n",
       "    <tr>\n",
       "      <th>1</th>\n",
       "      <td>4.077537</td>\n",
       "      <td>1.0</td>\n",
       "    </tr>\n",
       "    <tr>\n",
       "      <th>2</th>\n",
       "      <td>4.060443</td>\n",
       "      <td>1.0</td>\n",
       "    </tr>\n",
       "    <tr>\n",
       "      <th>3</th>\n",
       "      <td>4.852030</td>\n",
       "      <td>1.0</td>\n",
       "    </tr>\n",
       "    <tr>\n",
       "      <th>4</th>\n",
       "      <td>4.007333</td>\n",
       "      <td>1.0</td>\n",
       "    </tr>\n",
       "    <tr>\n",
       "      <th>5</th>\n",
       "      <td>2.708050</td>\n",
       "      <td>1.0</td>\n",
       "    </tr>\n",
       "    <tr>\n",
       "      <th>6</th>\n",
       "      <td>3.332205</td>\n",
       "      <td>1.0</td>\n",
       "    </tr>\n",
       "    <tr>\n",
       "      <th>7</th>\n",
       "      <td>3.091042</td>\n",
       "      <td>1.0</td>\n",
       "    </tr>\n",
       "    <tr>\n",
       "      <th>8</th>\n",
       "      <td>3.610918</td>\n",
       "      <td>1.0</td>\n",
       "    </tr>\n",
       "    <tr>\n",
       "      <th>9</th>\n",
       "      <td>6.995766</td>\n",
       "      <td>1.0</td>\n",
       "    </tr>\n",
       "    <tr>\n",
       "      <th>10</th>\n",
       "      <td>7.431300</td>\n",
       "      <td>1.0</td>\n",
       "    </tr>\n",
       "    <tr>\n",
       "      <th>11</th>\n",
       "      <td>8.605387</td>\n",
       "      <td>1.0</td>\n",
       "    </tr>\n",
       "    <tr>\n",
       "      <th>12</th>\n",
       "      <td>8.772765</td>\n",
       "      <td>1.0</td>\n",
       "    </tr>\n",
       "    <tr>\n",
       "      <th>13</th>\n",
       "      <td>8.791486</td>\n",
       "      <td>1.0</td>\n",
       "    </tr>\n",
       "    <tr>\n",
       "      <th>14</th>\n",
       "      <td>8.690810</td>\n",
       "      <td>1.0</td>\n",
       "    </tr>\n",
       "    <tr>\n",
       "      <th>15</th>\n",
       "      <td>9.151333</td>\n",
       "      <td>1.0</td>\n",
       "    </tr>\n",
       "    <tr>\n",
       "      <th>16</th>\n",
       "      <td>8.856376</td>\n",
       "      <td>1.0</td>\n",
       "    </tr>\n",
       "    <tr>\n",
       "      <th>17</th>\n",
       "      <td>8.763115</td>\n",
       "      <td>1.0</td>\n",
       "    </tr>\n",
       "    <tr>\n",
       "      <th>18</th>\n",
       "      <td>8.630343</td>\n",
       "      <td>1.0</td>\n",
       "    </tr>\n",
       "    <tr>\n",
       "      <th>19</th>\n",
       "      <td>8.742574</td>\n",
       "      <td>1.0</td>\n",
       "    </tr>\n",
       "    <tr>\n",
       "      <th>20</th>\n",
       "      <td>8.816705</td>\n",
       "      <td>1.0</td>\n",
       "    </tr>\n",
       "    <tr>\n",
       "      <th>21</th>\n",
       "      <td>8.358666</td>\n",
       "      <td>1.0</td>\n",
       "    </tr>\n",
       "    <tr>\n",
       "      <th>22</th>\n",
       "      <td>8.545781</td>\n",
       "      <td>1.0</td>\n",
       "    </tr>\n",
       "    <tr>\n",
       "      <th>23</th>\n",
       "      <td>8.816260</td>\n",
       "      <td>1.0</td>\n",
       "    </tr>\n",
       "    <tr>\n",
       "      <th>24</th>\n",
       "      <td>8.643297</td>\n",
       "      <td>1.0</td>\n",
       "    </tr>\n",
       "    <tr>\n",
       "      <th>25</th>\n",
       "      <td>6.843750</td>\n",
       "      <td>1.0</td>\n",
       "    </tr>\n",
       "    <tr>\n",
       "      <th>26</th>\n",
       "      <td>7.825245</td>\n",
       "      <td>1.0</td>\n",
       "    </tr>\n",
       "    <tr>\n",
       "      <th>27</th>\n",
       "      <td>6.018593</td>\n",
       "      <td>1.0</td>\n",
       "    </tr>\n",
       "    <tr>\n",
       "      <th>28</th>\n",
       "      <td>7.100027</td>\n",
       "      <td>1.0</td>\n",
       "    </tr>\n",
       "    <tr>\n",
       "      <th>29</th>\n",
       "      <td>7.402452</td>\n",
       "      <td>1.0</td>\n",
       "    </tr>\n",
       "    <tr>\n",
       "      <th>...</th>\n",
       "      <td>...</td>\n",
       "      <td>...</td>\n",
       "    </tr>\n",
       "    <tr>\n",
       "      <th>13526</th>\n",
       "      <td>4.127134</td>\n",
       "      <td>1.0</td>\n",
       "    </tr>\n",
       "    <tr>\n",
       "      <th>13527</th>\n",
       "      <td>6.591674</td>\n",
       "      <td>1.0</td>\n",
       "    </tr>\n",
       "    <tr>\n",
       "      <th>13528</th>\n",
       "      <td>4.927254</td>\n",
       "      <td>1.0</td>\n",
       "    </tr>\n",
       "    <tr>\n",
       "      <th>13529</th>\n",
       "      <td>5.192957</td>\n",
       "      <td>1.0</td>\n",
       "    </tr>\n",
       "    <tr>\n",
       "      <th>13530</th>\n",
       "      <td>5.017280</td>\n",
       "      <td>1.0</td>\n",
       "    </tr>\n",
       "    <tr>\n",
       "      <th>13531</th>\n",
       "      <td>6.781058</td>\n",
       "      <td>1.0</td>\n",
       "    </tr>\n",
       "    <tr>\n",
       "      <th>13532</th>\n",
       "      <td>6.704414</td>\n",
       "      <td>1.0</td>\n",
       "    </tr>\n",
       "    <tr>\n",
       "      <th>13533</th>\n",
       "      <td>4.174387</td>\n",
       "      <td>1.0</td>\n",
       "    </tr>\n",
       "    <tr>\n",
       "      <th>13534</th>\n",
       "      <td>7.137278</td>\n",
       "      <td>1.0</td>\n",
       "    </tr>\n",
       "    <tr>\n",
       "      <th>13535</th>\n",
       "      <td>6.240276</td>\n",
       "      <td>1.0</td>\n",
       "    </tr>\n",
       "    <tr>\n",
       "      <th>13536</th>\n",
       "      <td>0.000000</td>\n",
       "      <td>1.0</td>\n",
       "    </tr>\n",
       "    <tr>\n",
       "      <th>13537</th>\n",
       "      <td>0.693147</td>\n",
       "      <td>1.0</td>\n",
       "    </tr>\n",
       "    <tr>\n",
       "      <th>13538</th>\n",
       "      <td>0.693147</td>\n",
       "      <td>1.0</td>\n",
       "    </tr>\n",
       "    <tr>\n",
       "      <th>13539</th>\n",
       "      <td>1.609438</td>\n",
       "      <td>1.0</td>\n",
       "    </tr>\n",
       "    <tr>\n",
       "      <th>13540</th>\n",
       "      <td>0.000000</td>\n",
       "      <td>1.0</td>\n",
       "    </tr>\n",
       "    <tr>\n",
       "      <th>13541</th>\n",
       "      <td>0.000000</td>\n",
       "      <td>1.0</td>\n",
       "    </tr>\n",
       "    <tr>\n",
       "      <th>13542</th>\n",
       "      <td>0.000000</td>\n",
       "      <td>1.0</td>\n",
       "    </tr>\n",
       "    <tr>\n",
       "      <th>13543</th>\n",
       "      <td>0.693147</td>\n",
       "      <td>1.0</td>\n",
       "    </tr>\n",
       "    <tr>\n",
       "      <th>13544</th>\n",
       "      <td>0.000000</td>\n",
       "      <td>1.0</td>\n",
       "    </tr>\n",
       "    <tr>\n",
       "      <th>13545</th>\n",
       "      <td>2.564949</td>\n",
       "      <td>1.0</td>\n",
       "    </tr>\n",
       "    <tr>\n",
       "      <th>13546</th>\n",
       "      <td>1.098612</td>\n",
       "      <td>1.0</td>\n",
       "    </tr>\n",
       "    <tr>\n",
       "      <th>13547</th>\n",
       "      <td>0.000000</td>\n",
       "      <td>1.0</td>\n",
       "    </tr>\n",
       "    <tr>\n",
       "      <th>13548</th>\n",
       "      <td>1.791759</td>\n",
       "      <td>1.0</td>\n",
       "    </tr>\n",
       "    <tr>\n",
       "      <th>13549</th>\n",
       "      <td>1.386294</td>\n",
       "      <td>1.0</td>\n",
       "    </tr>\n",
       "    <tr>\n",
       "      <th>13550</th>\n",
       "      <td>1.609438</td>\n",
       "      <td>1.0</td>\n",
       "    </tr>\n",
       "    <tr>\n",
       "      <th>13551</th>\n",
       "      <td>1.386294</td>\n",
       "      <td>1.0</td>\n",
       "    </tr>\n",
       "    <tr>\n",
       "      <th>13552</th>\n",
       "      <td>1.609438</td>\n",
       "      <td>1.0</td>\n",
       "    </tr>\n",
       "    <tr>\n",
       "      <th>13553</th>\n",
       "      <td>1.609438</td>\n",
       "      <td>1.0</td>\n",
       "    </tr>\n",
       "    <tr>\n",
       "      <th>13554</th>\n",
       "      <td>1.098612</td>\n",
       "      <td>1.0</td>\n",
       "    </tr>\n",
       "    <tr>\n",
       "      <th>13555</th>\n",
       "      <td>1.609438</td>\n",
       "      <td>1.0</td>\n",
       "    </tr>\n",
       "  </tbody>\n",
       "</table>\n",
       "<p>13556 rows × 2 columns</p>\n",
       "</div>"
      ],
      "text/plain": [
       "       no_likes    y\n",
       "0      4.317488  1.0\n",
       "1      4.077537  1.0\n",
       "2      4.060443  1.0\n",
       "3      4.852030  1.0\n",
       "4      4.007333  1.0\n",
       "5      2.708050  1.0\n",
       "6      3.332205  1.0\n",
       "7      3.091042  1.0\n",
       "8      3.610918  1.0\n",
       "9      6.995766  1.0\n",
       "10     7.431300  1.0\n",
       "11     8.605387  1.0\n",
       "12     8.772765  1.0\n",
       "13     8.791486  1.0\n",
       "14     8.690810  1.0\n",
       "15     9.151333  1.0\n",
       "16     8.856376  1.0\n",
       "17     8.763115  1.0\n",
       "18     8.630343  1.0\n",
       "19     8.742574  1.0\n",
       "20     8.816705  1.0\n",
       "21     8.358666  1.0\n",
       "22     8.545781  1.0\n",
       "23     8.816260  1.0\n",
       "24     8.643297  1.0\n",
       "25     6.843750  1.0\n",
       "26     7.825245  1.0\n",
       "27     6.018593  1.0\n",
       "28     7.100027  1.0\n",
       "29     7.402452  1.0\n",
       "...         ...  ...\n",
       "13526  4.127134  1.0\n",
       "13527  6.591674  1.0\n",
       "13528  4.927254  1.0\n",
       "13529  5.192957  1.0\n",
       "13530  5.017280  1.0\n",
       "13531  6.781058  1.0\n",
       "13532  6.704414  1.0\n",
       "13533  4.174387  1.0\n",
       "13534  7.137278  1.0\n",
       "13535  6.240276  1.0\n",
       "13536  0.000000  1.0\n",
       "13537  0.693147  1.0\n",
       "13538  0.693147  1.0\n",
       "13539  1.609438  1.0\n",
       "13540  0.000000  1.0\n",
       "13541  0.000000  1.0\n",
       "13542  0.000000  1.0\n",
       "13543  0.693147  1.0\n",
       "13544  0.000000  1.0\n",
       "13545  2.564949  1.0\n",
       "13546  1.098612  1.0\n",
       "13547  0.000000  1.0\n",
       "13548  1.791759  1.0\n",
       "13549  1.386294  1.0\n",
       "13550  1.609438  1.0\n",
       "13551  1.386294  1.0\n",
       "13552  1.609438  1.0\n",
       "13553  1.609438  1.0\n",
       "13554  1.098612  1.0\n",
       "13555  1.609438  1.0\n",
       "\n",
       "[13556 rows x 2 columns]"
      ]
     },
     "execution_count": 150,
     "metadata": {},
     "output_type": "execute_result"
    },
    {
     "name": "stderr",
     "output_type": "stream",
     "text": [
      "/Applications/anaconda3/lib/python3.7/site-packages/ipykernel_launcher.py:5: FutureWarning: Method .as_matrix will be removed in a future version. Use .values instead.\n",
      "  \"\"\"\n"
     ]
    }
   ],
   "source": [
    "log_ol = np.log(df.iloc[:,13]+1)\n",
    "X1 = pd.DataFrame(log_ol)\n",
    "X1['y'] = np.ones(len(X1))\n",
    "X1.reset_index(drop = True)\n",
    "X1 = X1.as_matrix(columns = None)"
   ]
  },
  {
   "cell_type": "code",
   "execution_count": 151,
   "metadata": {},
   "outputs": [
    {
     "data": {
      "text/plain": [
       "KMeans(algorithm='auto', copy_x=True, init='random', max_iter=13556,\n",
       "       n_clusters=1, n_init=10, n_jobs=None, precompute_distances='auto',\n",
       "       random_state=0, tol=0.0001, verbose=0)"
      ]
     },
     "execution_count": 151,
     "metadata": {},
     "output_type": "execute_result"
    },
    {
     "data": {
      "text/plain": [
       "KMeans(algorithm='auto', copy_x=True, init='random', max_iter=13556,\n",
       "       n_clusters=2, n_init=10, n_jobs=None, precompute_distances='auto',\n",
       "       random_state=0, tol=0.0001, verbose=0)"
      ]
     },
     "execution_count": 151,
     "metadata": {},
     "output_type": "execute_result"
    },
    {
     "data": {
      "text/plain": [
       "KMeans(algorithm='auto', copy_x=True, init='random', max_iter=13556,\n",
       "       n_clusters=3, n_init=10, n_jobs=None, precompute_distances='auto',\n",
       "       random_state=0, tol=0.0001, verbose=0)"
      ]
     },
     "execution_count": 151,
     "metadata": {},
     "output_type": "execute_result"
    },
    {
     "data": {
      "text/plain": [
       "KMeans(algorithm='auto', copy_x=True, init='random', max_iter=13556,\n",
       "       n_clusters=4, n_init=10, n_jobs=None, precompute_distances='auto',\n",
       "       random_state=0, tol=0.0001, verbose=0)"
      ]
     },
     "execution_count": 151,
     "metadata": {},
     "output_type": "execute_result"
    },
    {
     "data": {
      "text/plain": [
       "KMeans(algorithm='auto', copy_x=True, init='random', max_iter=13556,\n",
       "       n_clusters=5, n_init=10, n_jobs=None, precompute_distances='auto',\n",
       "       random_state=0, tol=0.0001, verbose=0)"
      ]
     },
     "execution_count": 151,
     "metadata": {},
     "output_type": "execute_result"
    },
    {
     "data": {
      "text/plain": [
       "KMeans(algorithm='auto', copy_x=True, init='random', max_iter=13556,\n",
       "       n_clusters=6, n_init=10, n_jobs=None, precompute_distances='auto',\n",
       "       random_state=0, tol=0.0001, verbose=0)"
      ]
     },
     "execution_count": 151,
     "metadata": {},
     "output_type": "execute_result"
    },
    {
     "data": {
      "text/plain": [
       "KMeans(algorithm='auto', copy_x=True, init='random', max_iter=13556,\n",
       "       n_clusters=7, n_init=10, n_jobs=None, precompute_distances='auto',\n",
       "       random_state=0, tol=0.0001, verbose=0)"
      ]
     },
     "execution_count": 151,
     "metadata": {},
     "output_type": "execute_result"
    },
    {
     "data": {
      "text/plain": [
       "KMeans(algorithm='auto', copy_x=True, init='random', max_iter=13556,\n",
       "       n_clusters=8, n_init=10, n_jobs=None, precompute_distances='auto',\n",
       "       random_state=0, tol=0.0001, verbose=0)"
      ]
     },
     "execution_count": 151,
     "metadata": {},
     "output_type": "execute_result"
    },
    {
     "data": {
      "text/plain": [
       "KMeans(algorithm='auto', copy_x=True, init='random', max_iter=13556,\n",
       "       n_clusters=9, n_init=10, n_jobs=None, precompute_distances='auto',\n",
       "       random_state=0, tol=0.0001, verbose=0)"
      ]
     },
     "execution_count": 151,
     "metadata": {},
     "output_type": "execute_result"
    },
    {
     "data": {
      "text/plain": [
       "KMeans(algorithm='auto', copy_x=True, init='random', max_iter=13556,\n",
       "       n_clusters=10, n_init=10, n_jobs=None, precompute_distances='auto',\n",
       "       random_state=0, tol=0.0001, verbose=0)"
      ]
     },
     "execution_count": 151,
     "metadata": {},
     "output_type": "execute_result"
    },
    {
     "data": {
      "text/plain": [
       "[<matplotlib.lines.Line2D at 0x1a380f9198>]"
      ]
     },
     "execution_count": 151,
     "metadata": {},
     "output_type": "execute_result"
    },
    {
     "data": {
      "text/plain": [
       "Text(0.5, 0, 'Number of Clusters')"
      ]
     },
     "execution_count": 151,
     "metadata": {},
     "output_type": "execute_result"
    },
    {
     "data": {
      "text/plain": [
       "Text(0, 0.5, 'Distortion')"
      ]
     },
     "execution_count": 151,
     "metadata": {},
     "output_type": "execute_result"
    },
    {
     "data": {
      "image/png": "[encoded data removed]",
      "text/plain": [
       "<Figure size 432x288 with 1 Axes>"
      ]
     },
     "metadata": {},
     "output_type": "display_data"
    }
   ],
   "source": [
    "# calculate distortion for a range of number of cluster\n",
    "distortions = []\n",
    "\n",
    "for i in range(1, 11):\n",
    "    km = KMeans(\n",
    "        n_clusters=i, init='random',\n",
    "        n_init=10, max_iter=13556,\n",
    "        tol=1e-04, random_state=0\n",
    "    )\n",
    "    km.fit(X1)\n",
    "    distortions.append(km.inertia_)\n",
    "\n",
    "# plot\n",
    "plt.plot(range(1, 11), distortions, marker='o')\n",
    "plt.xlabel('Number of Clusters')\n",
    "plt.ylabel('Distortion')\n",
    "plt.show()"
   ]
  },
  {
   "cell_type": "code",
   "execution_count": 152,
   "metadata": {},
   "outputs": [],
   "source": [
    "km = KMeans(\n",
    "    n_clusters=3, init='k-means++',\n",
    "    n_init=10, max_iter=13556, \n",
    "    tol=1e-04, random_state=0\n",
    ")\n",
    "\n",
    "y_km = km.fit_predict(X1)"
   ]
  },
  {
   "cell_type": "code",
   "execution_count": 153,
   "metadata": {},
   "outputs": [
    {
     "data": {
      "text/plain": [
       "<matplotlib.collections.PathCollection at 0x1a382bd6a0>"
      ]
     },
     "execution_count": 153,
     "metadata": {},
     "output_type": "execute_result"
    },
    {
     "data": {
      "text/plain": [
       "<matplotlib.collections.PathCollection at 0x1a382bdb38>"
      ]
     },
     "execution_count": 153,
     "metadata": {},
     "output_type": "execute_result"
    },
    {
     "data": {
      "text/plain": [
       "<matplotlib.collections.PathCollection at 0x1a382bde80>"
      ]
     },
     "execution_count": 153,
     "metadata": {},
     "output_type": "execute_result"
    },
    {
     "data": {
      "text/plain": [
       "<matplotlib.collections.PathCollection at 0x1a382cb2e8>"
      ]
     },
     "execution_count": 153,
     "metadata": {},
     "output_type": "execute_result"
    },
    {
     "data": {
      "text/plain": [
       "<matplotlib.legend.Legend at 0x1a382bdb00>"
      ]
     },
     "execution_count": 153,
     "metadata": {},
     "output_type": "execute_result"
    },
    {
     "data": {
      "text/plain": [
       "<Figure size 6000x4000 with 0 Axes>"
      ]
     },
     "execution_count": 153,
     "metadata": {},
     "output_type": "execute_result"
    },
    {
     "data": {
      "image/png": "[encoded data removed]",
      "text/plain": [
       "<Figure size 432x288 with 1 Axes>"
      ]
     },
     "metadata": {},
     "output_type": "display_data"
    },
    {
     "data": {
      "text/plain": [
       "<Figure size 6000x4000 with 0 Axes>"
      ]
     },
     "metadata": {},
     "output_type": "display_data"
    }
   ],
   "source": [
    "# plot 3 clusters\n",
    "plt.scatter(\n",
    "    X1[y_km == 0, 0], X1[y_km == 0, 1], s=50, c='lightgreen',\n",
    "    marker='s', edgecolor='black',\n",
    "    label='Cluster 1'\n",
    ")\n",
    "\n",
    "plt.scatter(\n",
    "    X1[y_km == 1, 0], X1[y_km == 1, 1], s=50, c='',\n",
    "    marker='o', edgecolor='black',\n",
    "    label='Cluster 2'\n",
    ")\n",
    "\n",
    "plt.scatter(\n",
    "    X1[y_km == 2, 0], X1[y_km == 2, 1], s=50, c='lightblue',\n",
    "    marker='v', edgecolor='black',\n",
    "    label='Cluster 3'\n",
    ")\n",
    "\n",
    "\n",
    "# plot centroids\n",
    "plt.scatter(\n",
    "    km.cluster_centers_[:, 0], km.cluster_centers_[:, 1],\n",
    "    s=250, marker='*',\n",
    "    c='red', edgecolor='black',\n",
    "    label='Centroids'\n",
    ")\n",
    "\n",
    "plt.legend(scatterpoints=1)\n",
    "plt.grid()\n",
    "plt.figure(dpi = 1000)"
   ]
  },
  {
   "cell_type": "code",
   "execution_count": 154,
   "metadata": {},
   "outputs": [],
   "source": [
    "df_ll = df"
   ]
  },
  {
   "cell_type": "code",
   "execution_count": 155,
   "metadata": {},
   "outputs": [],
   "source": [
    "df_ll['class'] = y_km"
   ]
  },
  {
   "cell_type": "code",
   "execution_count": 156,
   "metadata": {},
   "outputs": [],
   "source": [
    "df_ll_final = df_ll.drop(['no_likes', 'no_comments', 'no_reposts'], axis = 1)"
   ]
  },
  {
   "cell_type": "code",
   "execution_count": 157,
   "metadata": {},
   "outputs": [],
   "source": [
    "df_ll_final.to_csv('final_train_ll.csv')"
   ]
  },
  {
   "cell_type": "markdown",
   "metadata": {},
   "source": [
    "## Log PCA"
   ]
  },
  {
   "cell_type": "code",
   "execution_count": 149,
   "metadata": {},
   "outputs": [
    {
     "data": {
      "text/plain": [
       "0          79.2818\n",
       "1          91.6689\n",
       "2          73.5117\n",
       "3         178.5061\n",
       "4          89.6587\n",
       "5          18.3804\n",
       "6          59.3762\n",
       "7          31.8917\n",
       "8          39.5335\n",
       "9         813.9794\n",
       "10       3233.4764\n",
       "11       4487.8475\n",
       "12       5444.8638\n",
       "13       5516.1455\n",
       "14       4800.7699\n",
       "15       7011.4643\n",
       "16       5854.8811\n",
       "17       5292.9750\n",
       "18       5055.8056\n",
       "19       5471.0300\n",
       "20       5564.4161\n",
       "21       3834.5326\n",
       "22       4377.7374\n",
       "23       5985.6987\n",
       "24       5018.0639\n",
       "25       1517.5734\n",
       "26       1727.4389\n",
       "27        342.3387\n",
       "28       1403.0220\n",
       "29       2781.7040\n",
       "           ...    \n",
       "13526      43.2244\n",
       "13527     668.5928\n",
       "13528     124.8750\n",
       "13529     181.7200\n",
       "13530     154.6670\n",
       "13531    1331.0938\n",
       "13532    1183.9431\n",
       "13533      52.9542\n",
       "13534    2021.2120\n",
       "13535     383.3053\n",
       "13536       0.5000\n",
       "13537       0.6074\n",
       "13538       2.2247\n",
       "13539       2.9296\n",
       "13540       0.0000\n",
       "13541       8.0249\n",
       "13542       0.0000\n",
       "13543       1.2247\n",
       "13544       0.0000\n",
       "13545       7.9061\n",
       "13546       1.2148\n",
       "13547       0.0000\n",
       "13548       4.0370\n",
       "13549       1.8222\n",
       "13550       2.4296\n",
       "13551       1.8222\n",
       "13552       2.4296\n",
       "13553       6.0161\n",
       "13554       1.2148\n",
       "13555       2.4296\n",
       "Length: 13556, dtype: float64"
      ]
     },
     "execution_count": 149,
     "metadata": {},
     "output_type": "execute_result"
    }
   ],
   "source": [
    "# no_likes, no_comments, no_reposts\n",
    "origin = 0.6074*df.iloc[:,13] + 0.6173*df.iloc[:,14] + 0.5000*df.iloc[:,15]\n",
    "origin"
   ]
  },
  {
   "cell_type": "code",
   "execution_count": 159,
   "metadata": {},
   "outputs": [
    {
     "data": {
      "text/html": [
       "<div>\n",
       "<style scoped>\n",
       "    .dataframe tbody tr th:only-of-type {\n",
       "        vertical-align: middle;\n",
       "    }\n",
       "\n",
       "    .dataframe tbody tr th {\n",
       "        vertical-align: top;\n",
       "    }\n",
       "\n",
       "    .dataframe thead th {\n",
       "        text-align: right;\n",
       "    }\n",
       "</style>\n",
       "<table border=\"1\" class=\"dataframe\">\n",
       "  <thead>\n",
       "    <tr style=\"text-align: right;\">\n",
       "      <th></th>\n",
       "      <th>0</th>\n",
       "      <th>y</th>\n",
       "    </tr>\n",
       "  </thead>\n",
       "  <tbody>\n",
       "    <tr>\n",
       "      <th>0</th>\n",
       "      <td>4.385543</td>\n",
       "      <td>1.0</td>\n",
       "    </tr>\n",
       "    <tr>\n",
       "      <th>1</th>\n",
       "      <td>4.529033</td>\n",
       "      <td>1.0</td>\n",
       "    </tr>\n",
       "    <tr>\n",
       "      <th>2</th>\n",
       "      <td>4.310956</td>\n",
       "      <td>1.0</td>\n",
       "    </tr>\n",
       "    <tr>\n",
       "      <th>3</th>\n",
       "      <td>5.190209</td>\n",
       "      <td>1.0</td>\n",
       "    </tr>\n",
       "    <tr>\n",
       "      <th>4</th>\n",
       "      <td>4.507102</td>\n",
       "      <td>1.0</td>\n",
       "    </tr>\n",
       "    <tr>\n",
       "      <th>5</th>\n",
       "      <td>2.964262</td>\n",
       "      <td>1.0</td>\n",
       "    </tr>\n",
       "    <tr>\n",
       "      <th>6</th>\n",
       "      <td>4.100595</td>\n",
       "      <td>1.0</td>\n",
       "    </tr>\n",
       "    <tr>\n",
       "      <th>7</th>\n",
       "      <td>3.493220</td>\n",
       "      <td>1.0</td>\n",
       "    </tr>\n",
       "    <tr>\n",
       "      <th>8</th>\n",
       "      <td>3.702129</td>\n",
       "      <td>1.0</td>\n",
       "    </tr>\n",
       "    <tr>\n",
       "      <th>9</th>\n",
       "      <td>6.703163</td>\n",
       "      <td>1.0</td>\n",
       "    </tr>\n",
       "    <tr>\n",
       "      <th>10</th>\n",
       "      <td>8.081622</td>\n",
       "      <td>1.0</td>\n",
       "    </tr>\n",
       "    <tr>\n",
       "      <th>11</th>\n",
       "      <td>8.409351</td>\n",
       "      <td>1.0</td>\n",
       "    </tr>\n",
       "    <tr>\n",
       "      <th>12</th>\n",
       "      <td>8.602612</td>\n",
       "      <td>1.0</td>\n",
       "    </tr>\n",
       "    <tr>\n",
       "      <th>13</th>\n",
       "      <td>8.615616</td>\n",
       "      <td>1.0</td>\n",
       "    </tr>\n",
       "    <tr>\n",
       "      <th>14</th>\n",
       "      <td>8.476740</td>\n",
       "      <td>1.0</td>\n",
       "    </tr>\n",
       "    <tr>\n",
       "      <th>15</th>\n",
       "      <td>8.855444</td>\n",
       "      <td>1.0</td>\n",
       "    </tr>\n",
       "    <tr>\n",
       "      <th>16</th>\n",
       "      <td>8.675202</td>\n",
       "      <td>1.0</td>\n",
       "    </tr>\n",
       "    <tr>\n",
       "      <th>17</th>\n",
       "      <td>8.574325</td>\n",
       "      <td>1.0</td>\n",
       "    </tr>\n",
       "    <tr>\n",
       "      <th>18</th>\n",
       "      <td>8.528490</td>\n",
       "      <td>1.0</td>\n",
       "    </tr>\n",
       "    <tr>\n",
       "      <th>19</th>\n",
       "      <td>8.607405</td>\n",
       "      <td>1.0</td>\n",
       "    </tr>\n",
       "    <tr>\n",
       "      <th>20</th>\n",
       "      <td>8.624327</td>\n",
       "      <td>1.0</td>\n",
       "    </tr>\n",
       "    <tr>\n",
       "      <th>21</th>\n",
       "      <td>8.252064</td>\n",
       "      <td>1.0</td>\n",
       "    </tr>\n",
       "    <tr>\n",
       "      <th>22</th>\n",
       "      <td>8.384516</td>\n",
       "      <td>1.0</td>\n",
       "    </tr>\n",
       "    <tr>\n",
       "      <th>23</th>\n",
       "      <td>8.697295</td>\n",
       "      <td>1.0</td>\n",
       "    </tr>\n",
       "    <tr>\n",
       "      <th>24</th>\n",
       "      <td>8.520999</td>\n",
       "      <td>1.0</td>\n",
       "    </tr>\n",
       "    <tr>\n",
       "      <th>25</th>\n",
       "      <td>7.325527</td>\n",
       "      <td>1.0</td>\n",
       "    </tr>\n",
       "    <tr>\n",
       "      <th>26</th>\n",
       "      <td>7.454974</td>\n",
       "      <td>1.0</td>\n",
       "    </tr>\n",
       "    <tr>\n",
       "      <th>27</th>\n",
       "      <td>5.838717</td>\n",
       "      <td>1.0</td>\n",
       "    </tr>\n",
       "    <tr>\n",
       "      <th>28</th>\n",
       "      <td>7.247096</td>\n",
       "      <td>1.0</td>\n",
       "    </tr>\n",
       "    <tr>\n",
       "      <th>29</th>\n",
       "      <td>7.931178</td>\n",
       "      <td>1.0</td>\n",
       "    </tr>\n",
       "    <tr>\n",
       "      <th>...</th>\n",
       "      <td>...</td>\n",
       "      <td>...</td>\n",
       "    </tr>\n",
       "    <tr>\n",
       "      <th>13526</th>\n",
       "      <td>3.789277</td>\n",
       "      <td>1.0</td>\n",
       "    </tr>\n",
       "    <tr>\n",
       "      <th>13527</th>\n",
       "      <td>6.506670</td>\n",
       "      <td>1.0</td>\n",
       "    </tr>\n",
       "    <tr>\n",
       "      <th>13528</th>\n",
       "      <td>4.835289</td>\n",
       "      <td>1.0</td>\n",
       "    </tr>\n",
       "    <tr>\n",
       "      <th>13529</th>\n",
       "      <td>5.207955</td>\n",
       "      <td>1.0</td>\n",
       "    </tr>\n",
       "    <tr>\n",
       "      <th>13530</th>\n",
       "      <td>5.047719</td>\n",
       "      <td>1.0</td>\n",
       "    </tr>\n",
       "    <tr>\n",
       "      <th>13531</th>\n",
       "      <td>7.194507</td>\n",
       "      <td>1.0</td>\n",
       "    </tr>\n",
       "    <tr>\n",
       "      <th>13532</th>\n",
       "      <td>7.077450</td>\n",
       "      <td>1.0</td>\n",
       "    </tr>\n",
       "    <tr>\n",
       "      <th>13533</th>\n",
       "      <td>3.988136</td>\n",
       "      <td>1.0</td>\n",
       "    </tr>\n",
       "    <tr>\n",
       "      <th>13534</th>\n",
       "      <td>7.611947</td>\n",
       "      <td>1.0</td>\n",
       "    </tr>\n",
       "    <tr>\n",
       "      <th>13535</th>\n",
       "      <td>5.951437</td>\n",
       "      <td>1.0</td>\n",
       "    </tr>\n",
       "    <tr>\n",
       "      <th>13536</th>\n",
       "      <td>0.405465</td>\n",
       "      <td>1.0</td>\n",
       "    </tr>\n",
       "    <tr>\n",
       "      <th>13537</th>\n",
       "      <td>0.474618</td>\n",
       "      <td>1.0</td>\n",
       "    </tr>\n",
       "    <tr>\n",
       "      <th>13538</th>\n",
       "      <td>1.170840</td>\n",
       "      <td>1.0</td>\n",
       "    </tr>\n",
       "    <tr>\n",
       "      <th>13539</th>\n",
       "      <td>1.368538</td>\n",
       "      <td>1.0</td>\n",
       "    </tr>\n",
       "    <tr>\n",
       "      <th>13540</th>\n",
       "      <td>0.000000</td>\n",
       "      <td>1.0</td>\n",
       "    </tr>\n",
       "    <tr>\n",
       "      <th>13541</th>\n",
       "      <td>2.199987</td>\n",
       "      <td>1.0</td>\n",
       "    </tr>\n",
       "    <tr>\n",
       "      <th>13542</th>\n",
       "      <td>0.000000</td>\n",
       "      <td>1.0</td>\n",
       "    </tr>\n",
       "    <tr>\n",
       "      <th>13543</th>\n",
       "      <td>0.799622</td>\n",
       "      <td>1.0</td>\n",
       "    </tr>\n",
       "    <tr>\n",
       "      <th>13544</th>\n",
       "      <td>0.000000</td>\n",
       "      <td>1.0</td>\n",
       "    </tr>\n",
       "    <tr>\n",
       "      <th>13545</th>\n",
       "      <td>2.186736</td>\n",
       "      <td>1.0</td>\n",
       "    </tr>\n",
       "    <tr>\n",
       "      <th>13546</th>\n",
       "      <td>0.795162</td>\n",
       "      <td>1.0</td>\n",
       "    </tr>\n",
       "    <tr>\n",
       "      <th>13547</th>\n",
       "      <td>0.000000</td>\n",
       "      <td>1.0</td>\n",
       "    </tr>\n",
       "    <tr>\n",
       "      <th>13548</th>\n",
       "      <td>1.616811</td>\n",
       "      <td>1.0</td>\n",
       "    </tr>\n",
       "    <tr>\n",
       "      <th>13549</th>\n",
       "      <td>1.037517</td>\n",
       "      <td>1.0</td>\n",
       "    </tr>\n",
       "    <tr>\n",
       "      <th>13550</th>\n",
       "      <td>1.232444</td>\n",
       "      <td>1.0</td>\n",
       "    </tr>\n",
       "    <tr>\n",
       "      <th>13551</th>\n",
       "      <td>1.037517</td>\n",
       "      <td>1.0</td>\n",
       "    </tr>\n",
       "    <tr>\n",
       "      <th>13552</th>\n",
       "      <td>1.232444</td>\n",
       "      <td>1.0</td>\n",
       "    </tr>\n",
       "    <tr>\n",
       "      <th>13553</th>\n",
       "      <td>1.948208</td>\n",
       "      <td>1.0</td>\n",
       "    </tr>\n",
       "    <tr>\n",
       "      <th>13554</th>\n",
       "      <td>0.795162</td>\n",
       "      <td>1.0</td>\n",
       "    </tr>\n",
       "    <tr>\n",
       "      <th>13555</th>\n",
       "      <td>1.232444</td>\n",
       "      <td>1.0</td>\n",
       "    </tr>\n",
       "  </tbody>\n",
       "</table>\n",
       "<p>13556 rows × 2 columns</p>\n",
       "</div>"
      ],
      "text/plain": [
       "              0    y\n",
       "0      4.385543  1.0\n",
       "1      4.529033  1.0\n",
       "2      4.310956  1.0\n",
       "3      5.190209  1.0\n",
       "4      4.507102  1.0\n",
       "5      2.964262  1.0\n",
       "6      4.100595  1.0\n",
       "7      3.493220  1.0\n",
       "8      3.702129  1.0\n",
       "9      6.703163  1.0\n",
       "10     8.081622  1.0\n",
       "11     8.409351  1.0\n",
       "12     8.602612  1.0\n",
       "13     8.615616  1.0\n",
       "14     8.476740  1.0\n",
       "15     8.855444  1.0\n",
       "16     8.675202  1.0\n",
       "17     8.574325  1.0\n",
       "18     8.528490  1.0\n",
       "19     8.607405  1.0\n",
       "20     8.624327  1.0\n",
       "21     8.252064  1.0\n",
       "22     8.384516  1.0\n",
       "23     8.697295  1.0\n",
       "24     8.520999  1.0\n",
       "25     7.325527  1.0\n",
       "26     7.454974  1.0\n",
       "27     5.838717  1.0\n",
       "28     7.247096  1.0\n",
       "29     7.931178  1.0\n",
       "...         ...  ...\n",
       "13526  3.789277  1.0\n",
       "13527  6.506670  1.0\n",
       "13528  4.835289  1.0\n",
       "13529  5.207955  1.0\n",
       "13530  5.047719  1.0\n",
       "13531  7.194507  1.0\n",
       "13532  7.077450  1.0\n",
       "13533  3.988136  1.0\n",
       "13534  7.611947  1.0\n",
       "13535  5.951437  1.0\n",
       "13536  0.405465  1.0\n",
       "13537  0.474618  1.0\n",
       "13538  1.170840  1.0\n",
       "13539  1.368538  1.0\n",
       "13540  0.000000  1.0\n",
       "13541  2.199987  1.0\n",
       "13542  0.000000  1.0\n",
       "13543  0.799622  1.0\n",
       "13544  0.000000  1.0\n",
       "13545  2.186736  1.0\n",
       "13546  0.795162  1.0\n",
       "13547  0.000000  1.0\n",
       "13548  1.616811  1.0\n",
       "13549  1.037517  1.0\n",
       "13550  1.232444  1.0\n",
       "13551  1.037517  1.0\n",
       "13552  1.232444  1.0\n",
       "13553  1.948208  1.0\n",
       "13554  0.795162  1.0\n",
       "13555  1.232444  1.0\n",
       "\n",
       "[13556 rows x 2 columns]"
      ]
     },
     "execution_count": 159,
     "metadata": {},
     "output_type": "execute_result"
    },
    {
     "name": "stderr",
     "output_type": "stream",
     "text": [
      "/Applications/anaconda3/lib/python3.7/site-packages/ipykernel_launcher.py:5: FutureWarning: Method .as_matrix will be removed in a future version. Use .values instead.\n",
      "  \"\"\"\n"
     ]
    }
   ],
   "source": [
    "log_pl = np.log(origin+1)\n",
    "X2 = pd.DataFrame(log_pl)\n",
    "X2['y'] = np.ones(len(X2))\n",
    "X2.reset_index(drop = True)\n",
    "X2 = X2.as_matrix(columns = None)"
   ]
  },
  {
   "cell_type": "code",
   "execution_count": 160,
   "metadata": {},
   "outputs": [
    {
     "data": {
      "text/plain": [
       "KMeans(algorithm='auto', copy_x=True, init='random', max_iter=13556,\n",
       "       n_clusters=1, n_init=10, n_jobs=None, precompute_distances='auto',\n",
       "       random_state=0, tol=0.0001, verbose=0)"
      ]
     },
     "execution_count": 160,
     "metadata": {},
     "output_type": "execute_result"
    },
    {
     "data": {
      "text/plain": [
       "KMeans(algorithm='auto', copy_x=True, init='random', max_iter=13556,\n",
       "       n_clusters=2, n_init=10, n_jobs=None, precompute_distances='auto',\n",
       "       random_state=0, tol=0.0001, verbose=0)"
      ]
     },
     "execution_count": 160,
     "metadata": {},
     "output_type": "execute_result"
    },
    {
     "data": {
      "text/plain": [
       "KMeans(algorithm='auto', copy_x=True, init='random', max_iter=13556,\n",
       "       n_clusters=3, n_init=10, n_jobs=None, precompute_distances='auto',\n",
       "       random_state=0, tol=0.0001, verbose=0)"
      ]
     },
     "execution_count": 160,
     "metadata": {},
     "output_type": "execute_result"
    },
    {
     "data": {
      "text/plain": [
       "KMeans(algorithm='auto', copy_x=True, init='random', max_iter=13556,\n",
       "       n_clusters=4, n_init=10, n_jobs=None, precompute_distances='auto',\n",
       "       random_state=0, tol=0.0001, verbose=0)"
      ]
     },
     "execution_count": 160,
     "metadata": {},
     "output_type": "execute_result"
    },
    {
     "data": {
      "text/plain": [
       "KMeans(algorithm='auto', copy_x=True, init='random', max_iter=13556,\n",
       "       n_clusters=5, n_init=10, n_jobs=None, precompute_distances='auto',\n",
       "       random_state=0, tol=0.0001, verbose=0)"
      ]
     },
     "execution_count": 160,
     "metadata": {},
     "output_type": "execute_result"
    },
    {
     "data": {
      "text/plain": [
       "KMeans(algorithm='auto', copy_x=True, init='random', max_iter=13556,\n",
       "       n_clusters=6, n_init=10, n_jobs=None, precompute_distances='auto',\n",
       "       random_state=0, tol=0.0001, verbose=0)"
      ]
     },
     "execution_count": 160,
     "metadata": {},
     "output_type": "execute_result"
    },
    {
     "data": {
      "text/plain": [
       "KMeans(algorithm='auto', copy_x=True, init='random', max_iter=13556,\n",
       "       n_clusters=7, n_init=10, n_jobs=None, precompute_distances='auto',\n",
       "       random_state=0, tol=0.0001, verbose=0)"
      ]
     },
     "execution_count": 160,
     "metadata": {},
     "output_type": "execute_result"
    },
    {
     "data": {
      "text/plain": [
       "KMeans(algorithm='auto', copy_x=True, init='random', max_iter=13556,\n",
       "       n_clusters=8, n_init=10, n_jobs=None, precompute_distances='auto',\n",
       "       random_state=0, tol=0.0001, verbose=0)"
      ]
     },
     "execution_count": 160,
     "metadata": {},
     "output_type": "execute_result"
    },
    {
     "data": {
      "text/plain": [
       "KMeans(algorithm='auto', copy_x=True, init='random', max_iter=13556,\n",
       "       n_clusters=9, n_init=10, n_jobs=None, precompute_distances='auto',\n",
       "       random_state=0, tol=0.0001, verbose=0)"
      ]
     },
     "execution_count": 160,
     "metadata": {},
     "output_type": "execute_result"
    },
    {
     "data": {
      "text/plain": [
       "KMeans(algorithm='auto', copy_x=True, init='random', max_iter=13556,\n",
       "       n_clusters=10, n_init=10, n_jobs=None, precompute_distances='auto',\n",
       "       random_state=0, tol=0.0001, verbose=0)"
      ]
     },
     "execution_count": 160,
     "metadata": {},
     "output_type": "execute_result"
    },
    {
     "data": {
      "text/plain": [
       "[<matplotlib.lines.Line2D at 0x1a38808908>]"
      ]
     },
     "execution_count": 160,
     "metadata": {},
     "output_type": "execute_result"
    },
    {
     "data": {
      "text/plain": [
       "Text(0.5, 0, 'Number of Clusters')"
      ]
     },
     "execution_count": 160,
     "metadata": {},
     "output_type": "execute_result"
    },
    {
     "data": {
      "text/plain": [
       "Text(0, 0.5, 'Distortion')"
      ]
     },
     "execution_count": 160,
     "metadata": {},
     "output_type": "execute_result"
    },
    {
     "data": {
      "image/png": "[encoded data removed]",
      "text/plain": [
       "<Figure size 432x288 with 1 Axes>"
      ]
     },
     "metadata": {},
     "output_type": "display_data"
    }
   ],
   "source": [
    "# calculate distortion for a range of number of cluster\n",
    "distortions = []\n",
    "\n",
    "for i in range(1, 11):\n",
    "    km = KMeans(\n",
    "        n_clusters=i, init='random',\n",
    "        n_init=10, max_iter=13556,\n",
    "        tol=1e-04, random_state=0\n",
    "    )\n",
    "    km.fit(X2)\n",
    "    distortions.append(km.inertia_)\n",
    "\n",
    "# plot \n",
    "plt.plot(range(1, 11), distortions, marker='o')\n",
    "plt.xlabel('Number of Clusters')\n",
    "plt.ylabel('Distortion')\n",
    "plt.show()"
   ]
  },
  {
   "cell_type": "code",
   "execution_count": 161,
   "metadata": {},
   "outputs": [],
   "source": [
    "km = KMeans(\n",
    "    n_clusters=3, init='k-means++',\n",
    "    n_init=10, max_iter=13556, \n",
    "    tol=1e-04, random_state=0\n",
    ")\n",
    "\n",
    "y_km_pl = km.fit_predict(X2)"
   ]
  },
  {
   "cell_type": "code",
   "execution_count": 162,
   "metadata": {},
   "outputs": [
    {
     "data": {
      "text/plain": [
       "<matplotlib.collections.PathCollection at 0x1a38591320>"
      ]
     },
     "execution_count": 162,
     "metadata": {},
     "output_type": "execute_result"
    },
    {
     "data": {
      "text/plain": [
       "<matplotlib.collections.PathCollection at 0x1a385916d8>"
      ]
     },
     "execution_count": 162,
     "metadata": {},
     "output_type": "execute_result"
    },
    {
     "data": {
      "text/plain": [
       "<matplotlib.collections.PathCollection at 0x1a38591ac8>"
      ]
     },
     "execution_count": 162,
     "metadata": {},
     "output_type": "execute_result"
    },
    {
     "data": {
      "text/plain": [
       "<matplotlib.collections.PathCollection at 0x1a38591da0>"
      ]
     },
     "execution_count": 162,
     "metadata": {},
     "output_type": "execute_result"
    },
    {
     "data": {
      "text/plain": [
       "<matplotlib.legend.Legend at 0x1a385912b0>"
      ]
     },
     "execution_count": 162,
     "metadata": {},
     "output_type": "execute_result"
    },
    {
     "data": {
      "text/plain": [
       "<Figure size 6000x4000 with 0 Axes>"
      ]
     },
     "execution_count": 162,
     "metadata": {},
     "output_type": "execute_result"
    },
    {
     "data": {
      "image/png": "[encoded data removed]",
      "text/plain": [
       "<Figure size 432x288 with 1 Axes>"
      ]
     },
     "metadata": {},
     "output_type": "display_data"
    },
    {
     "data": {
      "text/plain": [
       "<Figure size 6000x4000 with 0 Axes>"
      ]
     },
     "metadata": {},
     "output_type": "display_data"
    }
   ],
   "source": [
    "# plot 3 clusters\n",
    "plt.scatter(\n",
    "    X2[y_km_pl == 0, 0], X2[y_km_pl == 0, 1], s=50, c='lightgreen',\n",
    "    marker='s', edgecolor='black',\n",
    "    label='Cluster 1'\n",
    ")\n",
    "\n",
    "plt.scatter(\n",
    "    X2[y_km_pl == 1, 0], X2[y_km_pl == 1, 1], s=50, c='',\n",
    "    marker='o', edgecolor='black',\n",
    "    label='Cluster 2'\n",
    ")\n",
    "\n",
    "plt.scatter(\n",
    "    X2[y_km_pl == 2, 0], X2[y_km_pl == 2, 1], s=50, c='lightblue',\n",
    "    marker='v', edgecolor='black',\n",
    "    label='Cluster 3'\n",
    ")\n",
    "\n",
    "# plot centroids\n",
    "plt.scatter(\n",
    "    km.cluster_centers_[:, 0], km.cluster_centers_[:, 1],\n",
    "    s=250, marker='*',\n",
    "    c='red', edgecolor='black',\n",
    "    label='Centroids'\n",
    ")\n",
    "plt.legend(scatterpoints=1)\n",
    "plt.grid()\n",
    "plt.figure(dpi = 1000)"
   ]
  },
  {
   "cell_type": "code",
   "execution_count": 163,
   "metadata": {},
   "outputs": [],
   "source": [
    "df_pl = df"
   ]
  },
  {
   "cell_type": "code",
   "execution_count": 164,
   "metadata": {},
   "outputs": [],
   "source": [
    "df_pl['class']=y_km_pl"
   ]
  },
  {
   "cell_type": "code",
   "execution_count": 165,
   "metadata": {},
   "outputs": [],
   "source": [
    "df_pl =df_pl.drop(['no_likes', 'no_comments', 'no_reposts'],axis=1)"
   ]
  },
  {
   "cell_type": "code",
   "execution_count": 166,
   "metadata": {},
   "outputs": [],
   "source": [
    "df_pl.to_csv('final_train_pl.csv')"
   ]
  },
  {
   "cell_type": "markdown",
   "metadata": {},
   "source": [
    "## Log Add"
   ]
  },
  {
   "cell_type": "code",
   "execution_count": 167,
   "metadata": {},
   "outputs": [],
   "source": [
    "add = df.iloc[:,13]+df.iloc[:,14]+df.iloc[:,15]"
   ]
  },
  {
   "cell_type": "code",
   "execution_count": 168,
   "metadata": {},
   "outputs": [
    {
     "data": {
      "text/html": [
       "<div>\n",
       "<style scoped>\n",
       "    .dataframe tbody tr th:only-of-type {\n",
       "        vertical-align: middle;\n",
       "    }\n",
       "\n",
       "    .dataframe tbody tr th {\n",
       "        vertical-align: top;\n",
       "    }\n",
       "\n",
       "    .dataframe thead th {\n",
       "        text-align: right;\n",
       "    }\n",
       "</style>\n",
       "<table border=\"1\" class=\"dataframe\">\n",
       "  <thead>\n",
       "    <tr style=\"text-align: right;\">\n",
       "      <th></th>\n",
       "      <th>0</th>\n",
       "      <th>y</th>\n",
       "    </tr>\n",
       "  </thead>\n",
       "  <tbody>\n",
       "    <tr>\n",
       "      <th>0</th>\n",
       "      <td>4.875197</td>\n",
       "      <td>1.0</td>\n",
       "    </tr>\n",
       "    <tr>\n",
       "      <th>1</th>\n",
       "      <td>5.017280</td>\n",
       "      <td>1.0</td>\n",
       "    </tr>\n",
       "    <tr>\n",
       "      <th>2</th>\n",
       "      <td>4.795791</td>\n",
       "      <td>1.0</td>\n",
       "    </tr>\n",
       "    <tr>\n",
       "      <th>3</th>\n",
       "      <td>5.703782</td>\n",
       "      <td>1.0</td>\n",
       "    </tr>\n",
       "    <tr>\n",
       "      <th>4</th>\n",
       "      <td>5.030438</td>\n",
       "      <td>1.0</td>\n",
       "    </tr>\n",
       "    <tr>\n",
       "      <th>5</th>\n",
       "      <td>3.433987</td>\n",
       "      <td>1.0</td>\n",
       "    </tr>\n",
       "    <tr>\n",
       "      <th>6</th>\n",
       "      <td>4.584967</td>\n",
       "      <td>1.0</td>\n",
       "    </tr>\n",
       "    <tr>\n",
       "      <th>7</th>\n",
       "      <td>3.970292</td>\n",
       "      <td>1.0</td>\n",
       "    </tr>\n",
       "    <tr>\n",
       "      <th>8</th>\n",
       "      <td>4.189655</td>\n",
       "      <td>1.0</td>\n",
       "    </tr>\n",
       "    <tr>\n",
       "      <th>9</th>\n",
       "      <td>7.202661</td>\n",
       "      <td>1.0</td>\n",
       "    </tr>\n",
       "    <tr>\n",
       "      <th>10</th>\n",
       "      <td>8.617581</td>\n",
       "      <td>1.0</td>\n",
       "    </tr>\n",
       "    <tr>\n",
       "      <th>11</th>\n",
       "      <td>8.928905</td>\n",
       "      <td>1.0</td>\n",
       "    </tr>\n",
       "    <tr>\n",
       "      <th>12</th>\n",
       "      <td>9.123911</td>\n",
       "      <td>1.0</td>\n",
       "    </tr>\n",
       "    <tr>\n",
       "      <th>13</th>\n",
       "      <td>9.136694</td>\n",
       "      <td>1.0</td>\n",
       "    </tr>\n",
       "    <tr>\n",
       "      <th>14</th>\n",
       "      <td>8.993303</td>\n",
       "      <td>1.0</td>\n",
       "    </tr>\n",
       "    <tr>\n",
       "      <th>15</th>\n",
       "      <td>9.368796</td>\n",
       "      <td>1.0</td>\n",
       "    </tr>\n",
       "    <tr>\n",
       "      <th>16</th>\n",
       "      <td>9.194821</td>\n",
       "      <td>1.0</td>\n",
       "    </tr>\n",
       "    <tr>\n",
       "      <th>17</th>\n",
       "      <td>9.094368</td>\n",
       "      <td>1.0</td>\n",
       "    </tr>\n",
       "    <tr>\n",
       "      <th>18</th>\n",
       "      <td>9.053336</td>\n",
       "      <td>1.0</td>\n",
       "    </tr>\n",
       "    <tr>\n",
       "      <th>19</th>\n",
       "      <td>9.129239</td>\n",
       "      <td>1.0</td>\n",
       "    </tr>\n",
       "    <tr>\n",
       "      <th>20</th>\n",
       "      <td>9.144735</td>\n",
       "      <td>1.0</td>\n",
       "    </tr>\n",
       "    <tr>\n",
       "      <th>21</th>\n",
       "      <td>8.776939</td>\n",
       "      <td>1.0</td>\n",
       "    </tr>\n",
       "    <tr>\n",
       "      <th>22</th>\n",
       "      <td>8.906258</td>\n",
       "      <td>1.0</td>\n",
       "    </tr>\n",
       "    <tr>\n",
       "      <th>23</th>\n",
       "      <td>9.222269</td>\n",
       "      <td>1.0</td>\n",
       "    </tr>\n",
       "    <tr>\n",
       "      <th>24</th>\n",
       "      <td>9.045466</td>\n",
       "      <td>1.0</td>\n",
       "    </tr>\n",
       "    <tr>\n",
       "      <th>25</th>\n",
       "      <td>7.876638</td>\n",
       "      <td>1.0</td>\n",
       "    </tr>\n",
       "    <tr>\n",
       "      <th>26</th>\n",
       "      <td>7.969358</td>\n",
       "      <td>1.0</td>\n",
       "    </tr>\n",
       "    <tr>\n",
       "      <th>27</th>\n",
       "      <td>6.336826</td>\n",
       "      <td>1.0</td>\n",
       "    </tr>\n",
       "    <tr>\n",
       "      <th>28</th>\n",
       "      <td>7.783641</td>\n",
       "      <td>1.0</td>\n",
       "    </tr>\n",
       "    <tr>\n",
       "      <th>29</th>\n",
       "      <td>8.479284</td>\n",
       "      <td>1.0</td>\n",
       "    </tr>\n",
       "    <tr>\n",
       "      <th>...</th>\n",
       "      <td>...</td>\n",
       "      <td>...</td>\n",
       "    </tr>\n",
       "    <tr>\n",
       "      <th>13526</th>\n",
       "      <td>4.276666</td>\n",
       "      <td>1.0</td>\n",
       "    </tr>\n",
       "    <tr>\n",
       "      <th>13527</th>\n",
       "      <td>7.019297</td>\n",
       "      <td>1.0</td>\n",
       "    </tr>\n",
       "    <tr>\n",
       "      <th>13528</th>\n",
       "      <td>5.351858</td>\n",
       "      <td>1.0</td>\n",
       "    </tr>\n",
       "    <tr>\n",
       "      <th>13529</th>\n",
       "      <td>5.713733</td>\n",
       "      <td>1.0</td>\n",
       "    </tr>\n",
       "    <tr>\n",
       "      <th>13530</th>\n",
       "      <td>5.549076</td>\n",
       "      <td>1.0</td>\n",
       "    </tr>\n",
       "    <tr>\n",
       "      <th>13531</th>\n",
       "      <td>7.727976</td>\n",
       "      <td>1.0</td>\n",
       "    </tr>\n",
       "    <tr>\n",
       "      <th>13532</th>\n",
       "      <td>7.618251</td>\n",
       "      <td>1.0</td>\n",
       "    </tr>\n",
       "    <tr>\n",
       "      <th>13533</th>\n",
       "      <td>4.477337</td>\n",
       "      <td>1.0</td>\n",
       "    </tr>\n",
       "    <tr>\n",
       "      <th>13534</th>\n",
       "      <td>8.159947</td>\n",
       "      <td>1.0</td>\n",
       "    </tr>\n",
       "    <tr>\n",
       "      <th>13535</th>\n",
       "      <td>6.450470</td>\n",
       "      <td>1.0</td>\n",
       "    </tr>\n",
       "    <tr>\n",
       "      <th>13536</th>\n",
       "      <td>0.693147</td>\n",
       "      <td>1.0</td>\n",
       "    </tr>\n",
       "    <tr>\n",
       "      <th>13537</th>\n",
       "      <td>0.693147</td>\n",
       "      <td>1.0</td>\n",
       "    </tr>\n",
       "    <tr>\n",
       "      <th>13538</th>\n",
       "      <td>1.609438</td>\n",
       "      <td>1.0</td>\n",
       "    </tr>\n",
       "    <tr>\n",
       "      <th>13539</th>\n",
       "      <td>1.791759</td>\n",
       "      <td>1.0</td>\n",
       "    </tr>\n",
       "    <tr>\n",
       "      <th>13540</th>\n",
       "      <td>0.000000</td>\n",
       "      <td>1.0</td>\n",
       "    </tr>\n",
       "    <tr>\n",
       "      <th>13541</th>\n",
       "      <td>2.639057</td>\n",
       "      <td>1.0</td>\n",
       "    </tr>\n",
       "    <tr>\n",
       "      <th>13542</th>\n",
       "      <td>0.000000</td>\n",
       "      <td>1.0</td>\n",
       "    </tr>\n",
       "    <tr>\n",
       "      <th>13543</th>\n",
       "      <td>1.098612</td>\n",
       "      <td>1.0</td>\n",
       "    </tr>\n",
       "    <tr>\n",
       "      <th>13544</th>\n",
       "      <td>0.000000</td>\n",
       "      <td>1.0</td>\n",
       "    </tr>\n",
       "    <tr>\n",
       "      <th>13545</th>\n",
       "      <td>2.639057</td>\n",
       "      <td>1.0</td>\n",
       "    </tr>\n",
       "    <tr>\n",
       "      <th>13546</th>\n",
       "      <td>1.098612</td>\n",
       "      <td>1.0</td>\n",
       "    </tr>\n",
       "    <tr>\n",
       "      <th>13547</th>\n",
       "      <td>0.000000</td>\n",
       "      <td>1.0</td>\n",
       "    </tr>\n",
       "    <tr>\n",
       "      <th>13548</th>\n",
       "      <td>2.079442</td>\n",
       "      <td>1.0</td>\n",
       "    </tr>\n",
       "    <tr>\n",
       "      <th>13549</th>\n",
       "      <td>1.386294</td>\n",
       "      <td>1.0</td>\n",
       "    </tr>\n",
       "    <tr>\n",
       "      <th>13550</th>\n",
       "      <td>1.609438</td>\n",
       "      <td>1.0</td>\n",
       "    </tr>\n",
       "    <tr>\n",
       "      <th>13551</th>\n",
       "      <td>1.386294</td>\n",
       "      <td>1.0</td>\n",
       "    </tr>\n",
       "    <tr>\n",
       "      <th>13552</th>\n",
       "      <td>1.609438</td>\n",
       "      <td>1.0</td>\n",
       "    </tr>\n",
       "    <tr>\n",
       "      <th>13553</th>\n",
       "      <td>2.397895</td>\n",
       "      <td>1.0</td>\n",
       "    </tr>\n",
       "    <tr>\n",
       "      <th>13554</th>\n",
       "      <td>1.098612</td>\n",
       "      <td>1.0</td>\n",
       "    </tr>\n",
       "    <tr>\n",
       "      <th>13555</th>\n",
       "      <td>1.609438</td>\n",
       "      <td>1.0</td>\n",
       "    </tr>\n",
       "  </tbody>\n",
       "</table>\n",
       "<p>13556 rows × 2 columns</p>\n",
       "</div>"
      ],
      "text/plain": [
       "              0    y\n",
       "0      4.875197  1.0\n",
       "1      5.017280  1.0\n",
       "2      4.795791  1.0\n",
       "3      5.703782  1.0\n",
       "4      5.030438  1.0\n",
       "5      3.433987  1.0\n",
       "6      4.584967  1.0\n",
       "7      3.970292  1.0\n",
       "8      4.189655  1.0\n",
       "9      7.202661  1.0\n",
       "10     8.617581  1.0\n",
       "11     8.928905  1.0\n",
       "12     9.123911  1.0\n",
       "13     9.136694  1.0\n",
       "14     8.993303  1.0\n",
       "15     9.368796  1.0\n",
       "16     9.194821  1.0\n",
       "17     9.094368  1.0\n",
       "18     9.053336  1.0\n",
       "19     9.129239  1.0\n",
       "20     9.144735  1.0\n",
       "21     8.776939  1.0\n",
       "22     8.906258  1.0\n",
       "23     9.222269  1.0\n",
       "24     9.045466  1.0\n",
       "25     7.876638  1.0\n",
       "26     7.969358  1.0\n",
       "27     6.336826  1.0\n",
       "28     7.783641  1.0\n",
       "29     8.479284  1.0\n",
       "...         ...  ...\n",
       "13526  4.276666  1.0\n",
       "13527  7.019297  1.0\n",
       "13528  5.351858  1.0\n",
       "13529  5.713733  1.0\n",
       "13530  5.549076  1.0\n",
       "13531  7.727976  1.0\n",
       "13532  7.618251  1.0\n",
       "13533  4.477337  1.0\n",
       "13534  8.159947  1.0\n",
       "13535  6.450470  1.0\n",
       "13536  0.693147  1.0\n",
       "13537  0.693147  1.0\n",
       "13538  1.609438  1.0\n",
       "13539  1.791759  1.0\n",
       "13540  0.000000  1.0\n",
       "13541  2.639057  1.0\n",
       "13542  0.000000  1.0\n",
       "13543  1.098612  1.0\n",
       "13544  0.000000  1.0\n",
       "13545  2.639057  1.0\n",
       "13546  1.098612  1.0\n",
       "13547  0.000000  1.0\n",
       "13548  2.079442  1.0\n",
       "13549  1.386294  1.0\n",
       "13550  1.609438  1.0\n",
       "13551  1.386294  1.0\n",
       "13552  1.609438  1.0\n",
       "13553  2.397895  1.0\n",
       "13554  1.098612  1.0\n",
       "13555  1.609438  1.0\n",
       "\n",
       "[13556 rows x 2 columns]"
      ]
     },
     "execution_count": 168,
     "metadata": {},
     "output_type": "execute_result"
    },
    {
     "name": "stderr",
     "output_type": "stream",
     "text": [
      "/Applications/anaconda3/lib/python3.7/site-packages/ipykernel_launcher.py:6: FutureWarning: Method .as_matrix will be removed in a future version. Use .values instead.\n",
      "  \n"
     ]
    }
   ],
   "source": [
    "log_al=np.log(add+1)\n",
    "X3 = pd.DataFrame(log_al)\n",
    "X3['y'] = np.ones(len(X3))\n",
    "#X1 = pd.DataFrame(X).drop_duplicates()\n",
    "X3.reset_index(drop = True)\n",
    "X3 = X3.as_matrix(columns = None)"
   ]
  },
  {
   "cell_type": "code",
   "execution_count": 169,
   "metadata": {},
   "outputs": [
    {
     "data": {
      "text/plain": [
       "KMeans(algorithm='auto', copy_x=True, init='random', max_iter=13556,\n",
       "       n_clusters=1, n_init=10, n_jobs=None, precompute_distances='auto',\n",
       "       random_state=0, tol=0.0001, verbose=0)"
      ]
     },
     "execution_count": 169,
     "metadata": {},
     "output_type": "execute_result"
    },
    {
     "data": {
      "text/plain": [
       "KMeans(algorithm='auto', copy_x=True, init='random', max_iter=13556,\n",
       "       n_clusters=2, n_init=10, n_jobs=None, precompute_distances='auto',\n",
       "       random_state=0, tol=0.0001, verbose=0)"
      ]
     },
     "execution_count": 169,
     "metadata": {},
     "output_type": "execute_result"
    },
    {
     "data": {
      "text/plain": [
       "KMeans(algorithm='auto', copy_x=True, init='random', max_iter=13556,\n",
       "       n_clusters=3, n_init=10, n_jobs=None, precompute_distances='auto',\n",
       "       random_state=0, tol=0.0001, verbose=0)"
      ]
     },
     "execution_count": 169,
     "metadata": {},
     "output_type": "execute_result"
    },
    {
     "data": {
      "text/plain": [
       "KMeans(algorithm='auto', copy_x=True, init='random', max_iter=13556,\n",
       "       n_clusters=4, n_init=10, n_jobs=None, precompute_distances='auto',\n",
       "       random_state=0, tol=0.0001, verbose=0)"
      ]
     },
     "execution_count": 169,
     "metadata": {},
     "output_type": "execute_result"
    },
    {
     "data": {
      "text/plain": [
       "KMeans(algorithm='auto', copy_x=True, init='random', max_iter=13556,\n",
       "       n_clusters=5, n_init=10, n_jobs=None, precompute_distances='auto',\n",
       "       random_state=0, tol=0.0001, verbose=0)"
      ]
     },
     "execution_count": 169,
     "metadata": {},
     "output_type": "execute_result"
    },
    {
     "data": {
      "text/plain": [
       "KMeans(algorithm='auto', copy_x=True, init='random', max_iter=13556,\n",
       "       n_clusters=6, n_init=10, n_jobs=None, precompute_distances='auto',\n",
       "       random_state=0, tol=0.0001, verbose=0)"
      ]
     },
     "execution_count": 169,
     "metadata": {},
     "output_type": "execute_result"
    },
    {
     "data": {
      "text/plain": [
       "KMeans(algorithm='auto', copy_x=True, init='random', max_iter=13556,\n",
       "       n_clusters=7, n_init=10, n_jobs=None, precompute_distances='auto',\n",
       "       random_state=0, tol=0.0001, verbose=0)"
      ]
     },
     "execution_count": 169,
     "metadata": {},
     "output_type": "execute_result"
    },
    {
     "data": {
      "text/plain": [
       "KMeans(algorithm='auto', copy_x=True, init='random', max_iter=13556,\n",
       "       n_clusters=8, n_init=10, n_jobs=None, precompute_distances='auto',\n",
       "       random_state=0, tol=0.0001, verbose=0)"
      ]
     },
     "execution_count": 169,
     "metadata": {},
     "output_type": "execute_result"
    },
    {
     "data": {
      "text/plain": [
       "KMeans(algorithm='auto', copy_x=True, init='random', max_iter=13556,\n",
       "       n_clusters=9, n_init=10, n_jobs=None, precompute_distances='auto',\n",
       "       random_state=0, tol=0.0001, verbose=0)"
      ]
     },
     "execution_count": 169,
     "metadata": {},
     "output_type": "execute_result"
    },
    {
     "data": {
      "text/plain": [
       "KMeans(algorithm='auto', copy_x=True, init='random', max_iter=13556,\n",
       "       n_clusters=10, n_init=10, n_jobs=None, precompute_distances='auto',\n",
       "       random_state=0, tol=0.0001, verbose=0)"
      ]
     },
     "execution_count": 169,
     "metadata": {},
     "output_type": "execute_result"
    },
    {
     "data": {
      "text/plain": [
       "[<matplotlib.lines.Line2D at 0x1a385a08d0>]"
      ]
     },
     "execution_count": 169,
     "metadata": {},
     "output_type": "execute_result"
    },
    {
     "data": {
      "text/plain": [
       "Text(0.5, 0, 'Number of Clusters')"
      ]
     },
     "execution_count": 169,
     "metadata": {},
     "output_type": "execute_result"
    },
    {
     "data": {
      "text/plain": [
       "Text(0, 0.5, 'Distortion')"
      ]
     },
     "execution_count": 169,
     "metadata": {},
     "output_type": "execute_result"
    },
    {
     "data": {
      "image/png": "[encoded data removed]",
      "text/plain": [
       "<Figure size 432x288 with 1 Axes>"
      ]
     },
     "metadata": {},
     "output_type": "display_data"
    }
   ],
   "source": [
    "# calculate distortion for a range of number of cluster\n",
    "distortions = []\n",
    "\n",
    "for i in range(1, 11):\n",
    "    km = KMeans(\n",
    "        n_clusters=i, init='random',\n",
    "        n_init=10, max_iter=13556,\n",
    "        tol=1e-04, random_state=0\n",
    "    )\n",
    "    km.fit(X3)\n",
    "    distortions.append(km.inertia_)\n",
    "\n",
    "# plot \n",
    "plt.plot(range(1, 11), distortions, marker='o')\n",
    "plt.xlabel('Number of Clusters')\n",
    "plt.ylabel('Distortion')\n",
    "plt.show()"
   ]
  },
  {
   "cell_type": "code",
   "execution_count": 170,
   "metadata": {},
   "outputs": [],
   "source": [
    "km = KMeans(\n",
    "    n_clusters=3, init='k-means++',\n",
    "    n_init=10, max_iter=13556, \n",
    "    tol=1e-04, random_state=0\n",
    ")\n",
    "y_km_al = km.fit_predict(X3)"
   ]
  },
  {
   "cell_type": "code",
   "execution_count": 171,
   "metadata": {},
   "outputs": [
    {
     "data": {
      "text/plain": [
       "<matplotlib.collections.PathCollection at 0x1a38192f28>"
      ]
     },
     "execution_count": 171,
     "metadata": {},
     "output_type": "execute_result"
    },
    {
     "data": {
      "text/plain": [
       "<matplotlib.collections.PathCollection at 0x1a38192b38>"
      ]
     },
     "execution_count": 171,
     "metadata": {},
     "output_type": "execute_result"
    },
    {
     "data": {
      "text/plain": [
       "<matplotlib.collections.PathCollection at 0x1a3829e550>"
      ]
     },
     "execution_count": 171,
     "metadata": {},
     "output_type": "execute_result"
    },
    {
     "data": {
      "text/plain": [
       "<matplotlib.collections.PathCollection at 0x1a3829ed68>"
      ]
     },
     "execution_count": 171,
     "metadata": {},
     "output_type": "execute_result"
    },
    {
     "data": {
      "text/plain": [
       "<matplotlib.legend.Legend at 0x1a38284940>"
      ]
     },
     "execution_count": 171,
     "metadata": {},
     "output_type": "execute_result"
    },
    {
     "data": {
      "text/plain": [
       "<Figure size 6000x4000 with 0 Axes>"
      ]
     },
     "execution_count": 171,
     "metadata": {},
     "output_type": "execute_result"
    },
    {
     "data": {
      "image/png": "[encoded data removed]",
      "text/plain": [
       "<Figure size 432x288 with 1 Axes>"
      ]
     },
     "metadata": {},
     "output_type": "display_data"
    },
    {
     "data": {
      "text/plain": [
       "<Figure size 6000x4000 with 0 Axes>"
      ]
     },
     "metadata": {},
     "output_type": "display_data"
    }
   ],
   "source": [
    "# plot 3 clusters\n",
    "plt.scatter(\n",
    "    X3[y_km_al == 0, 0], X3[y_km_al == 0, 1], s=50, c='lightgreen',\n",
    "    marker='s', edgecolor='black',\n",
    "    label='Cluster 1'\n",
    ")\n",
    "\n",
    "plt.scatter(\n",
    "    X3[y_km_al == 1, 0], X3[y_km_al == 1, 1], s=50, c='',\n",
    "    marker='o', edgecolor='black',\n",
    "    label='Cluster 2'\n",
    ")\n",
    "\n",
    "plt.scatter(\n",
    "    X3[y_km_al == 2, 0], X3[y_km_al == 2, 1], s=50, c='lightblue',\n",
    "    marker='v', edgecolor='black',\n",
    "    label='Cluster 3'\n",
    ")\n",
    "\n",
    "# plot centroids\n",
    "plt.scatter(\n",
    "    km.cluster_centers_[:, 0], km.cluster_centers_[:, 1],\n",
    "    s=250, marker='*',\n",
    "    c='red', edgecolor='black',\n",
    "    label='Centroids'\n",
    ")\n",
    "plt.legend(scatterpoints=1)\n",
    "plt.grid()\n",
    "plt.figure(dpi = 1000)"
   ]
  },
  {
   "cell_type": "code",
   "execution_count": 172,
   "metadata": {},
   "outputs": [],
   "source": [
    "df_al = df"
   ]
  },
  {
   "cell_type": "code",
   "execution_count": 173,
   "metadata": {},
   "outputs": [],
   "source": [
    "df_al['class'] = y_km_al"
   ]
  },
  {
   "cell_type": "code",
   "execution_count": 174,
   "metadata": {},
   "outputs": [],
   "source": [
    "df_al = df_al.drop(['no_likes', 'no_comments', 'no_reposts'],axis=1)"
   ]
  },
  {
   "cell_type": "code",
   "execution_count": 175,
   "metadata": {},
   "outputs": [],
   "source": [
    "df_al.to_csv('final_train_al.csv')"
   ]
  }
 ],
 "metadata": {
  "kernelspec": {
   "display_name": "Python 3",
   "language": "python",
   "name": "python3"
  },
  "language_info": {
   "codemirror_mode": {
    "name": "ipython",
    "version": 3
   },
   "file_extension": ".py",
   "mimetype": "text/x-python",
   "name": "python",
   "nbconvert_exporter": "python",
   "pygments_lexer": "ipython3",
   "version": "3.7.3"
  }
 },
 "nbformat": 4,
 "nbformat_minor": 2
}

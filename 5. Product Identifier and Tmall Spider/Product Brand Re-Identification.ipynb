{
 "cells": [
  {
   "cell_type": "code",
   "execution_count": 17,
   "metadata": {},
   "outputs": [],
   "source": [
    "import pandas as pd\n",
    "import numpy as np\n",
    "import re\n",
    "import jieba\n",
    "from tqdm import tqdm"
   ]
  },
  {
   "cell_type": "code",
   "execution_count": 18,
   "metadata": {},
   "outputs": [
    {
     "name": "stderr",
     "output_type": "stream",
     "text": [
      "100%|██████████| 14/14 [01:57<00:00,  8.39s/it]\n"
     ]
    }
   ],
   "source": [
    "brand_df = pd.read_csv('filtered_brands_df.csv', header=None, index_col=None)\n",
    "brand_df.columns=['name','id']\n",
    "end_words = pd.read_csv('userdict_endword.txt',sep=' ', header = None)[0].tolist()\n",
    "\n",
    "for list_num in tqdm(range(14)):\n",
    "    try:\n",
    "        uid_list = pd.read_csv('final_uid_list/final_uid_list'+str(list_num)+'.csv',index_col=0,header=None)\n",
    "        info_path = 'product_info/'+ str(list_num)+'/'\n",
    "\n",
    "        info_sum = pd.DataFrame(columns = ['url', 'bid', 'name', 'tmallname', 'brand', 'price', 'popularity', \n",
    "                                       'score', 'posi', 'neg','uid'])\n",
    "\n",
    "        for uid in list(uid_list.iloc[:,0]):\n",
    "            product_info = pd.read_csv(info_path+str(uid)+'_prodinfo.csv',index_col=0)\n",
    "            if len(product_info) != 0:\n",
    "                product_info['uid'] = uid\n",
    "                info_sum = pd.concat([info_sum,product_info], ignore_index=True, sort=False)\n",
    "        length = len(info_sum)\n",
    "        del_lst = []\n",
    "\n",
    "        for info_idx in range(length):\n",
    "            t_name = info_sum['brand'][info_idx]\n",
    "            tm_name = info_sum['tmallname'][info_idx]\n",
    "            t_name = t_name.upper()\n",
    "            t_name = re.sub(r'[^a-zA-Z0-9\\u4e00-\\u9fff]' , '', t_name)\n",
    "            uid = info_sum['uid'][info_idx]\n",
    "            bid = info_sum['bid'][info_idx]\n",
    "            post_info = pd.read_csv('product_name/'+ str(list_num)+'/'+str(uid)+'_prodname.csv',index_col=None)\n",
    "            brand_id = post_info['品牌'][post_info[post_info['bid'] == bid].index.tolist()[0]]\n",
    "            name_lst = brand_df['name'][brand_df['id'] == brand_id].tolist()\n",
    "            result = 0\n",
    "            for name in name_lst:\n",
    "                name = re.sub(r'[^a-zA-Z0-9\\u4e00-\\u9fff]' , '', name)\n",
    "                if all(elem in list(t_name) for elem in list(name)):\n",
    "                    result = 1\n",
    "                    break\n",
    "            if not any(elem in tm_name for elem in end_words):\n",
    "                result = 0\n",
    "            if result == 0:\n",
    "                del_lst.append(info_idx)\n",
    "                \n",
    "        info_sum = info_sum.drop(del_lst)\n",
    "        info_sum.to_csv('cleaned_product_info/result_uid'+str(list_num)+'.csv', encoding = \"utf_8_sig\")\n",
    "        \n",
    "    except Exception as e:\n",
    "        print(e)"
   ]
  }
 ],
 "metadata": {
  "kernelspec": {
   "display_name": "Python 3",
   "language": "python",
   "name": "python3"
  },
  "language_info": {
   "codemirror_mode": {
    "name": "ipython",
    "version": 3
   },
   "file_extension": ".py",
   "mimetype": "text/x-python",
   "name": "python",
   "nbconvert_exporter": "python",
   "pygments_lexer": "ipython3",
   "version": "3.7.3"
  }
 },
 "nbformat": 4,
 "nbformat_minor": 2
}

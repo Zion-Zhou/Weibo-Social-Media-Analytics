{
 "cells": [
  {
   "cell_type": "code",
   "execution_count": 13,
   "metadata": {},
   "outputs": [],
   "source": [
    "import pandas as pd"
   ]
  },
  {
   "cell_type": "code",
   "execution_count": 14,
   "metadata": {},
   "outputs": [],
   "source": [
    "from IPython.core.interactiveshell import InteractiveShell \n",
    "InteractiveShell.ast_node_interactivity = 'all'"
   ]
  },
  {
   "cell_type": "code",
   "execution_count": 15,
   "metadata": {},
   "outputs": [],
   "source": [
    "num_list = [0,100,200,300,400,500,600,708]\n",
    "data_total = pd.DataFrame()\n",
    "\n",
    "for i in range(len(num_list)-1):\n",
    "    path = 'data_' + str(num_list[i]) + '-' + str(num_list[i+1]) + '.csv'\n",
    "    data = pd.read_csv(path)\n",
    "    data_total = pd.concat([data_total,data])"
   ]
  },
  {
   "cell_type": "code",
   "execution_count": 16,
   "metadata": {},
   "outputs": [],
   "source": [
    "num_list = [0,100,200,300,400,500,600,708]\n",
    "rmv_total = pd.DataFrame()\n",
    "for i in range(len(num_list)-1):\n",
    "    path = 'rmv_' + str(num_list[i]) + '-' + str(num_list[i+1]) + '.csv'\n",
    "    data = pd.read_csv(path)\n",
    "    rmv_total= pd.concat([rmv_total,data])"
   ]
  },
  {
   "cell_type": "code",
   "execution_count": 17,
   "metadata": {},
   "outputs": [
    {
     "data": {
      "text/html": [
       "<div>\n",
       "<style scoped>\n",
       "    .dataframe tbody tr th:only-of-type {\n",
       "        vertical-align: middle;\n",
       "    }\n",
       "\n",
       "    .dataframe tbody tr th {\n",
       "        vertical-align: top;\n",
       "    }\n",
       "\n",
       "    .dataframe thead th {\n",
       "        text-align: right;\n",
       "    }\n",
       "</style>\n",
       "<table border=\"1\" class=\"dataframe\">\n",
       "  <thead>\n",
       "    <tr style=\"text-align: right;\">\n",
       "      <th></th>\n",
       "      <th>name</th>\n",
       "      <th>uid</th>\n",
       "      <th>gender</th>\n",
       "      <th>region</th>\n",
       "      <th>tag</th>\n",
       "      <th>follows</th>\n",
       "      <th>fans</th>\n",
       "      <th>posts</th>\n",
       "      <th>brandsCN</th>\n",
       "      <th>brandsEN</th>\n",
       "    </tr>\n",
       "  </thead>\n",
       "  <tbody>\n",
       "    <tr>\n",
       "      <th>0</th>\n",
       "      <td>井田志Gridnote</td>\n",
       "      <td>5619422243</td>\n",
       "      <td>male</td>\n",
       "      <td>北京</td>\n",
       "      <td>['原本一生（北京）商业有限公司']</td>\n",
       "      <td>363</td>\n",
       "      <td>3487</td>\n",
       "      <td>494</td>\n",
       "      <td>井田</td>\n",
       "      <td>CANMAKE</td>\n",
       "    </tr>\n",
       "    <tr>\n",
       "      <th>1</th>\n",
       "      <td>宝拉珍选PaulasChoice</td>\n",
       "      <td>2040921197</td>\n",
       "      <td>female</td>\n",
       "      <td>上海</td>\n",
       "      <td>['美国宝拉珍选化妆品官方微博']</td>\n",
       "      <td>271</td>\n",
       "      <td>26万</td>\n",
       "      <td>7286</td>\n",
       "      <td>宝拉珍选</td>\n",
       "      <td>PAULA‘S CHOICE</td>\n",
       "    </tr>\n",
       "    <tr>\n",
       "      <th>2</th>\n",
       "      <td>理肤泉larocheposay</td>\n",
       "      <td>2051652844</td>\n",
       "      <td>female</td>\n",
       "      <td>海外</td>\n",
       "      <td>['理肤泉larocheposay', '官方微博']</td>\n",
       "      <td>68</td>\n",
       "      <td>20万</td>\n",
       "      <td>6883</td>\n",
       "      <td>理肤泉</td>\n",
       "      <td>LAROCHE POSAY</td>\n",
       "    </tr>\n",
       "    <tr>\n",
       "      <th>3</th>\n",
       "      <td>红门雅顿</td>\n",
       "      <td>1791154147</td>\n",
       "      <td>female</td>\n",
       "      <td>海外</td>\n",
       "      <td>['伊丽莎白雅顿官方微博']</td>\n",
       "      <td>268</td>\n",
       "      <td>25万</td>\n",
       "      <td>1万</td>\n",
       "      <td>雅顿</td>\n",
       "      <td>ELIZABETH ARDEN</td>\n",
       "    </tr>\n",
       "    <tr>\n",
       "      <th>4</th>\n",
       "      <td>Curel珂润</td>\n",
       "      <td>2460538310</td>\n",
       "      <td>female</td>\n",
       "      <td>海外</td>\n",
       "      <td>['花王Curel珂润官方微博']</td>\n",
       "      <td>149</td>\n",
       "      <td>6万</td>\n",
       "      <td>6928</td>\n",
       "      <td>珂润</td>\n",
       "      <td>CUREL</td>\n",
       "    </tr>\n",
       "  </tbody>\n",
       "</table>\n",
       "</div>"
      ],
      "text/plain": [
       "               name         uid  gender region                          tag  \\\n",
       "0       井田志Gridnote  5619422243    male     北京           ['原本一生（北京）商业有限公司']   \n",
       "1  宝拉珍选PaulasChoice  2040921197  female     上海            ['美国宝拉珍选化妆品官方微博']   \n",
       "2   理肤泉larocheposay  2051652844  female     海外  ['理肤泉larocheposay', '官方微博']   \n",
       "3              红门雅顿  1791154147  female     海外               ['伊丽莎白雅顿官方微博']   \n",
       "4           Curel珂润  2460538310  female     海外            ['花王Curel珂润官方微博']   \n",
       "\n",
       "  follows  fans posts brandsCN         brandsEN  \n",
       "0     363  3487   494       井田          CANMAKE  \n",
       "1     271   26万  7286     宝拉珍选   PAULA‘S CHOICE  \n",
       "2      68   20万  6883      理肤泉    LAROCHE POSAY  \n",
       "3     268   25万    1万       雅顿  ELIZABETH ARDEN  \n",
       "4     149    6万  6928       珂润            CUREL  "
      ]
     },
     "execution_count": 17,
     "metadata": {},
     "output_type": "execute_result"
    },
    {
     "data": {
      "text/plain": [
       "517"
      ]
     },
     "execution_count": 17,
     "metadata": {},
     "output_type": "execute_result"
    },
    {
     "data": {
      "text/html": [
       "<div>\n",
       "<style scoped>\n",
       "    .dataframe tbody tr th:only-of-type {\n",
       "        vertical-align: middle;\n",
       "    }\n",
       "\n",
       "    .dataframe tbody tr th {\n",
       "        vertical-align: top;\n",
       "    }\n",
       "\n",
       "    .dataframe thead th {\n",
       "        text-align: right;\n",
       "    }\n",
       "</style>\n",
       "<table border=\"1\" class=\"dataframe\">\n",
       "  <thead>\n",
       "    <tr style=\"text-align: right;\">\n",
       "      <th></th>\n",
       "      <th>CN</th>\n",
       "      <th>EN</th>\n",
       "    </tr>\n",
       "  </thead>\n",
       "  <tbody>\n",
       "    <tr>\n",
       "      <th>0</th>\n",
       "      <td>NaN</td>\n",
       "      <td>MILANI</td>\n",
       "    </tr>\n",
       "    <tr>\n",
       "      <th>1</th>\n",
       "      <td>NaN</td>\n",
       "      <td>LACURA</td>\n",
       "    </tr>\n",
       "    <tr>\n",
       "      <th>2</th>\n",
       "      <td>NaN</td>\n",
       "      <td>SMASHBOX</td>\n",
       "    </tr>\n",
       "    <tr>\n",
       "      <th>3</th>\n",
       "      <td>NaN</td>\n",
       "      <td>SANA EXCEL</td>\n",
       "    </tr>\n",
       "    <tr>\n",
       "      <th>4</th>\n",
       "      <td>NaN</td>\n",
       "      <td>MARIO BADESCU SKIN CARE</td>\n",
       "    </tr>\n",
       "  </tbody>\n",
       "</table>\n",
       "</div>"
      ],
      "text/plain": [
       "    CN                       EN\n",
       "0  NaN                   MILANI\n",
       "1  NaN                   LACURA\n",
       "2  NaN                 SMASHBOX\n",
       "3  NaN               SANA EXCEL\n",
       "4  NaN  MARIO BADESCU SKIN CARE"
      ]
     },
     "execution_count": 17,
     "metadata": {},
     "output_type": "execute_result"
    },
    {
     "data": {
      "text/plain": [
       "142"
      ]
     },
     "execution_count": 17,
     "metadata": {},
     "output_type": "execute_result"
    }
   ],
   "source": [
    "data_total = data_total.loc[:, ~data_total.columns.str.contains('^Unnamed')]\n",
    "data_total.head()\n",
    "len(data_total)\n",
    "\n",
    "rmv_total = rmv_total.loc[:, ~rmv_total.columns.str.contains('^Unnamed')]\n",
    "rmv_total.head()\n",
    "len(rmv_total)"
   ]
  },
  {
   "cell_type": "code",
   "execution_count": 18,
   "metadata": {},
   "outputs": [],
   "source": [
    "rmv_total.to_csv('rmv_total.csv', encoding = 'utf_8_sig')\n",
    "data.to_csv('total_data.csv', encoding = 'utf_8_sig')"
   ]
  },
  {
   "cell_type": "code",
   "execution_count": 21,
   "metadata": {},
   "outputs": [
    {
     "data": {
      "text/html": [
       "<div>\n",
       "<style scoped>\n",
       "    .dataframe tbody tr th:only-of-type {\n",
       "        vertical-align: middle;\n",
       "    }\n",
       "\n",
       "    .dataframe tbody tr th {\n",
       "        vertical-align: top;\n",
       "    }\n",
       "\n",
       "    .dataframe thead th {\n",
       "        text-align: right;\n",
       "    }\n",
       "</style>\n",
       "<table border=\"1\" class=\"dataframe\">\n",
       "  <thead>\n",
       "    <tr style=\"text-align: right;\">\n",
       "      <th></th>\n",
       "      <th>brand_name</th>\n",
       "      <th>brand_name_split</th>\n",
       "      <th>brandCN</th>\n",
       "      <th>brandEN</th>\n",
       "    </tr>\n",
       "  </thead>\n",
       "  <tbody>\n",
       "    <tr>\n",
       "      <th>0</th>\n",
       "      <td>canmake/井田</td>\n",
       "      <td>['canmake', '井田']</td>\n",
       "      <td>井田</td>\n",
       "      <td>canmake</td>\n",
       "    </tr>\n",
       "    <tr>\n",
       "      <th>1</th>\n",
       "      <td>SUQQU</td>\n",
       "      <td>['SUQQU']</td>\n",
       "      <td>NaN</td>\n",
       "      <td>SUQQU</td>\n",
       "    </tr>\n",
       "    <tr>\n",
       "      <th>2</th>\n",
       "      <td>three</td>\n",
       "      <td>['three']</td>\n",
       "      <td>NaN</td>\n",
       "      <td>three</td>\n",
       "    </tr>\n",
       "    <tr>\n",
       "      <th>3</th>\n",
       "      <td>Paula‘s Choice/宝拉珍选</td>\n",
       "      <td>['Paula‘s Choice', '宝拉珍选']</td>\n",
       "      <td>宝拉珍选</td>\n",
       "      <td>Paula‘s Choice</td>\n",
       "    </tr>\n",
       "    <tr>\n",
       "      <th>4</th>\n",
       "      <td>Laroche Posay/理肤泉</td>\n",
       "      <td>['Laroche Posay', '理肤泉']</td>\n",
       "      <td>理肤泉</td>\n",
       "      <td>Laroche Posay</td>\n",
       "    </tr>\n",
       "  </tbody>\n",
       "</table>\n",
       "</div>"
      ],
      "text/plain": [
       "            brand_name            brand_name_split brandCN         brandEN\n",
       "0           canmake/井田           ['canmake', '井田']      井田         canmake\n",
       "1                SUQQU                   ['SUQQU']     NaN           SUQQU\n",
       "2                three                   ['three']     NaN           three\n",
       "3  Paula‘s Choice/宝拉珍选  ['Paula‘s Choice', '宝拉珍选']    宝拉珍选  Paula‘s Choice\n",
       "4    Laroche Posay/理肤泉    ['Laroche Posay', '理肤泉']     理肤泉   Laroche Posay"
      ]
     },
     "execution_count": 21,
     "metadata": {},
     "output_type": "execute_result"
    }
   ],
   "source": [
    "brands = pd.read_csv('708brands.csv', index_col = 0)\n",
    "brands.head()"
   ]
  },
  {
   "cell_type": "code",
   "execution_count": 24,
   "metadata": {},
   "outputs": [],
   "source": [
    "list_cn = data_total['brandsCN'][pd.notnull(data_total['brandsCN'])].tolist() + rmv_total['CN'][pd.notnull(rmv_total['CN'])].tolist()\n",
    "list_en = data_total['brandsEN'][pd.notnull(data_total['brandsEN'])].tolist() + rmv_total['EN'][pd.notnull(rmv_total['EN'])].tolist()"
   ]
  },
  {
   "cell_type": "code",
   "execution_count": 25,
   "metadata": {},
   "outputs": [],
   "source": [
    "list_loss = []\n",
    "for i in range(len(brands)):\n",
    "    result = 0\n",
    "    lost_dict = {}\n",
    "    \n",
    "    if pd.isnull(brands['brandCN'][i]):\n",
    "        result += 1\n",
    "    else:\n",
    "        if brands['brandCN'][i] not in list_cn:\n",
    "            result += 1\n",
    "            \n",
    "    if pd.isnull(brands['brandEN'][i]):\n",
    "        result += 1\n",
    "    else:\n",
    "        if brands['brandEN'][i] not in list_en:\n",
    "            result += 1\n",
    "            \n",
    "    if result == 2:\n",
    "        lost_dict['brandCN'] = brands['brandCN'][i]\n",
    "        lost_dict['brandEN'] = brands['brandEN'][i]\n",
    "        list_loss.append(lost_dict)"
   ]
  },
  {
   "cell_type": "code",
   "execution_count": 27,
   "metadata": {},
   "outputs": [
    {
     "data": {
      "text/html": [
       "<div>\n",
       "<style scoped>\n",
       "    .dataframe tbody tr th:only-of-type {\n",
       "        vertical-align: middle;\n",
       "    }\n",
       "\n",
       "    .dataframe tbody tr th {\n",
       "        vertical-align: top;\n",
       "    }\n",
       "\n",
       "    .dataframe thead th {\n",
       "        text-align: right;\n",
       "    }\n",
       "</style>\n",
       "<table border=\"1\" class=\"dataframe\">\n",
       "  <thead>\n",
       "    <tr style=\"text-align: right;\">\n",
       "      <th></th>\n",
       "      <th>brandCN</th>\n",
       "      <th>brandEN</th>\n",
       "    </tr>\n",
       "  </thead>\n",
       "  <tbody>\n",
       "    <tr>\n",
       "      <th>0</th>\n",
       "      <td>NaN</td>\n",
       "      <td>three</td>\n",
       "    </tr>\n",
       "    <tr>\n",
       "      <th>1</th>\n",
       "      <td>NaN</td>\n",
       "      <td>rimmel</td>\n",
       "    </tr>\n",
       "    <tr>\n",
       "      <th>2</th>\n",
       "      <td>NaN</td>\n",
       "      <td>Milani</td>\n",
       "    </tr>\n",
       "    <tr>\n",
       "      <th>3</th>\n",
       "      <td>NaN</td>\n",
       "      <td>blings</td>\n",
       "    </tr>\n",
       "    <tr>\n",
       "      <th>4</th>\n",
       "      <td>NaN</td>\n",
       "      <td>lacura</td>\n",
       "    </tr>\n",
       "  </tbody>\n",
       "</table>\n",
       "</div>"
      ],
      "text/plain": [
       "  brandCN brandEN\n",
       "0     NaN   three\n",
       "1     NaN  rimmel\n",
       "2     NaN  Milani\n",
       "3     NaN  blings\n",
       "4     NaN  lacura"
      ]
     },
     "execution_count": 27,
     "metadata": {},
     "output_type": "execute_result"
    },
    {
     "data": {
      "text/plain": [
       "177"
      ]
     },
     "execution_count": 27,
     "metadata": {},
     "output_type": "execute_result"
    }
   ],
   "source": [
    "df_loss = pd.DataFrame(list_loss)\n",
    "df_loss.head()\n",
    "len(df_loss)"
   ]
  }
 ],
 "metadata": {
  "kernelspec": {
   "display_name": "Python 3",
   "language": "python",
   "name": "python3"
  },
  "language_info": {
   "codemirror_mode": {
    "name": "ipython",
    "version": 3
   },
   "file_extension": ".py",
   "mimetype": "text/x-python",
   "name": "python",
   "nbconvert_exporter": "python",
   "pygments_lexer": "ipython3",
   "version": "3.7.3"
  }
 },
 "nbformat": 4,
 "nbformat_minor": 2
}

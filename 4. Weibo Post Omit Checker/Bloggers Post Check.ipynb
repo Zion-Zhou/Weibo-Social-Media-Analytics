{
 "cells": [
  {
   "cell_type": "code",
   "execution_count": 1,
   "metadata": {},
   "outputs": [],
   "source": [
    "import pandas as pd\n",
    "import numpy as np\n",
    "from tqdm import tqdm\n",
    "uid_list = pd.read_csv('finalized_2788bloggers.csv')"
   ]
  },
  {
   "cell_type": "code",
   "execution_count": 2,
   "metadata": {},
   "outputs": [
    {
     "data": {
      "text/html": [
       "<div>\n",
       "<style scoped>\n",
       "    .dataframe tbody tr th:only-of-type {\n",
       "        vertical-align: middle;\n",
       "    }\n",
       "\n",
       "    .dataframe tbody tr th {\n",
       "        vertical-align: top;\n",
       "    }\n",
       "\n",
       "    .dataframe thead th {\n",
       "        text-align: right;\n",
       "    }\n",
       "</style>\n",
       "<table border=\"1\" class=\"dataframe\">\n",
       "  <thead>\n",
       "    <tr style=\"text-align: right;\">\n",
       "      <th></th>\n",
       "      <th>id</th>\n",
       "      <th>name</th>\n",
       "      <th>uid</th>\n",
       "      <th>gender</th>\n",
       "      <th>region</th>\n",
       "      <th>tag</th>\n",
       "      <th>follows</th>\n",
       "      <th>fans</th>\n",
       "      <th>posts</th>\n",
       "    </tr>\n",
       "  </thead>\n",
       "  <tbody>\n",
       "    <tr>\n",
       "      <th>0</th>\n",
       "      <td>1</td>\n",
       "      <td>小米苏酥</td>\n",
       "      <td>87768787</td>\n",
       "      <td>female</td>\n",
       "      <td>海外</td>\n",
       "      <td>NaN</td>\n",
       "      <td>594</td>\n",
       "      <td>510000</td>\n",
       "      <td>10000</td>\n",
       "    </tr>\n",
       "    <tr>\n",
       "      <th>1</th>\n",
       "      <td>2</td>\n",
       "      <td>萌大雨YUYU</td>\n",
       "      <td>1011269330</td>\n",
       "      <td>female</td>\n",
       "      <td>其他</td>\n",
       "      <td>时尚达人, 知名美妆博主, 时尚美妆视频自媒体</td>\n",
       "      <td>57</td>\n",
       "      <td>3870000</td>\n",
       "      <td>1343</td>\n",
       "    </tr>\n",
       "    <tr>\n",
       "      <th>2</th>\n",
       "      <td>3</td>\n",
       "      <td>missfaye</td>\n",
       "      <td>1032937413</td>\n",
       "      <td>female</td>\n",
       "      <td>北京</td>\n",
       "      <td>时尚达人, 知名时尚博主, 微博尤物志合作达人</td>\n",
       "      <td>1467</td>\n",
       "      <td>800000</td>\n",
       "      <td>20000</td>\n",
       "    </tr>\n",
       "    <tr>\n",
       "      <th>3</th>\n",
       "      <td>4</td>\n",
       "      <td>kittywenny</td>\n",
       "      <td>1036701494</td>\n",
       "      <td>female</td>\n",
       "      <td>上海</td>\n",
       "      <td>资深时尚美容达人, 微博尤物志合作达人, 微博vlog博主, 微博签约自媒体</td>\n",
       "      <td>986</td>\n",
       "      <td>1390000</td>\n",
       "      <td>7502</td>\n",
       "    </tr>\n",
       "    <tr>\n",
       "      <th>4</th>\n",
       "      <td>5</td>\n",
       "      <td>羽晗winnie</td>\n",
       "      <td>1039619890</td>\n",
       "      <td>female</td>\n",
       "      <td>北京</td>\n",
       "      <td>知名旅行玩家美食达人, 微博vlog博主, 知名时尚博主, 头条文章作者, 微博签约自媒体</td>\n",
       "      <td>321</td>\n",
       "      <td>3940000</td>\n",
       "      <td>1195</td>\n",
       "    </tr>\n",
       "  </tbody>\n",
       "</table>\n",
       "</div>"
      ],
      "text/plain": [
       "   id        name         uid  gender region  \\\n",
       "0   1        小米苏酥    87768787  female     海外   \n",
       "1   2     萌大雨YUYU  1011269330  female     其他   \n",
       "2   3    missfaye  1032937413  female     北京   \n",
       "3   4  kittywenny  1036701494  female     上海   \n",
       "4   5    羽晗winnie  1039619890  female     北京   \n",
       "\n",
       "                                             tag  follows     fans  posts  \n",
       "0                                            NaN      594   510000  10000  \n",
       "1                        时尚达人, 知名美妆博主, 时尚美妆视频自媒体       57  3870000   1343  \n",
       "2                        时尚达人, 知名时尚博主, 微博尤物志合作达人     1467   800000  20000  \n",
       "3         资深时尚美容达人, 微博尤物志合作达人, 微博vlog博主, 微博签约自媒体      986  1390000   7502  \n",
       "4  知名旅行玩家美食达人, 微博vlog博主, 知名时尚博主, 头条文章作者, 微博签约自媒体      321  3940000   1195  "
      ]
     },
     "execution_count": 2,
     "metadata": {},
     "output_type": "execute_result"
    }
   ],
   "source": [
    "uid_list.head()"
   ]
  },
  {
   "cell_type": "code",
   "execution_count": 3,
   "metadata": {},
   "outputs": [
    {
     "name": "stderr",
     "output_type": "stream",
     "text": [
      " 71%|███████▏  | 10/14 [00:15<00:06,  1.50s/it]/Applications/anaconda3/lib/python3.7/site-packages/IPython/core/interactiveshell.py:3057: DtypeWarning: Columns (5,11) have mixed types. Specify dtype option on import or set low_memory=False.\n",
      "  interactivity=interactivity, compiler=compiler, result=result)\n",
      "100%|██████████| 14/14 [00:22<00:00,  1.62s/it]\n"
     ]
    }
   ],
   "source": [
    "# check the number of bloggers whose posts haven't been crawled for multiple reasons\n",
    "\n",
    "nopost_uid = {}\n",
    "\n",
    "for i in tqdm(range(len(uid_list)//200+1)):\n",
    "    tmp = []\n",
    "    \n",
    "    if i != 13:\n",
    "        sub_list = uid_list['uid'][i*200:(i+1)*200] \n",
    "    else:\n",
    "        sub_list = uid_list['uid'][i*200:]\n",
    "        \n",
    "    for uid in sub_list:\n",
    "        \n",
    "        path = str(i) + '/' + str(uid) + '/' + str(uid) + '.csv'\n",
    "        \n",
    "        try:\n",
    "            test = pd.read_csv(path)\n",
    "        except:\n",
    "            tmp.append(uid)\n",
    "            \n",
    "        nopost_uid[i] = tmp"
   ]
  },
  {
   "cell_type": "code",
   "execution_count": 4,
   "metadata": {},
   "outputs": [
    {
     "name": "stderr",
     "output_type": "stream",
     "text": [
      "100%|██████████| 14/14 [00:00<00:00, 112.58it/s]\n"
     ]
    }
   ],
   "source": [
    "# update the blogger uid lists\n",
    "\n",
    "for i in tqdm(range(14)):\n",
    "    inpath = 'uid_list/uid_list' + str(i) + '.csv'\n",
    "    tmp = pd.read_csv(inpath, header = None)\n",
    "    tmp.columns = ['uid']\n",
    "    \n",
    "    rmvlst = nopost_uid[i]\n",
    "    \n",
    "    for j in rmvlst:\n",
    "        tmp = tmp[~tmp['uid'].isin([j])]\n",
    "        \n",
    "    outpath = 'final_uid_list/final_uid_list' + str(i) + '.csv'\n",
    "    tmp.to_csv(outpath, header = None)"
   ]
  }
 ],
 "metadata": {
  "kernelspec": {
   "display_name": "Python 3",
   "language": "python",
   "name": "python3"
  },
  "language_info": {
   "codemirror_mode": {
    "name": "ipython",
    "version": 3
   },
   "file_extension": ".py",
   "mimetype": "text/x-python",
   "name": "python",
   "nbconvert_exporter": "python",
   "pygments_lexer": "ipython3",
   "version": "3.7.3"
  }
 },
 "nbformat": 4,
 "nbformat_minor": 2
}
